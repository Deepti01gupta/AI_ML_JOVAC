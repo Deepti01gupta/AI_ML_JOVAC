{
 "cells": [
  {
   "cell_type": "markdown",
   "id": "3288756c",
   "metadata": {},
   "source": [
    "STRING OPERATION:\n",
    "\n",
    "1. String formatting\n",
    "    -> +\n",
    "    -> %s, %d\n",
    "    -> format functions\n",
    "    -> f-Strings\n",
    "2. strip: Remove white spaces from the string\n",
    "3. split\n",
    "4. replace: replace all occurances in a string by a new one\n",
    "5. count: count the number of occurances of a string within a string\n",
    "\n",
    "\n",
    "NOTE: python does not have any data type as character"
   ]
  },
  {
   "cell_type": "code",
   "execution_count": 1,
   "id": "13b02c0f",
   "metadata": {},
   "outputs": [
    {
     "name": "stdout",
     "output_type": "stream",
     "text": [
      "hello\n"
     ]
    }
   ],
   "source": [
    "st=\"hello\"\n",
    "print(st)"
   ]
  },
  {
   "cell_type": "code",
   "execution_count": 2,
   "id": "394dfa18",
   "metadata": {},
   "outputs": [
    {
     "name": "stdout",
     "output_type": "stream",
     "text": [
      "['h', 'e', 'l', 'l', 'o']\n"
     ]
    }
   ],
   "source": [
    "l=list(st)\n",
    "print(l)"
   ]
  },
  {
   "cell_type": "code",
   "execution_count": 3,
   "id": "88aa136a",
   "metadata": {},
   "outputs": [
    {
     "data": {
      "text/plain": [
       "('h', 'l')"
      ]
     },
     "execution_count": 3,
     "metadata": {},
     "output_type": "execute_result"
    }
   ],
   "source": [
    "st[0],st[3]"
   ]
  },
  {
   "cell_type": "code",
   "execution_count": 4,
   "id": "fba2f6e6",
   "metadata": {},
   "outputs": [
    {
     "name": "stdout",
     "output_type": "stream",
     "text": [
      "h\n",
      "e\n",
      "l\n",
      "l\n",
      "o\n"
     ]
    }
   ],
   "source": [
    "for ch in st:\n",
    "    print(ch)"
   ]
  },
  {
   "cell_type": "code",
   "execution_count": 5,
   "id": "bc8d2d63",
   "metadata": {},
   "outputs": [
    {
     "data": {
      "text/plain": [
       "'el'"
      ]
     },
     "execution_count": 5,
     "metadata": {},
     "output_type": "execute_result"
    }
   ],
   "source": [
    "st[1:3]"
   ]
  },
  {
   "cell_type": "code",
   "execution_count": 6,
   "id": "51d2933e",
   "metadata": {},
   "outputs": [
    {
     "name": "stdout",
     "output_type": "stream",
     "text": [
      "True\n",
      "True\n"
     ]
    }
   ],
   "source": [
    "s1=\"hello\"\n",
    "s2=\"hello\"\n",
    "\n",
    "print(s1 is s2)\n",
    "print(id(s1)==id(s2))"
   ]
  },
  {
   "cell_type": "code",
   "execution_count": null,
   "id": "dd296ac2",
   "metadata": {},
   "outputs": [
    {
     "name": "stdout",
     "output_type": "stream",
     "text": [
      "Hello,\n",
      "how are you.\n",
      "nice to meet u.\n"
     ]
    }
   ],
   "source": [
    "# multiline string\n",
    "s1='''Hello,\n",
    "how are you.\n",
    "nice to meet u.'''\n",
    "print(s1)"
   ]
  },
  {
   "cell_type": "code",
   "execution_count": 9,
   "id": "6ca04a4b",
   "metadata": {},
   "outputs": [
    {
     "data": {
      "text/plain": [
       "'Hello,\\nhow are you.\\nnice to meet u.'"
      ]
     },
     "execution_count": 9,
     "metadata": {},
     "output_type": "execute_result"
    }
   ],
   "source": [
    "s1"
   ]
  },
  {
   "cell_type": "code",
   "execution_count": 12,
   "id": "57df08b3",
   "metadata": {},
   "outputs": [
    {
     "name": "stdout",
     "output_type": "stream",
     "text": [
      "h\n",
      "he\n",
      "hel\n",
      "hell\n",
      "hello\n",
      "e\n",
      "el\n",
      "ell\n",
      "ello\n",
      "l\n",
      "ll\n",
      "llo\n",
      "l\n",
      "lo\n",
      "o\n"
     ]
    }
   ],
   "source": [
    "s=\"hello\"\n",
    "for i in range(len(s)):\n",
    "    for j in range(i+1,len(s)+1):\n",
    "        print(s[i:j])"
   ]
  },
  {
   "cell_type": "code",
   "execution_count": 15,
   "id": "fa50d826",
   "metadata": {},
   "outputs": [
    {
     "name": "stdout",
     "output_type": "stream",
     "text": [
      "abcdef\n"
     ]
    }
   ],
   "source": [
    "s='abc'+'def'\n",
    "print(s)"
   ]
  },
  {
   "cell_type": "markdown",
   "id": "36b90291",
   "metadata": {},
   "source": [
    "STRING FORMATING:\n",
    " \n",
    "-> print(\"My name is: \" + name + \". My age is: \" + str(age))\n",
    "\n",
    "-> print(\"My name is: %s. My age is: %d\"%(name,age))\n",
    "\n",
    "-> print(\"My name is: {}. My age is: {}\".format(name,age))\n",
    "\n",
    "-> print(f\"My name is: {name}. My age is: {age}\")"
   ]
  },
  {
   "cell_type": "code",
   "execution_count": null,
   "id": "44fe45bd",
   "metadata": {},
   "outputs": [
    {
     "name": "stdout",
     "output_type": "stream",
     "text": [
      "My name is: Shubham. My age is: 27\n"
     ]
    }
   ],
   "source": [
    "name = \"Shubham\"\n",
    "age = 27\n",
    "print(\"My name is: \" + name + \". My age is: \" + str(age))"
   ]
  },
  {
   "cell_type": "code",
   "execution_count": 17,
   "id": "7bc0c1c7",
   "metadata": {},
   "outputs": [
    {
     "name": "stdout",
     "output_type": "stream",
     "text": [
      "My name is: Shubham. My age is: 27\n"
     ]
    }
   ],
   "source": [
    "name = \"Shubham\"\n",
    "age = 27\n",
    "print(\"My name is: %s. My age is: %d\"%(name,age))"
   ]
  },
  {
   "cell_type": "code",
   "execution_count": 18,
   "id": "a9a07648",
   "metadata": {},
   "outputs": [
    {
     "name": "stdout",
     "output_type": "stream",
     "text": [
      "My name is: Shubham. My age is: 27\n"
     ]
    }
   ],
   "source": [
    "name = \"Shubham\"\n",
    "age = 27\n",
    "print(\"My name is: {}. My age is: {}\".format(name,age))"
   ]
  },
  {
   "cell_type": "code",
   "execution_count": 19,
   "id": "66dad0b2",
   "metadata": {},
   "outputs": [
    {
     "name": "stdout",
     "output_type": "stream",
     "text": [
      "My name is: Shubham. My age is: 27\n"
     ]
    }
   ],
   "source": [
    "name = \"Shubham\"\n",
    "age = 27\n",
    "print(f\"My name is: {name}. My age is: {age}\")"
   ]
  },
  {
   "cell_type": "code",
   "execution_count": 20,
   "id": "38d967a5",
   "metadata": {},
   "outputs": [
    {
     "name": "stdout",
     "output_type": "stream",
     "text": [
      "My name is: 27. My age is: Shubham\n"
     ]
    }
   ],
   "source": [
    "print(\"My name is: {1}. My age is: {0}\".format(name,age))"
   ]
  },
  {
   "cell_type": "code",
   "execution_count": 21,
   "id": "ee07dc29",
   "metadata": {},
   "outputs": [
    {
     "name": "stdout",
     "output_type": "stream",
     "text": [
      "My name is: 27. My age is: Shubham\n"
     ]
    }
   ],
   "source": [
    "print(\"My name is: {a}. My age is: {n}\".format(n = name,a = age))"
   ]
  },
  {
   "cell_type": "markdown",
   "id": "9d3c76ec",
   "metadata": {},
   "source": [
    "strip() : use to remove whitespaces from left and right side\n",
    "lstrip() : use to remove whitespaces from left side\n",
    "rstrip() : use to remove whitespaces from right side"
   ]
  },
  {
   "cell_type": "code",
   "execution_count": 22,
   "id": "05c67e89",
   "metadata": {},
   "outputs": [
    {
     "name": "stdout",
     "output_type": "stream",
     "text": [
      "       the  sky is blue         \n",
      "the  sky is blue\n",
      "the  sky is blue         \n",
      "       the  sky is blue\n"
     ]
    }
   ],
   "source": [
    "s=\"       the  sky is blue         \"\n",
    "print(s)\n",
    "print(s.strip())\n",
    "print(s.lstrip())\n",
    "print(s.rstrip())"
   ]
  },
  {
   "cell_type": "code",
   "execution_count": 28,
   "id": "8ade07bf",
   "metadata": {},
   "outputs": [
    {
     "ename": "TypeError",
     "evalue": "'str' object does not support item assignment",
     "output_type": "error",
     "traceback": [
      "\u001b[31m---------------------------------------------------------------------------\u001b[39m",
      "\u001b[31mTypeError\u001b[39m                                 Traceback (most recent call last)",
      "\u001b[36mCell\u001b[39m\u001b[36m \u001b[39m\u001b[32mIn[28]\u001b[39m\u001b[32m, line 2\u001b[39m\n\u001b[32m      1\u001b[39m s=\u001b[33m\"\u001b[39m\u001b[33mhello\u001b[39m\u001b[33m\"\u001b[39m\n\u001b[32m----> \u001b[39m\u001b[32m2\u001b[39m \u001b[43ms\u001b[49m\u001b[43m[\u001b[49m\u001b[32;43m0\u001b[39;49m\u001b[43m]\u001b[49m=\u001b[33m'\u001b[39m\u001b[33mA\u001b[39m\u001b[33m'\u001b[39m\n",
      "\u001b[31mTypeError\u001b[39m: 'str' object does not support item assignment"
     ]
    }
   ],
   "source": [
    "s=\"hello\"\n",
    "s[0]='A'"
   ]
  },
  {
   "cell_type": "markdown",
   "id": "3696d6e8",
   "metadata": {},
   "source": [
    "capitalize() : use to make first character capital and rest in lowercase\n",
    "casefold() : use to convert all character in lowercase\n",
    "count() : use to count the occurance of the string in the given string\n",
    "find() : use to find the index of first occurance of the string\n",
    "index() : use to find the index of the first occurance of the string\n",
    "split() : use to split string on the basis of string/character given in bracket into list\n",
    "title() : use to make the first character of each string in uppercase\n",
    "join() : use to join list of string into string"
   ]
  },
  {
   "cell_type": "code",
   "execution_count": 23,
   "id": "fb2c2de5",
   "metadata": {},
   "outputs": [
    {
     "name": "stdout",
     "output_type": "stream",
     "text": [
      "Hello\n"
     ]
    }
   ],
   "source": [
    "s=\"hello\"\n",
    "print(s.capitalize())"
   ]
  },
  {
   "cell_type": "code",
   "execution_count": 24,
   "id": "779ff200",
   "metadata": {},
   "outputs": [
    {
     "name": "stdout",
     "output_type": "stream",
     "text": [
      "hello\n"
     ]
    }
   ],
   "source": [
    "s=\"HeLlo\"\n",
    "print(s.casefold())"
   ]
  },
  {
   "cell_type": "code",
   "execution_count": 26,
   "id": "c3e40790",
   "metadata": {},
   "outputs": [
    {
     "name": "stdout",
     "output_type": "stream",
     "text": [
      "6\n"
     ]
    }
   ],
   "source": [
    "s=\"hellohellollolllollollo\"\n",
    "print(s.count(\"llo\"))"
   ]
  },
  {
   "cell_type": "code",
   "execution_count": 29,
   "metadata": {},
   "outputs": [
    {
     "name": "stdout",
     "output_type": "stream",
     "text": [
      "2\n"
     ]
    }
   ],
   "source": [
    "s=\"hellohellollolllollollo\"\n",
    "print(s.find(\"llo\"))"
   ]
  },
  {
   "cell_type": "code",
   "execution_count": 31,
   "metadata": {},
   "outputs": [
    {
     "name": "stdout",
     "output_type": "stream",
     "text": [
      "4\n"
     ]
    }
   ],
   "source": [
    "s=\"hellohellollolllollollo\"\n",
    "print(s.index(\"oh\"))"
   ]
  },
  {
   "cell_type": "code",
   "execution_count": 32,
   "metadata": {},
   "outputs": [
    {
     "name": "stdout",
     "output_type": "stream",
     "text": [
      "['', '', 'the', 'sky', 'is', 'blue', '', '']\n"
     ]
    }
   ],
   "source": [
    "s=\"  the sky is blue  \"\n",
    "l=s.split(\" \")\n",
    "print(l)"
   ]
  },
  {
   "cell_type": "code",
   "execution_count": 34,
   "metadata": {},
   "outputs": [
    {
     "name": "stdout",
     "output_type": "stream",
     "text": [
      "The Sky Is Blue\n"
     ]
    }
   ],
   "source": [
    "s=\"the Sky is blUe\"\n",
    "print(s.title())"
   ]
  },
  {
   "cell_type": "code",
   "execution_count": 36,
   "id": "d796e68c",
   "metadata": {},
   "outputs": [
    {
     "name": "stdout",
     "output_type": "stream",
     "text": [
      "['0', '1', '2', '3', '4', '5', '6', '7', '8', '9']\n"
     ]
    }
   ],
   "source": [
    "l=[str(i) for i in range(10)]\n",
    "print(l)"
   ]
  },
  {
   "cell_type": "code",
   "execution_count": 38,
   "id": "c707e3db",
   "metadata": {},
   "outputs": [
    {
     "name": "stdout",
     "output_type": "stream",
     "text": [
      "0-1-2-3-4-5-6-7-8-9\n"
     ]
    }
   ],
   "source": [
    "print('-'.join(l))"
   ]
  },
  {
   "cell_type": "code",
   "execution_count": 40,
   "id": "cb1b15d6",
   "metadata": {},
   "outputs": [
    {
     "name": "stdout",
     "output_type": "stream",
     "text": [
      "blue is sky the\n"
     ]
    }
   ],
   "source": [
    "s=\"the sky is blue\"\n",
    "print(\" \".join(s.split(\" \")[::-1]))"
   ]
  },
  {
   "cell_type": "code",
   "execution_count": 39,
   "metadata": {},
   "outputs": [
    {
     "name": "stdout",
     "output_type": "stream",
     "text": [
      "eht yks si eulb\n"
     ]
    }
   ],
   "source": [
    "s=\"the sky is blue\"\n",
    "print(\" \".join( str(i)[::-1] for i in s.split(\" \")))"
   ]
  }
 ],
 "metadata": {
  "kernelspec": {
   "display_name": "Python 3",
   "language": "python",
   "name": "python3"
  },
  "language_info": {
   "codemirror_mode": {
    "name": "ipython",
    "version": 3
   },
   "file_extension": ".py",
   "mimetype": "text/x-python",
   "name": "python",
   "nbconvert_exporter": "python",
   "pygments_lexer": "ipython3",
   "version": "3.13.5"
  }
 },
 "nbformat": 4,
 "nbformat_minor": 5
}
