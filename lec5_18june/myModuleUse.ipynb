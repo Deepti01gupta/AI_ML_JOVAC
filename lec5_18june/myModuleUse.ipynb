{
 "cells": [
  {
   "cell_type": "code",
   "execution_count": 1,
   "id": "46cdcadb",
   "metadata": {},
   "outputs": [],
   "source": [
    "import math"
   ]
  },
  {
   "cell_type": "code",
   "execution_count": 2,
   "id": "1fc9884e",
   "metadata": {},
   "outputs": [
    {
     "name": "stdout",
     "output_type": "stream",
     "text": [
      "Hello!! Welcome to my Module\n",
      "bye execution\n"
     ]
    }
   ],
   "source": [
    "import myModule as mm"
   ]
  },
  {
   "cell_type": "code",
   "execution_count": 3,
   "id": "4aa6e263",
   "metadata": {},
   "outputs": [],
   "source": [
    "# print(myModule.a)\n",
    "# print(myModule.b)\n",
    "# print(myModule.fn())\n",
    "# print(myModule.A)\n"
   ]
  },
  {
   "cell_type": "code",
   "execution_count": 4,
   "id": "2533bc5b",
   "metadata": {},
   "outputs": [
    {
     "data": {
      "text/plain": [
       "myModule.A"
      ]
     },
     "execution_count": 4,
     "metadata": {},
     "output_type": "execute_result"
    }
   ],
   "source": [
    "mm.A"
   ]
  },
  {
   "cell_type": "code",
   "execution_count": 5,
   "id": "3da248fe",
   "metadata": {},
   "outputs": [
    {
     "data": {
      "text/plain": [
       "'Hello'"
      ]
     },
     "execution_count": 5,
     "metadata": {},
     "output_type": "execute_result"
    }
   ],
   "source": [
    "mm.b"
   ]
  },
  {
   "cell_type": "code",
   "execution_count": 6,
   "id": "551c6564",
   "metadata": {},
   "outputs": [],
   "source": [
    "from myModule import A"
   ]
  },
  {
   "cell_type": "code",
   "execution_count": 7,
   "id": "7666fb4b",
   "metadata": {},
   "outputs": [
    {
     "data": {
      "text/plain": [
       "myModule.A"
      ]
     },
     "execution_count": 7,
     "metadata": {},
     "output_type": "execute_result"
    }
   ],
   "source": [
    "mm.A"
   ]
  },
  {
   "cell_type": "code",
   "execution_count": 8,
   "id": "d1fe6bf2",
   "metadata": {},
   "outputs": [],
   "source": [
    "from myModule import fn"
   ]
  },
  {
   "cell_type": "code",
   "execution_count": 9,
   "id": "0efed866",
   "metadata": {},
   "outputs": [
    {
     "data": {
      "text/plain": [
       "30"
      ]
     },
     "execution_count": 9,
     "metadata": {},
     "output_type": "execute_result"
    }
   ],
   "source": [
    "mm.fn()"
   ]
  },
  {
   "cell_type": "code",
   "execution_count": 10,
   "id": "b5673db4",
   "metadata": {},
   "outputs": [],
   "source": [
    "from myModule import *"
   ]
  },
  {
   "cell_type": "code",
   "execution_count": 11,
   "id": "4f23c78f",
   "metadata": {},
   "outputs": [
    {
     "data": {
      "text/plain": [
       "<module 'myModule' from 'd:\\\\vs_code\\\\lec5_18june\\\\myModule.py'>"
      ]
     },
     "execution_count": 11,
     "metadata": {},
     "output_type": "execute_result"
    }
   ],
   "source": [
    "mm"
   ]
  },
  {
   "cell_type": "code",
   "execution_count": 12,
   "id": "8803829e",
   "metadata": {},
   "outputs": [
    {
     "data": {
      "text/plain": [
       "'myModule'"
      ]
     },
     "execution_count": 12,
     "metadata": {},
     "output_type": "execute_result"
    }
   ],
   "source": [
    "mm.__name__"
   ]
  },
  {
   "cell_type": "code",
   "execution_count": null,
   "id": "2d9c9819",
   "metadata": {},
   "outputs": [],
   "source": []
  },
  {
   "cell_type": "code",
   "execution_count": null,
   "id": "9d4fa737",
   "metadata": {},
   "outputs": [],
   "source": []
  },
  {
   "cell_type": "code",
   "execution_count": null,
   "id": "a8433395",
   "metadata": {},
   "outputs": [],
   "source": []
  }
 ],
 "metadata": {
  "kernelspec": {
   "display_name": "Python 3",
   "language": "python",
   "name": "python3"
  },
  "language_info": {
   "codemirror_mode": {
    "name": "ipython",
    "version": 3
   },
   "file_extension": ".py",
   "mimetype": "text/x-python",
   "name": "python",
   "nbconvert_exporter": "python",
   "pygments_lexer": "ipython3",
   "version": "3.13.5"
  }
 },
 "nbformat": 4,
 "nbformat_minor": 5
}
