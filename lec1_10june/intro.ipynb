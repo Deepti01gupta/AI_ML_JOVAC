{
 "cells": [
  {
   "cell_type": "markdown",
   "id": "1a3b9cc0",
   "metadata": {},
   "source": [
    "DATA:\n",
    "It is a collection of facts, measurements, observations, or words that can be used to generate information."
   ]
  },
  {
   "cell_type": "markdown",
   "id": "7f509c17",
   "metadata": {},
   "source": [
    "SCIENCE:\n",
    "The systematic study of the structure and behaviour of the physical and natural world through observation."
   ]
  },
  {
   "cell_type": "markdown",
   "id": "e48be4ea",
   "metadata": {},
   "source": [
    "DATA SCIENCE:\n",
    "Data science is the study of the data to extract knowledge and make informed decisions to help with business growth."
   ]
  },
  {
   "cell_type": "markdown",
   "id": "e43b422e",
   "metadata": {},
   "source": [
    "PROJECTS USEAGE:\n",
    "-> social analytics\n",
    "-> improving e-commerce experience\n",
    "-> optimizing rides\n",
    "-> increasing customer experience\n",
    "-> improving searches\n",
    "-> music recommendation"
   ]
  },
  {
   "cell_type": "markdown",
   "id": "244991de",
   "metadata": {},
   "source": [
    "PIPELINE:\n",
    "1. Understand the problem statement\n",
    "2. Data acqisition: scrapy, google api, twitter api...\n",
    "3. Data preprocessing: image, music, tabular, words\n",
    "4. Exploratory data analysis: visualization, statistical analysis\n",
    "5. Machine learning\n",
    "6. Final insights"
   ]
  },
  {
   "cell_type": "markdown",
   "id": "78c14e3a",
   "metadata": {},
   "source": [
    "DATA SCIENCE CAREERS:\n",
    "1. Data Scientists\n",
    "2. Data Engineers\n",
    "3. Data Analysts\n",
    "4. Machine learning Engineers"
   ]
  },
  {
   "cell_type": "markdown",
   "id": "b8ba409c",
   "metadata": {},
   "source": [
    "MACHINE LEARNING:\n",
    "Estimating a function or finding a pattern.\n",
    "Given some inputs(x) and outputs(y), we want to learn a function f such that f(x)=y..\n",
    "\n",
    "INPUT -> MODEL -> OUTPUT"
   ]
  },
  {
   "cell_type": "markdown",
   "id": "b4aaf16a",
   "metadata": {},
   "source": [
    "CUSTOMER CHURNING:\n",
    "Also called Customer Attrition refers to the situation when customers stop doing business with a company or cancel their services/subscriptions over a given period."
   ]
  },
  {
   "cell_type": "markdown",
   "id": "701be7c0",
   "metadata": {},
   "source": [
    " "
   ]
  }
 ],
 "metadata": {
  "language_info": {
   "name": "python"
  }
 },
 "nbformat": 4,
 "nbformat_minor": 5
}
