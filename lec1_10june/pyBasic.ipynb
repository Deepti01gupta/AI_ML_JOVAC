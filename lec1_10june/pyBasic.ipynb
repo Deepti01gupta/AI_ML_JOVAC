{
 "cells": [
  {
   "cell_type": "markdown",
   "id": "20e572b0",
   "metadata": {},
   "source": [
    "VARIABLES:\n",
    "-> KeyWords vs Identifier\n",
    "-> Comments\n",
    "-> Single Line vs Multiple Line\n",
    "-> Multiple assignments\n",
    "-> How do we Store a Variable it in the memory?\n",
    "-> print\n",
    "-> type and id"
   ]
  },
  {
   "cell_type": "markdown",
   "id": "250bd875",
   "metadata": {},
   "source": [
    "RULE:\n",
    "1. cannot starts with number\n",
    "2. not a keyword\n",
    "3. can be alphanumeric\n",
    "4. can start with underscore ( _ )"
   ]
  },
  {
   "cell_type": "code",
   "execution_count": 2,
   "id": "0d449fef",
   "metadata": {},
   "outputs": [
    {
     "name": "stdout",
     "output_type": "stream",
     "text": [
      "hello world\n"
     ]
    }
   ],
   "source": [
    "print(\"hello world\")"
   ]
  },
  {
   "cell_type": "code",
   "execution_count": 3,
   "id": "d02b659b",
   "metadata": {},
   "outputs": [
    {
     "name": "stdout",
     "output_type": "stream",
     "text": [
      "10 hello 20\n"
     ]
    }
   ],
   "source": [
    "a=10\n",
    "b1='hello'\n",
    "_a=20\n",
    "print(a,b1,_a)"
   ]
  },
  {
   "cell_type": "code",
   "execution_count": 5,
   "id": "260db9f8",
   "metadata": {},
   "outputs": [
    {
     "name": "stdout",
     "output_type": "stream",
     "text": [
      "['False', 'None', 'True', 'and', 'as', 'assert', 'async', 'await', 'break', 'class', 'continue', 'def', 'del', 'elif', 'else', 'except', 'finally', 'for', 'from', 'global', 'if', 'import', 'in', 'is', 'lambda', 'nonlocal', 'not', 'or', 'pass', 'raise', 'return', 'try', 'while', 'with', 'yield'] 35\n"
     ]
    }
   ],
   "source": [
    "import keyword\n",
    "print(keyword.kwlist,len(keyword.kwlist))"
   ]
  },
  {
   "cell_type": "code",
   "execution_count": null,
   "id": "e580e73b",
   "metadata": {},
   "outputs": [],
   "source": [
    "# hello this is single line comment\n",
    "\n",
    "# this is\n",
    "# multiline\n",
    "# comments"
   ]
  },
  {
   "cell_type": "code",
   "execution_count": 6,
   "id": "6eaa4b24",
   "metadata": {},
   "outputs": [
    {
     "name": "stdout",
     "output_type": "stream",
     "text": [
      "10 20\n"
     ]
    }
   ],
   "source": [
    "a=10\n",
    "b=20\n",
    "print(a,b)"
   ]
  },
  {
   "cell_type": "code",
   "execution_count": 7,
   "id": "253f7898",
   "metadata": {},
   "outputs": [
    {
     "name": "stdout",
     "output_type": "stream",
     "text": [
      "10 20\n"
     ]
    }
   ],
   "source": [
    "a,b=10,20\n",
    "print(a,b)"
   ]
  },
  {
   "cell_type": "code",
   "execution_count": 8,
   "id": "671390ba",
   "metadata": {},
   "outputs": [
    {
     "name": "stdout",
     "output_type": "stream",
     "text": [
      "399\n"
     ]
    }
   ],
   "source": [
    "a=10+20+\\\n",
    "  300+40+\\\n",
    "  20+9\n",
    "print(a)"
   ]
  },
  {
   "cell_type": "code",
   "execution_count": 9,
   "id": "1a2c29a9",
   "metadata": {},
   "outputs": [
    {
     "name": "stdout",
     "output_type": "stream",
     "text": [
      "<class 'int'>\n"
     ]
    }
   ],
   "source": [
    "print(type(a))"
   ]
  },
  {
   "cell_type": "code",
   "execution_count": 10,
   "id": "ec82573c",
   "metadata": {},
   "outputs": [
    {
     "name": "stdout",
     "output_type": "stream",
     "text": [
      "hello\n",
      "<class 'str'>\n"
     ]
    }
   ],
   "source": [
    "b='hello'\n",
    "print(b)\n",
    "print(type(b))"
   ]
  },
  {
   "cell_type": "code",
   "execution_count": 11,
   "id": "4e479bc0",
   "metadata": {},
   "outputs": [
    {
     "data": {
      "text/plain": [
       "1832174579984"
      ]
     },
     "execution_count": 11,
     "metadata": {},
     "output_type": "execute_result"
    }
   ],
   "source": [
    "id(a)"
   ]
  },
  {
   "cell_type": "code",
   "execution_count": 12,
   "id": "823abceb",
   "metadata": {},
   "outputs": [
    {
     "data": {
      "text/plain": [
       "1832164579520"
      ]
     },
     "execution_count": 12,
     "metadata": {},
     "output_type": "execute_result"
    }
   ],
   "source": [
    "id(b)"
   ]
  },
  {
   "cell_type": "markdown",
   "id": "82424c00",
   "metadata": {},
   "source": [
    "DATA TYPES:\n",
    "1. Text Type:\tstr\n",
    "2. Numeric Types:\tint, float, complex\n",
    "3. Sequence Types:\tlist, tuple, range\n",
    "4. Mapping Type:\tdict\n",
    "5. Set Types:\tset, frozenset\n",
    "6. Boolean Type:\tbool\n",
    "7. Binary Types:\tbytes, bytearray, memoryview\n",
    "8. None Type:\tNoneType"
   ]
  },
  {
   "cell_type": "code",
   "execution_count": 13,
   "id": "0fe56140",
   "metadata": {},
   "outputs": [
    {
     "name": "stdout",
     "output_type": "stream",
     "text": [
      "100000000000000000000000000000000000000000000000000000 <class 'int'>\n",
      "10.3 <class 'float'>\n",
      "(2+5j) <class 'complex'>\n"
     ]
    }
   ],
   "source": [
    "a=100000000000000000000000000000000000000000000000000000\n",
    "b=10.3\n",
    "c=2+5j\n",
    "\n",
    "print(a,type(a))\n",
    "print(b,type(b))\n",
    "print(c,type(c))"
   ]
  },
  {
   "cell_type": "code",
   "execution_count": 15,
   "id": "acf476e6",
   "metadata": {},
   "outputs": [
    {
     "name": "stdout",
     "output_type": "stream",
     "text": [
      "[1, 2, 3] <class 'list'>\n"
     ]
    }
   ],
   "source": [
    "l=[1,2,3]\n",
    "print(l,type(l))"
   ]
  },
  {
   "cell_type": "code",
   "execution_count": 16,
   "id": "d51e1747",
   "metadata": {},
   "outputs": [
    {
     "name": "stdout",
     "output_type": "stream",
     "text": [
      "True <class 'bool'>\n"
     ]
    }
   ],
   "source": [
    "b=True\n",
    "print(b,type(b))"
   ]
  },
  {
   "cell_type": "code",
   "execution_count": 17,
   "metadata": {},
   "outputs": [
    {
     "name": "stdout",
     "output_type": "stream",
     "text": [
      "None <class 'NoneType'>\n"
     ]
    }
   ],
   "source": [
    "a=None\n",
    "print(a,type(a))"
   ]
  },
  {
   "cell_type": "code",
   "execution_count": 18,
   "metadata": {},
   "outputs": [
    {
     "name": "stdout",
     "output_type": "stream",
     "text": [
      "10 <class 'str'>\n",
      "10.0 <class 'float'>\n"
     ]
    }
   ],
   "source": [
    "a='10'\n",
    "print(a,type(a))\n",
    "b=float(a)\n",
    "print(b,type(b))"
   ]
  },
  {
   "cell_type": "code",
   "execution_count": 19,
   "metadata": {},
   "outputs": [
    {
     "name": "stdout",
     "output_type": "stream",
     "text": [
      "10abc <class 'str'>\n"
     ]
    },
    {
     "ename": "ValueError",
     "evalue": "invalid literal for int() with base 10: '10abc'",
     "output_type": "error",
     "traceback": [
      "\u001b[31m---------------------------------------------------------------------------\u001b[39m",
      "\u001b[31mValueError\u001b[39m                                Traceback (most recent call last)",
      "\u001b[36mCell\u001b[39m\u001b[36m \u001b[39m\u001b[32mIn[19]\u001b[39m\u001b[32m, line 3\u001b[39m\n\u001b[32m      1\u001b[39m a=\u001b[33m'\u001b[39m\u001b[33m10abc\u001b[39m\u001b[33m'\u001b[39m\n\u001b[32m      2\u001b[39m \u001b[38;5;28mprint\u001b[39m(a,\u001b[38;5;28mtype\u001b[39m(a))\n\u001b[32m----> \u001b[39m\u001b[32m3\u001b[39m b=\u001b[38;5;28;43mint\u001b[39;49m\u001b[43m(\u001b[49m\u001b[43ma\u001b[49m\u001b[43m)\u001b[49m\n\u001b[32m      4\u001b[39m \u001b[38;5;28mprint\u001b[39m(b,\u001b[38;5;28mtype\u001b[39m(b))\n",
      "\u001b[31mValueError\u001b[39m: invalid literal for int() with base 10: '10abc'"
     ]
    }
   ],
   "source": [
    "a='10abc'\n",
    "print(a,type(a))\n",
    "b=int(a)\n",
    "print(b,type(b))"
   ]
  },
  {
   "cell_type": "markdown",
   "id": "07058d89",
   "metadata": {},
   "source": [
    "OPERATORS:\n",
    "Types of Operators\n",
    "1. Airthmetic: +, -, *, /, %, //, **\n",
    "2. relational: ==, <=, <, >=, >, !=\n",
    "3. logical: and, or, not\n",
    "4. Bitwise: &, |, ~, ^, <<, >>\n",
    "5. Assignment: =, +=, -= ...\n",
    "6. Special: is, is not, in, not in"
   ]
  },
  {
   "cell_type": "code",
   "execution_count": 20,
   "metadata": {},
   "outputs": [
    {
     "name": "stdout",
     "output_type": "stream",
     "text": [
      "130\n",
      "-110\n",
      "1200\n",
      "0.08333333333333333\n",
      "10\n",
      "0\n",
      "1000000000000000000000000000000000000000000000000000000000000000000000000000000000000000000000000000000000000000000000000\n",
      "False\n",
      "True\n",
      "True\n",
      "False\n",
      "False\n",
      "True\n",
      "120\n",
      "10\n",
      "False\n"
     ]
    }
   ],
   "source": [
    "a=10\n",
    "b=120\n",
    "print(a+b)\n",
    "print(a-b)\n",
    "print(a*b)\n",
    "print(a/b)\n",
    "print(a%b)\n",
    "print(a//b)\n",
    "print(a**b)\n",
    "print(a==b)\n",
    "print(a<=b)\n",
    "print(a<b)\n",
    "print(a>=b)\n",
    "print(a>b)\n",
    "print(a!=b)\n",
    "print(a and b)\n",
    "print(a or b)\n",
    "print(not a)\n"
   ]
  },
  {
   "cell_type": "code",
   "execution_count": 21,
   "metadata": {},
   "outputs": [
    {
     "name": "stdout",
     "output_type": "stream",
     "text": [
      "True\n"
     ]
    }
   ],
   "source": [
    "a=10\n",
    "b=10\n",
    "print(id(a)==id(b))"
   ]
  },
  {
   "cell_type": "code",
   "execution_count": 22,
   "metadata": {},
   "outputs": [
    {
     "name": "stdout",
     "output_type": "stream",
     "text": [
      "False\n"
     ]
    }
   ],
   "source": [
    "a=2954\n",
    "b=2954\n",
    "print(id(a)==id(b))"
   ]
  },
  {
   "cell_type": "markdown",
   "id": "3dcc05f1",
   "metadata": {},
   "source": [
    "integer m -254 to +254 k address phele se initialize hota h cashe memory m uske ilawa sabka koi address hota"
   ]
  },
  {
   "cell_type": "markdown",
   "id": "27a80f58",
   "metadata": {},
   "source": [
    "HOW TO TAKE INPUT FROM USER"
   ]
  },
  {
   "cell_type": "code",
   "execution_count": 25,
   "id": "e9de1a41",
   "metadata": {},
   "outputs": [
    {
     "name": "stdout",
     "output_type": "stream",
     "text": [
      "32\n",
      "<class 'str'>\n"
     ]
    }
   ],
   "source": [
    "x=input(\"enter a number\")\n",
    "print(x)\n",
    "print(type(x))"
   ]
  },
  {
   "cell_type": "code",
   "execution_count": 26,
   "id": "dae3e0d8",
   "metadata": {},
   "outputs": [
    {
     "name": "stdout",
     "output_type": "stream",
     "text": [
      "Simple Interest: 300.0\n"
     ]
    }
   ],
   "source": [
    "p = int(input(\"Enter Principal: \"))\n",
    "r = float(input(\"Enter Rate: \"))\n",
    "y = int(input(\"Enter Year: \"))\n",
    "\n",
    "si = (p*r*y)/100\n",
    "print(\"Simple Interest: \"+str(si))"
   ]
  },
  {
   "cell_type": "markdown",
   "id": "f36a39dd",
   "metadata": {},
   "source": [
    "If Else:\n",
    "1. if .. else\n",
    "2. if .. elif .... else\n",
    "3. Nested if"
   ]
  },
  {
   "cell_type": "code",
   "execution_count": 33,
   "id": "7e564d13",
   "metadata": {},
   "outputs": [
    {
     "name": "stdout",
     "output_type": "stream",
     "text": [
      "Hi\n",
      "Number is even\n",
      "Hello World\n",
      "Bye\n"
     ]
    }
   ],
   "source": [
    "a = 20\n",
    "print(\"Hi\")\n",
    "if a%2 == 0:\n",
    "  print(\"Number is even\")\n",
    "  print(\"Hello World\")\n",
    "else:\n",
    "    print('Odd Number')\n",
    "print(\"Bye\")"
   ]
  },
  {
   "cell_type": "code",
   "execution_count": 28,
   "id": "6919ddd8",
   "metadata": {},
   "outputs": [
    {
     "name": "stdout",
     "output_type": "stream",
     "text": [
      "child\n"
     ]
    }
   ],
   "source": [
    "age = 15\n",
    "if age < 18:\n",
    "    print(\"child\")\n",
    "else:\n",
    "    if age < 60:\n",
    "        print(\"adult\")\n",
    "    else:\n",
    "        print(\"Senior Citizen\")"
   ]
  },
  {
   "cell_type": "code",
   "execution_count": 29,
   "id": "de10319f",
   "metadata": {},
   "outputs": [
    {
     "name": "stdout",
     "output_type": "stream",
     "text": [
      "child\n"
     ]
    }
   ],
   "source": [
    "age = 15\n",
    "if age < 18:\n",
    "    print(\"child\")\n",
    "elif age < 60:\n",
    "    print(\"adult\")\n",
    "else:\n",
    "    print(\"Senior Citizen\")"
   ]
  },
  {
   "cell_type": "code",
   "execution_count": 34,
   "id": "9d9d6355",
   "metadata": {},
   "outputs": [
    {
     "name": "stdout",
     "output_type": "stream",
     "text": [
      "Senior Citizen\n"
     ]
    }
   ],
   "source": [
    "age = 75\n",
    "if age < 18:\n",
    "    print(\"child\")\n",
    "elif age < 60:\n",
    "    print(\"adult\")\n",
    "else:\n",
    "    print(\"Senior Citizen\")"
   ]
  },
  {
   "cell_type": "code",
   "execution_count": 30,
   "id": "a1d0a393",
   "metadata": {},
   "outputs": [
    {
     "name": "stdout",
     "output_type": "stream",
     "text": [
      "A\n"
     ]
    }
   ],
   "source": [
    "\n",
    "marks = 100\n",
    "if 80 <= marks and marks <= 100:\n",
    "    print('A')\n",
    "elif 60 <= marks and marks < 80:\n",
    "    print('B')\n",
    "elif 40 <= marks and marks < 60:\n",
    "    print('C')\n",
    "elif 0 <= marks and marks < 40:\n",
    "    print('Fail')\n",
    "else:\n",
    "    print('Not Valid')"
   ]
  },
  {
   "cell_type": "code",
   "execution_count": 31,
   "id": "9eafbd1d",
   "metadata": {},
   "outputs": [
    {
     "name": "stdout",
     "output_type": "stream",
     "text": [
      "Fail\n"
     ]
    }
   ],
   "source": [
    "marks = 10\n",
    "if 80 <= marks <= 100:\n",
    "    print('A')\n",
    "elif 60 <= marks < 80:\n",
    "    print('B')\n",
    "elif 40 <= marks < 60:\n",
    "    print('C')\n",
    "elif 0 <= marks < 40:\n",
    "    print('Fail')\n",
    "else:\n",
    "    print('Not Valid')"
   ]
  }
 ],
 "metadata": {
  "kernelspec": {
   "display_name": "Python 3",
   "language": "python",
   "name": "python3"
  },
  "language_info": {
   "codemirror_mode": {
    "name": "ipython",
    "version": 3
   },
   "file_extension": ".py",
   "mimetype": "text/x-python",
   "name": "python",
   "nbconvert_exporter": "python",
   "pygments_lexer": "ipython3",
   "version": "3.13.5"
  }
 },
 "nbformat": 4,
 "nbformat_minor": 5
}
