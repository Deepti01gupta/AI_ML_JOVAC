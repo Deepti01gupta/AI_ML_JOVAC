{
 "cells": [
  {
   "cell_type": "markdown",
   "id": "8c561ea8",
   "metadata": {},
   "source": [
    "LIST:\n",
    "\n",
    "List Functions/Method - \n",
    "Method Description \n",
    "append(): Adds an element at the end of the list \n",
    "clear(): Removes all the elements from the list \n",
    "copy(): Returns a copy of the list \n",
    "count(): Returns the number of elements with the specified value \n",
    "extend(): Add the elements of a list (or any iterable), to the end of the current list \n",
    "index(): Returns the index of the first element with the specified value \n",
    "insert(): Adds an element at the specified position \n",
    "pop(): Removes the element at the specified position\n",
    "remove(): Removes the item with the specified value\n",
    "reverse(): Reverses the order of the list \n",
    "sort(): Sorts the list\n",
    "\n",
    "List Comprehension\n",
    "List Spliting"
   ]
  },
  {
   "cell_type": "code",
   "execution_count": 1,
   "id": "9045e108",
   "metadata": {},
   "outputs": [
    {
     "name": "stdout",
     "output_type": "stream",
     "text": [
      "[10, 24.5, (1+2j), 'hello'] <class 'list'>\n"
     ]
    }
   ],
   "source": [
    "l=[10,24.5,1+2j,'hello']\n",
    "print(l,type(l))"
   ]
  },
  {
   "cell_type": "code",
   "execution_count": 7,
   "id": "808a53ef",
   "metadata": {},
   "outputs": [
    {
     "name": "stdout",
     "output_type": "stream",
     "text": [
      "(1+2j)\n"
     ]
    }
   ],
   "source": [
    "print(l[2])"
   ]
  },
  {
   "cell_type": "code",
   "execution_count": 5,
   "id": "f16a81d2",
   "metadata": {},
   "outputs": [
    {
     "name": "stdout",
     "output_type": "stream",
     "text": [
      "10\n"
     ]
    }
   ],
   "source": [
    "print(l[0])"
   ]
  },
  {
   "cell_type": "code",
   "execution_count": 6,
   "id": "0ff77d79",
   "metadata": {},
   "outputs": [
    {
     "name": "stdout",
     "output_type": "stream",
     "text": [
      "hello\n"
     ]
    }
   ],
   "source": [
    "print(l[-1])"
   ]
  },
  {
   "cell_type": "code",
   "execution_count": 8,
   "id": "022f4561",
   "metadata": {},
   "outputs": [
    {
     "ename": "IndexError",
     "evalue": "list index out of range",
     "output_type": "error",
     "traceback": [
      "\u001b[31m---------------------------------------------------------------------------\u001b[39m",
      "\u001b[31mIndexError\u001b[39m                                Traceback (most recent call last)",
      "\u001b[36mCell\u001b[39m\u001b[36m \u001b[39m\u001b[32mIn[8]\u001b[39m\u001b[32m, line 1\u001b[39m\n\u001b[32m----> \u001b[39m\u001b[32m1\u001b[39m \u001b[38;5;28mprint\u001b[39m(\u001b[43ml\u001b[49m\u001b[43m[\u001b[49m\u001b[32;43m5\u001b[39;49m\u001b[43m]\u001b[49m)\n",
      "\u001b[31mIndexError\u001b[39m: list index out of range"
     ]
    }
   ],
   "source": [
    "print(l[5])"
   ]
  },
  {
   "cell_type": "markdown",
   "id": "e0edaf7b",
   "metadata": {},
   "source": [
    "== compares value not the address of the data while id compares the original address of the data if its equal or not"
   ]
  },
  {
   "cell_type": "code",
   "execution_count": 11,
   "id": "46dabf58",
   "metadata": {},
   "outputs": [
    {
     "name": "stdout",
     "output_type": "stream",
     "text": [
      "True\n",
      "False\n"
     ]
    }
   ],
   "source": [
    "l1=[10,20,30,40]\n",
    "l2=[10,20,30,40]\n",
    "print(l1==l2)\n",
    "print(id(l1)==id(l2))"
   ]
  },
  {
   "cell_type": "code",
   "execution_count": 12,
   "id": "1733ba7c",
   "metadata": {},
   "outputs": [
    {
     "name": "stdout",
     "output_type": "stream",
     "text": [
      "True\n",
      "True\n"
     ]
    }
   ],
   "source": [
    "l1=[10,20,30,40]\n",
    "l2=[10,20,30,40]\n",
    "l3=l1\n",
    "print(l1==l3)\n",
    "print(id(l1)==id(l3))"
   ]
  },
  {
   "cell_type": "code",
   "execution_count": 13,
   "id": "d374e25b",
   "metadata": {},
   "outputs": [
    {
     "name": "stdout",
     "output_type": "stream",
     "text": [
      "True\n"
     ]
    }
   ],
   "source": [
    "l1=[10,20,30,40]\n",
    "l2=[10,20,30,40]\n",
    "l3=l1\n",
    "print(l1 is l3)"
   ]
  },
  {
   "cell_type": "markdown",
   "id": "1ff5543b",
   "metadata": {},
   "source": [
    "Both l1 ans l3 element change at index 0 as both refers to same address\n",
    "to avoide this we use the copy function"
   ]
  },
  {
   "cell_type": "code",
   "execution_count": 14,
   "id": "bf24f5e2",
   "metadata": {},
   "outputs": [
    {
     "name": "stdout",
     "output_type": "stream",
     "text": [
      "[100, 20, 30, 40]\n",
      "[100, 20, 30, 40]\n"
     ]
    }
   ],
   "source": [
    "l1=[10,20,30,40]\n",
    "l2=[10,20,30,40]\n",
    "l3=l1\n",
    "l1[0]=100\n",
    "print(l1)\n",
    "print(l3)"
   ]
  },
  {
   "cell_type": "code",
   "execution_count": 15,
   "id": "465e7dcc",
   "metadata": {},
   "outputs": [
    {
     "name": "stdout",
     "output_type": "stream",
     "text": [
      "False\n"
     ]
    }
   ],
   "source": [
    "l1=[10,20,30,40]\n",
    "l2=[10,20,30,40]\n",
    "l3=l1.copy()\n",
    "print(l1 is l3)"
   ]
  },
  {
   "cell_type": "code",
   "execution_count": 16,
   "id": "7e33e57f",
   "metadata": {},
   "outputs": [
    {
     "name": "stdout",
     "output_type": "stream",
     "text": [
      "[100, 20, 30, 40]\n",
      "[10, 20, 30, 40]\n"
     ]
    }
   ],
   "source": [
    "l1[0]=100\n",
    "print(l1)\n",
    "print(l3)"
   ]
  },
  {
   "cell_type": "code",
   "execution_count": 22,
   "id": "233af215",
   "metadata": {},
   "outputs": [
    {
     "name": "stdout",
     "output_type": "stream",
     "text": [
      "[10, 20, 30, 40]\n"
     ]
    }
   ],
   "source": [
    "l=[10,20,30,40]\n",
    "print(l)"
   ]
  },
  {
   "cell_type": "code",
   "execution_count": 23,
   "id": "41bfd71a",
   "metadata": {},
   "outputs": [
    {
     "name": "stdout",
     "output_type": "stream",
     "text": [
      "[10, 20, 30, 40, 50]\n"
     ]
    }
   ],
   "source": [
    "l.append(50)\n",
    "print(l)"
   ]
  },
  {
   "cell_type": "code",
   "execution_count": 21,
   "id": "4de26f1f",
   "metadata": {},
   "outputs": [
    {
     "name": "stdout",
     "output_type": "stream",
     "text": [
      "[]\n"
     ]
    }
   ],
   "source": [
    "l.clear()\n",
    "print(l)"
   ]
  },
  {
   "cell_type": "code",
   "execution_count": 24,
   "id": "5658ce4c",
   "metadata": {},
   "outputs": [
    {
     "name": "stdout",
     "output_type": "stream",
     "text": [
      "6\n"
     ]
    }
   ],
   "source": [
    "l=[1,2,3,1,3,1,3,1,1,1,9]\n",
    "print(l.count(1))"
   ]
  },
  {
   "cell_type": "code",
   "execution_count": 25,
   "id": "e2ec9122",
   "metadata": {},
   "outputs": [
    {
     "name": "stdout",
     "output_type": "stream",
     "text": [
      "[1, 2, 3, 4]\n",
      "[3, 4, 5, 6]\n",
      "[1, 2, 3, 4, 3, 4, 5, 6]\n",
      "[3, 4, 5, 6]\n"
     ]
    }
   ],
   "source": [
    "l1=[1,2,3,4]\n",
    "l2=[3,4,5,6]\n",
    "print(l1)\n",
    "print(l2)\n",
    "l1.extend(l2)\n",
    "print(l1)\n",
    "print(l2)"
   ]
  },
  {
   "cell_type": "code",
   "execution_count": null,
   "id": "b7b96f93",
   "metadata": {},
   "outputs": [
    {
     "data": {
      "text/plain": [
       "2"
      ]
     },
     "execution_count": 28,
     "metadata": {},
     "output_type": "execute_result"
    }
   ],
   "source": [
    "l1.index(3)"
   ]
  },
  {
   "cell_type": "code",
   "execution_count": 29,
   "id": "a94fe451",
   "metadata": {},
   "outputs": [
    {
     "name": "stdout",
     "output_type": "stream",
     "text": [
      "[1, 2, 100, 3, 4, 3, 4, 5, 6]\n"
     ]
    }
   ],
   "source": [
    "l1.insert(2,100)\n",
    "print(l1)"
   ]
  },
  {
   "cell_type": "code",
   "execution_count": 31,
   "id": "c7e95502",
   "metadata": {},
   "outputs": [
    {
     "name": "stdout",
     "output_type": "stream",
     "text": [
      "[1, 2, 3, 4, 5, 6, 7, 8]\n",
      "[1, 2, 3, 4, 5, 7, 8]\n"
     ]
    }
   ],
   "source": [
    "l=[1,2,3,4,5,6,7,8,9]\n",
    "l.pop()\n",
    "print(l)\n",
    "l.pop(5)\n",
    "print(l)"
   ]
  },
  {
   "cell_type": "code",
   "execution_count": 32,
   "id": "1189c059",
   "metadata": {},
   "outputs": [
    {
     "data": {
      "text/plain": [
       "7"
      ]
     },
     "execution_count": 32,
     "metadata": {},
     "output_type": "execute_result"
    }
   ],
   "source": [
    "len(l)"
   ]
  },
  {
   "cell_type": "code",
   "execution_count": 34,
   "id": "b22bf161",
   "metadata": {},
   "outputs": [
    {
     "name": "stdout",
     "output_type": "stream",
     "text": [
      "1\n",
      "2\n",
      "3\n",
      "4\n",
      "5\n",
      "6\n"
     ]
    }
   ],
   "source": [
    "for ele in l:\n",
    "    print(ele)"
   ]
  },
  {
   "cell_type": "markdown",
   "id": "9b5a864a",
   "metadata": {},
   "source": [
    "FOR LOOP:\n",
    "syantax:\n",
    "for i in range(start,end,step):\n",
    "    <body>"
   ]
  },
  {
   "cell_type": "code",
   "execution_count": 35,
   "id": "03012e0f",
   "metadata": {},
   "outputs": [
    {
     "name": "stdout",
     "output_type": "stream",
     "text": [
      "0 1\n",
      "1 2\n",
      "2 3\n",
      "3 4\n",
      "4 5\n",
      "5 6\n"
     ]
    }
   ],
   "source": [
    "l=[1,2,3,4,5,6]\n",
    "for i in range(0,len(l),1):\n",
    "    print(i,l[i])"
   ]
  },
  {
   "cell_type": "code",
   "execution_count": 36,
   "id": "aae9ea85",
   "metadata": {},
   "outputs": [
    {
     "name": "stdout",
     "output_type": "stream",
     "text": [
      "5 6\n",
      "4 5\n",
      "3 4\n",
      "2 3\n",
      "1 2\n",
      "0 1\n"
     ]
    }
   ],
   "source": [
    "for i in range(len(l)-1,-1,-1):\n",
    "    print(i,l[i])"
   ]
  },
  {
   "cell_type": "code",
   "execution_count": null,
   "id": "aa923bb2",
   "metadata": {},
   "outputs": [
    {
     "data": {
      "text/plain": [
       "True"
      ]
     },
     "execution_count": 38,
     "metadata": {},
     "output_type": "execute_result"
    }
   ],
   "source": [
    "l=[1,2,3,4,5,6,7,8,9]\n",
    "100 in l"
   ]
  },
  {
   "cell_type": "code",
   "execution_count": 39,
   "id": "ddf439f4",
   "metadata": {},
   "outputs": [
    {
     "data": {
      "text/plain": [
       "True"
      ]
     },
     "execution_count": 39,
     "metadata": {},
     "output_type": "execute_result"
    }
   ],
   "source": [
    "l=[1,2,3,4,5,6,7,8,9]\n",
    "4 in l"
   ]
  },
  {
   "cell_type": "code",
   "execution_count": 40,
   "id": "d0c56166",
   "metadata": {},
   "outputs": [
    {
     "name": "stdout",
     "output_type": "stream",
     "text": [
      "[2, 4, 7, 3, 5, 7, 3, 1]\n",
      "[1, 2, 3, 3, 4, 5, 7, 7]\n"
     ]
    }
   ],
   "source": [
    "l=[2,4,7,3,5,7,3,1]\n",
    "print(l)\n",
    "l.sort()\n",
    "print(l)"
   ]
  },
  {
   "cell_type": "code",
   "execution_count": 43,
   "id": "dab9453c",
   "metadata": {},
   "outputs": [
    {
     "name": "stdout",
     "output_type": "stream",
     "text": [
      "[2, 3, 4, 5, 6]\n"
     ]
    }
   ],
   "source": [
    "l=[1,2,3,4,5,6]\n",
    "l.remove(1)\n",
    "print(l)"
   ]
  },
  {
   "cell_type": "code",
   "execution_count": 44,
   "id": "049ece4f",
   "metadata": {},
   "outputs": [
    {
     "name": "stdout",
     "output_type": "stream",
     "text": [
      "[2, 4, 5, 6]\n"
     ]
    }
   ],
   "source": [
    "l.remove(3)\n",
    "print(l)"
   ]
  },
  {
   "cell_type": "code",
   "execution_count": 46,
   "id": "cb67bb47",
   "metadata": {},
   "outputs": [
    {
     "name": "stdout",
     "output_type": "stream",
     "text": [
      "[0, 1, 4, 9, 16, 25, 36, 49, 64, 81, 100]\n"
     ]
    }
   ],
   "source": [
    "l=[]\n",
    "for i in range(0,11,1):\n",
    "    l.append(i*i)\n",
    "\n",
    "print(l)"
   ]
  },
  {
   "cell_type": "code",
   "execution_count": 48,
   "id": "e0eab4dd",
   "metadata": {},
   "outputs": [
    {
     "name": "stdout",
     "output_type": "stream",
     "text": [
      "[0, 1, 4, 9, 16, 25, 36, 49, 64, 81]\n"
     ]
    }
   ],
   "source": [
    "l=[i*i for i in range(10)]\n",
    "print(l)"
   ]
  },
  {
   "cell_type": "code",
   "execution_count": 49,
   "id": "e37d4919",
   "metadata": {},
   "outputs": [
    {
     "name": "stdout",
     "output_type": "stream",
     "text": [
      "[0, 4, 16, 36, 64]\n"
     ]
    }
   ],
   "source": [
    "l=[i**2 for i in range(10) if i%2==0]\n",
    "print(l)"
   ]
  },
  {
   "cell_type": "code",
   "execution_count": 50,
   "id": "25278e1a",
   "metadata": {},
   "outputs": [
    {
     "data": {
      "text/plain": [
       "([0, 0, 0, 0, 0, 0, 0, 0, 0, 0], 10)"
      ]
     },
     "execution_count": 50,
     "metadata": {},
     "output_type": "execute_result"
    }
   ],
   "source": [
    "l=[0]*10\n",
    "l,len(l)"
   ]
  },
  {
   "cell_type": "code",
   "execution_count": 51,
   "id": "898f163b",
   "metadata": {},
   "outputs": [
    {
     "data": {
      "text/plain": [
       "[1, 2, 3, 4, 5, 6, 7, 8, 9, 10, 11, 12, 13, 14, 15, 16, 17, 18, 19, 20]"
      ]
     },
     "execution_count": 51,
     "metadata": {},
     "output_type": "execute_result"
    }
   ],
   "source": [
    "l=[1+i for i in range(20)]\n",
    "l"
   ]
  },
  {
   "cell_type": "markdown",
   "id": "dbbc93a6",
   "metadata": {},
   "source": [
    "Sublist krne k liye ham list sliceing use krte h\n",
    "syntax:\n",
    "list_name[start_index,end_index,jump]\n",
    "by default start=0, end=length of list, jump=1"
   ]
  },
  {
   "cell_type": "code",
   "execution_count": 52,
   "id": "b916b20e",
   "metadata": {},
   "outputs": [
    {
     "data": {
      "text/plain": [
       "[4, 5, 6, 7]"
      ]
     },
     "execution_count": 52,
     "metadata": {},
     "output_type": "execute_result"
    }
   ],
   "source": [
    "l[3:7:1]"
   ]
  },
  {
   "cell_type": "code",
   "execution_count": 54,
   "id": "b3c34e6f",
   "metadata": {},
   "outputs": [
    {
     "data": {
      "text/plain": [
       "[12, 13, 14, 15, 16, 17, 18, 19, 20]"
      ]
     },
     "execution_count": 54,
     "metadata": {},
     "output_type": "execute_result"
    }
   ],
   "source": [
    "l[11:]"
   ]
  },
  {
   "cell_type": "markdown",
   "id": "173d3036",
   "metadata": {},
   "source": [
    "TO REVERSE LIST:\n",
    "1. using list slicing\n",
    "2. using built in function"
   ]
  },
  {
   "cell_type": "code",
   "execution_count": 55,
   "id": "d024e99e",
   "metadata": {},
   "outputs": [
    {
     "data": {
      "text/plain": [
       "[20, 19, 18, 17, 16, 15, 14, 13, 12, 11, 10, 9, 8, 7, 6, 5, 4, 3, 2, 1]"
      ]
     },
     "execution_count": 55,
     "metadata": {},
     "output_type": "execute_result"
    }
   ],
   "source": [
    "l[::-1]"
   ]
  },
  {
   "cell_type": "code",
   "execution_count": 56,
   "id": "9670fb67",
   "metadata": {},
   "outputs": [
    {
     "data": {
      "text/plain": [
       "[20, 19, 18, 17, 16, 15, 14, 13, 12, 11, 10, 9, 8, 7, 6, 5, 4, 3, 2, 1]"
      ]
     },
     "execution_count": 56,
     "metadata": {},
     "output_type": "execute_result"
    }
   ],
   "source": [
    "l.reverse()\n",
    "l"
   ]
  },
  {
   "cell_type": "code",
   "execution_count": 57,
   "id": "dbcf3b38",
   "metadata": {},
   "outputs": [
    {
     "name": "stdout",
     "output_type": "stream",
     "text": [
      "[[1, 2, 3], [4, 5, 6]]\n"
     ]
    }
   ],
   "source": [
    "l1=[1,2,3]\n",
    "l2=[4,5,6]\n",
    "l3=[l1,l2]\n",
    "print(l3)"
   ]
  },
  {
   "cell_type": "code",
   "execution_count": 59,
   "id": "9ded3a36",
   "metadata": {},
   "outputs": [
    {
     "name": "stdout",
     "output_type": "stream",
     "text": [
      "[[1, 2, 3, 4], [5, 6, 7, 8]]\n"
     ]
    }
   ],
   "source": [
    "l1=[1,2,3,4]\n",
    "l2=[5,6,7,8]\n",
    "l3=[l1]+[l2]\n",
    "print(l3)"
   ]
  },
  {
   "cell_type": "code",
   "execution_count": null,
   "id": "382cf954",
   "metadata": {},
   "outputs": [
    {
     "data": {
      "text/plain": [
       "[[0, 0, 0, 0, 0],\n",
       " [0, 1, 2, 3, 4],\n",
       " [0, 2, 4, 6, 8],\n",
       " [0, 3, 6, 9, 12],\n",
       " [0, 4, 8, 12, 16]]"
      ]
     },
     "execution_count": 61,
     "metadata": {},
     "output_type": "execute_result"
    }
   ],
   "source": [
    "l=[ [col*row for col in range(5)] for row in range(5) ]\n",
    "l"
   ]
  },
  {
   "cell_type": "markdown",
   "id": "3003c805",
   "metadata": {},
   "source": [
    "TUPLES:\n",
    "1. immutable: values can't be change"
   ]
  },
  {
   "cell_type": "code",
   "execution_count": 62,
   "id": "c5264a84",
   "metadata": {},
   "outputs": [
    {
     "name": "stdout",
     "output_type": "stream",
     "text": [
      "(1, 2, 3)\n"
     ]
    }
   ],
   "source": [
    "t=(1,2,3)\n",
    "print(t)"
   ]
  },
  {
   "cell_type": "code",
   "execution_count": 63,
   "id": "b352025e",
   "metadata": {},
   "outputs": [
    {
     "ename": "TypeError",
     "evalue": "'tuple' object does not support item assignment",
     "output_type": "error",
     "traceback": [
      "\u001b[31m---------------------------------------------------------------------------\u001b[39m",
      "\u001b[31mTypeError\u001b[39m                                 Traceback (most recent call last)",
      "\u001b[36mCell\u001b[39m\u001b[36m \u001b[39m\u001b[32mIn[63]\u001b[39m\u001b[32m, line 1\u001b[39m\n\u001b[32m----> \u001b[39m\u001b[32m1\u001b[39m \u001b[43mt\u001b[49m\u001b[43m[\u001b[49m\u001b[32;43m1\u001b[39;49m\u001b[43m]\u001b[49m=\u001b[32m100\u001b[39m\n",
      "\u001b[31mTypeError\u001b[39m: 'tuple' object does not support item assignment"
     ]
    }
   ],
   "source": [
    "t[1]=100"
   ]
  },
  {
   "cell_type": "markdown",
   "id": "ccd3637d",
   "metadata": {},
   "source": [
    "To change the value of tuple first we need to convert it into list then change the value and transfor back into tuple"
   ]
  },
  {
   "cell_type": "code",
   "execution_count": 64,
   "id": "398456bb",
   "metadata": {},
   "outputs": [
    {
     "name": "stdout",
     "output_type": "stream",
     "text": [
      "(1, 2, 3, 4)\n",
      "(1, 2, 100, 4)\n"
     ]
    }
   ],
   "source": [
    "t=(1,2,3,4)\n",
    "print(t)\n",
    "l=list(t)\n",
    "l[2]=100\n",
    "t=tuple(l)\n",
    "print(t)"
   ]
  },
  {
   "cell_type": "code",
   "execution_count": 65,
   "id": "ff085966",
   "metadata": {},
   "outputs": [
    {
     "name": "stdout",
     "output_type": "stream",
     "text": [
      "1 <class 'int'>\n"
     ]
    }
   ],
   "source": [
    "t=(1)\n",
    "print(t,type(t))"
   ]
  },
  {
   "cell_type": "code",
   "execution_count": 66,
   "id": "942f975c",
   "metadata": {},
   "outputs": [
    {
     "name": "stdout",
     "output_type": "stream",
     "text": [
      "(1,) <class 'tuple'>\n"
     ]
    }
   ],
   "source": [
    "t=(1,)\n",
    "print(t,type(t))"
   ]
  },
  {
   "cell_type": "code",
   "execution_count": 67,
   "id": "41e5e7c8",
   "metadata": {},
   "outputs": [
    {
     "name": "stdout",
     "output_type": "stream",
     "text": [
      "(1, 2, 3, 4) <class 'tuple'>\n"
     ]
    }
   ],
   "source": [
    "# tuples packing\n",
    "t=1,2,3,4\n",
    "print(t,type(t))"
   ]
  },
  {
   "cell_type": "code",
   "execution_count": 68,
   "id": "1221da61",
   "metadata": {},
   "outputs": [
    {
     "name": "stdout",
     "output_type": "stream",
     "text": [
      "1 2 3 4\n"
     ]
    }
   ],
   "source": [
    "# tuples unpacking\n",
    "a,b,c,d=t\n",
    "print(a,b,c,d)"
   ]
  },
  {
   "cell_type": "code",
   "execution_count": 69,
   "id": "39eb0c6d",
   "metadata": {},
   "outputs": [
    {
     "name": "stdout",
     "output_type": "stream",
     "text": [
      "1 2 [3, 4, 5]\n"
     ]
    }
   ],
   "source": [
    "t=(1,2,3,4,5)\n",
    "a,b,*c=t\n",
    "print(a,b,c)"
   ]
  },
  {
   "cell_type": "code",
   "execution_count": null,
   "id": "211f0a06",
   "metadata": {},
   "outputs": [],
   "source": []
  },
  {
   "cell_type": "code",
   "execution_count": null,
   "id": "effdad9c",
   "metadata": {},
   "outputs": [],
   "source": []
  },
  {
   "cell_type": "code",
   "execution_count": null,
   "id": "9d53ca96",
   "metadata": {},
   "outputs": [],
   "source": []
  },
  {
   "cell_type": "code",
   "execution_count": null,
   "id": "d5e0fbd9",
   "metadata": {},
   "outputs": [],
   "source": []
  },
  {
   "cell_type": "code",
   "execution_count": null,
   "id": "474f5d50",
   "metadata": {},
   "outputs": [],
   "source": []
  },
  {
   "cell_type": "code",
   "execution_count": null,
   "id": "971a656a",
   "metadata": {},
   "outputs": [],
   "source": []
  },
  {
   "cell_type": "code",
   "execution_count": null,
   "id": "6cac4d24",
   "metadata": {},
   "outputs": [],
   "source": []
  }
 ],
 "metadata": {
  "kernelspec": {
   "display_name": "Python 3",
   "language": "python",
   "name": "python3"
  },
  "language_info": {
   "codemirror_mode": {
    "name": "ipython",
    "version": 3
   },
   "file_extension": ".py",
   "mimetype": "text/x-python",
   "name": "python",
   "nbconvert_exporter": "python",
   "pygments_lexer": "ipython3",
   "version": "3.13.5"
  }
 },
 "nbformat": 4,
 "nbformat_minor": 5
}
