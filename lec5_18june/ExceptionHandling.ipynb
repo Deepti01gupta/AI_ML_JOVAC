{
 "cells": [
  {
   "cell_type": "markdown",
   "id": "28dece3e",
   "metadata": {},
   "source": [
    "EXCEPTION HANDLING\n",
    "\n",
    "1. Errors\n",
    "    -> syntax\n",
    "    -> exception\n",
    "\n",
    "2. Handling Exception\n",
    "    -> try\n",
    "    -> except\n",
    "\n",
    "3. Exception classes in Python\n",
    "    -> Multiple Exceptions\n",
    "    -> Inherited from Exception class\n",
    "    -> except Exception as e\n",
    "    \n",
    "4. Raising a custom Exception\n",
    "    -> raise\n",
    "    -> else\n",
    "    -> finally"
   ]
  },
  {
   "cell_type": "code",
   "execution_count": 3,
   "id": "c775cb78",
   "metadata": {},
   "outputs": [
    {
     "ename": "_IncompleteInputError",
     "evalue": "incomplete input (3927587337.py, line 1)",
     "output_type": "error",
     "traceback": [
      "  \u001b[36mCell\u001b[39m\u001b[36m \u001b[39m\u001b[32mIn[3]\u001b[39m\u001b[32m, line 1\u001b[39m\n\u001b[31m    \u001b[39m\u001b[31mprint(\"hi\"\u001b[39m\n              ^\n\u001b[31m_IncompleteInputError\u001b[39m\u001b[31m:\u001b[39m incomplete input\n"
     ]
    }
   ],
   "source": [
    "print(\"hi\""
   ]
  },
  {
   "cell_type": "code",
   "execution_count": null,
   "id": "80fe2043",
   "metadata": {},
   "outputs": [],
   "source": [
    "def fn(a):\n",
    "    print(b)"
   ]
  },
  {
   "cell_type": "code",
   "execution_count": null,
   "id": "2947ee02",
   "metadata": {},
   "outputs": [
    {
     "ename": "NameError",
     "evalue": "name 'b' is not defined",
     "output_type": "error",
     "traceback": [
      "\u001b[31m---------------------------------------------------------------------------\u001b[39m",
      "\u001b[31mNameError\u001b[39m                                 Traceback (most recent call last)",
      "\u001b[36mCell\u001b[39m\u001b[36m \u001b[39m\u001b[32mIn[4]\u001b[39m\u001b[32m, line 1\u001b[39m\n\u001b[32m----> \u001b[39m\u001b[32m1\u001b[39m \u001b[43mfn\u001b[49m\u001b[43m(\u001b[49m\u001b[32;43m10\u001b[39;49m\u001b[43m)\u001b[49m\n",
      "\u001b[36mCell\u001b[39m\u001b[36m \u001b[39m\u001b[32mIn[3]\u001b[39m\u001b[32m, line 2\u001b[39m, in \u001b[36mfn\u001b[39m\u001b[34m(a)\u001b[39m\n\u001b[32m      1\u001b[39m \u001b[38;5;28;01mdef\u001b[39;00m\u001b[38;5;250m \u001b[39m\u001b[34mfn\u001b[39m(a):\n\u001b[32m----> \u001b[39m\u001b[32m2\u001b[39m     \u001b[38;5;28mprint\u001b[39m(\u001b[43mb\u001b[49m)\n",
      "\u001b[31mNameError\u001b[39m: name 'b' is not defined"
     ]
    }
   ],
   "source": [
    "fn(10)"
   ]
  },
  {
   "cell_type": "code",
   "execution_count": null,
   "id": "c0475d20",
   "metadata": {},
   "outputs": [
    {
     "ename": "NameError",
     "evalue": "name 'b' is not defined",
     "output_type": "error",
     "traceback": [
      "\u001b[31m---------------------------------------------------------------------------\u001b[39m",
      "\u001b[31mNameError\u001b[39m                                 Traceback (most recent call last)",
      "\u001b[36mCell\u001b[39m\u001b[36m \u001b[39m\u001b[32mIn[5]\u001b[39m\u001b[32m, line 2\u001b[39m\n\u001b[32m      1\u001b[39m a=\u001b[32m110\u001b[39m\n\u001b[32m----> \u001b[39m\u001b[32m2\u001b[39m \u001b[38;5;28mprint\u001b[39m(\u001b[43mb\u001b[49m)\n",
      "\u001b[31mNameError\u001b[39m: name 'b' is not defined"
     ]
    }
   ],
   "source": [
    "a=110\n",
    "print(b)"
   ]
  },
  {
   "cell_type": "code",
   "execution_count": null,
   "id": "10f449a9",
   "metadata": {},
   "outputs": [
    {
     "ename": "ZeroDivisionError",
     "evalue": "division by zero",
     "output_type": "error",
     "traceback": [
      "\u001b[31m---------------------------------------------------------------------------\u001b[39m",
      "\u001b[31mZeroDivisionError\u001b[39m                         Traceback (most recent call last)",
      "\u001b[36mCell\u001b[39m\u001b[36m \u001b[39m\u001b[32mIn[6]\u001b[39m\u001b[32m, line 3\u001b[39m\n\u001b[32m      1\u001b[39m a=\u001b[32m10\u001b[39m\n\u001b[32m      2\u001b[39m b=\u001b[32m0\u001b[39m\n\u001b[32m----> \u001b[39m\u001b[32m3\u001b[39m \u001b[38;5;28mprint\u001b[39m(\u001b[43ma\u001b[49m\u001b[43m/\u001b[49m\u001b[43mb\u001b[49m)\n",
      "\u001b[31mZeroDivisionError\u001b[39m: division by zero"
     ]
    }
   ],
   "source": [
    "a=10\n",
    "b=0\n",
    "print(a/b)"
   ]
  },
  {
   "cell_type": "code",
   "execution_count": null,
   "id": "2880e7b8",
   "metadata": {},
   "outputs": [
    {
     "ename": "TypeError",
     "evalue": "can only concatenate str (not \"int\") to str",
     "output_type": "error",
     "traceback": [
      "\u001b[31m---------------------------------------------------------------------------\u001b[39m",
      "\u001b[31mTypeError\u001b[39m                                 Traceback (most recent call last)",
      "\u001b[36mCell\u001b[39m\u001b[36m \u001b[39m\u001b[32mIn[7]\u001b[39m\u001b[32m, line 2\u001b[39m\n\u001b[32m      1\u001b[39m a=\u001b[32m10\u001b[39m\n\u001b[32m----> \u001b[39m\u001b[32m2\u001b[39m st=\u001b[33;43m'\u001b[39;49m\u001b[33;43mhello\u001b[39;49m\u001b[33;43m'\u001b[39;49m\u001b[43m+\u001b[49m\u001b[43ma\u001b[49m\n",
      "\u001b[31mTypeError\u001b[39m: can only concatenate str (not \"int\") to str"
     ]
    }
   ],
   "source": [
    "a=10\n",
    "st='hello'+a"
   ]
  },
  {
   "cell_type": "code",
   "execution_count": null,
   "id": "82d2c285",
   "metadata": {},
   "outputs": [
    {
     "ename": "IndentationError",
     "evalue": "unexpected indent (265525352.py, line 2)",
     "output_type": "error",
     "traceback": [
      "  \u001b[36mCell\u001b[39m\u001b[36m \u001b[39m\u001b[32mIn[8]\u001b[39m\u001b[32m, line 2\u001b[39m\n\u001b[31m    \u001b[39m\u001b[31mb=20\u001b[39m\n    ^\n\u001b[31mIndentationError\u001b[39m\u001b[31m:\u001b[39m unexpected indent\n"
     ]
    }
   ],
   "source": [
    "a=10\n",
    "    b=20"
   ]
  },
  {
   "cell_type": "code",
   "execution_count": null,
   "id": "839d55e6",
   "metadata": {},
   "outputs": [
    {
     "ename": "IndexError",
     "evalue": "list index out of range",
     "output_type": "error",
     "traceback": [
      "\u001b[31m---------------------------------------------------------------------------\u001b[39m",
      "\u001b[31mIndexError\u001b[39m                                Traceback (most recent call last)",
      "\u001b[36mCell\u001b[39m\u001b[36m \u001b[39m\u001b[32mIn[9]\u001b[39m\u001b[32m, line 2\u001b[39m\n\u001b[32m      1\u001b[39m l=[\u001b[32m1\u001b[39m,\u001b[32m2\u001b[39m,\u001b[32m3\u001b[39m]\n\u001b[32m----> \u001b[39m\u001b[32m2\u001b[39m \u001b[43ml\u001b[49m\u001b[43m[\u001b[49m\u001b[32;43m4\u001b[39;49m\u001b[43m]\u001b[49m\n",
      "\u001b[31mIndexError\u001b[39m: list index out of range"
     ]
    }
   ],
   "source": [
    "l=[1,2,3]\n",
    "l[4]"
   ]
  },
  {
   "cell_type": "code",
   "execution_count": null,
   "id": "b6b6ca92",
   "metadata": {},
   "outputs": [
    {
     "ename": "ValueError",
     "evalue": "invalid literal for int() with base 10: 'a'",
     "output_type": "error",
     "traceback": [
      "\u001b[31m---------------------------------------------------------------------------\u001b[39m",
      "\u001b[31mValueError\u001b[39m                                Traceback (most recent call last)",
      "\u001b[36mCell\u001b[39m\u001b[36m \u001b[39m\u001b[32mIn[10]\u001b[39m\u001b[32m, line 1\u001b[39m\n\u001b[32m----> \u001b[39m\u001b[32m1\u001b[39m \u001b[38;5;28;43mint\u001b[39;49m\u001b[43m(\u001b[49m\u001b[33;43m'\u001b[39;49m\u001b[33;43ma\u001b[39;49m\u001b[33;43m'\u001b[39;49m\u001b[43m)\u001b[49m\n",
      "\u001b[31mValueError\u001b[39m: invalid literal for int() with base 10: 'a'"
     ]
    }
   ],
   "source": [
    "int('a')"
   ]
  },
  {
   "cell_type": "code",
   "execution_count": null,
   "id": "b3bedba7",
   "metadata": {},
   "outputs": [
    {
     "ename": "KeyError",
     "evalue": "10",
     "output_type": "error",
     "traceback": [
      "\u001b[31m---------------------------------------------------------------------------\u001b[39m",
      "\u001b[31mKeyError\u001b[39m                                  Traceback (most recent call last)",
      "\u001b[36mCell\u001b[39m\u001b[36m \u001b[39m\u001b[32mIn[11]\u001b[39m\u001b[32m, line 2\u001b[39m\n\u001b[32m      1\u001b[39m d={}\n\u001b[32m----> \u001b[39m\u001b[32m2\u001b[39m \u001b[38;5;28mprint\u001b[39m(\u001b[43md\u001b[49m\u001b[43m[\u001b[49m\u001b[32;43m10\u001b[39;49m\u001b[43m]\u001b[49m)\n",
      "\u001b[31mKeyError\u001b[39m: 10"
     ]
    }
   ],
   "source": [
    "d={}\n",
    "print(d[10])"
   ]
  },
  {
   "cell_type": "code",
   "execution_count": null,
   "id": "418019e0",
   "metadata": {},
   "outputs": [
    {
     "name": "stdout",
     "output_type": "stream",
     "text": [
      "0.5\n",
      "1\n",
      "2.0\n",
      "2\n"
     ]
    },
    {
     "ename": "ZeroDivisionError",
     "evalue": "division by zero",
     "output_type": "error",
     "traceback": [
      "\u001b[31m---------------------------------------------------------------------------\u001b[39m",
      "\u001b[31mZeroDivisionError\u001b[39m                         Traceback (most recent call last)",
      "\u001b[36mCell\u001b[39m\u001b[36m \u001b[39m\u001b[32mIn[14]\u001b[39m\u001b[32m, line 5\u001b[39m\n\u001b[32m      3\u001b[39m a=\u001b[38;5;28mint\u001b[39m(\u001b[38;5;28minput\u001b[39m(\u001b[33m'\u001b[39m\u001b[33ma = \u001b[39m\u001b[33m'\u001b[39m))\n\u001b[32m      4\u001b[39m b=\u001b[38;5;28mint\u001b[39m(\u001b[38;5;28minput\u001b[39m(\u001b[33m'\u001b[39m\u001b[33mb = \u001b[39m\u001b[33m'\u001b[39m))\n\u001b[32m----> \u001b[39m\u001b[32m5\u001b[39m \u001b[38;5;28mprint\u001b[39m(\u001b[43ma\u001b[49m\u001b[43m/\u001b[49m\u001b[43mb\u001b[49m)\n\u001b[32m      7\u001b[39m \u001b[38;5;28mprint\u001b[39m(i)\n\u001b[32m      8\u001b[39m i+=\u001b[32m1\u001b[39m\n",
      "\u001b[31mZeroDivisionError\u001b[39m: division by zero"
     ]
    }
   ],
   "source": [
    "i=1\n",
    "while i<=5:\n",
    "    a=int(input('a = '))\n",
    "    b=int(input('b = '))\n",
    "    print(a/b)\n",
    "\n",
    "    print(i)\n",
    "    i+=1"
   ]
  },
  {
   "cell_type": "code",
   "execution_count": null,
   "id": "d31da6d0",
   "metadata": {},
   "outputs": [
    {
     "name": "stdout",
     "output_type": "stream",
     "text": [
      "hi, start\n",
      "5.0\n",
      "1\n",
      "0.058823529411764705\n",
      "2\n",
      "3.25\n",
      "3\n",
      "4.8\n",
      "4\n",
      "error\n",
      "5\n",
      "hi, end\n"
     ]
    }
   ],
   "source": [
    "i=1\n",
    "print(\"hi, start\")\n",
    "while i<=5:\n",
    "    try:\n",
    "        a=int(input('a = '))\n",
    "        b=int(input('b = '))\n",
    "        print(a/b)\n",
    "    except:\n",
    "        print(\"error\")\n",
    "    print(i)\n",
    "    i+=1\n",
    "print(\"hi, end\")"
   ]
  },
  {
   "cell_type": "code",
   "execution_count": null,
   "id": "29729a68",
   "metadata": {},
   "outputs": [
    {
     "name": "stdout",
     "output_type": "stream",
     "text": [
      "0.14285714285714285\n",
      "Wrong input b\n",
      "Error!!!\n",
      "0.6\n"
     ]
    }
   ],
   "source": [
    "i = 1\n",
    "while i <= 4:\n",
    "    try:\n",
    "        a = int(input())\n",
    "        b = int(input())\n",
    "        print(a/b)\n",
    "    except ZeroDivisionError:\n",
    "        print(\"Wrong input b\")\n",
    "    except ValueError:\n",
    "        print(\"Wrong input value\")\n",
    "    except Exception:\n",
    "        print(\"Error!!!\")\n",
    "    i += 1"
   ]
  },
  {
   "cell_type": "code",
   "execution_count": 5,
   "id": "107b17db",
   "metadata": {},
   "outputs": [],
   "source": [
    "def fn(a,b):\n",
    "    print('In fn')\n",
    "    if b != 0:\n",
    "        return a/b\n",
    "    else:\n",
    "        raise Exception('b should be non-zero')\n",
    "    print('out fn')"
   ]
  },
  {
   "cell_type": "code",
   "execution_count": 6,
   "id": "e2f45f2d",
   "metadata": {},
   "outputs": [
    {
     "name": "stdout",
     "output_type": "stream",
     "text": [
      "hi main\n",
      "In fn\n",
      "bye main\n"
     ]
    }
   ],
   "source": [
    "print(\"hi main\")\n",
    "fn(10,20)\n",
    "print(\"bye main\")"
   ]
  },
  {
   "cell_type": "code",
   "execution_count": 7,
   "id": "c3dfdda0",
   "metadata": {},
   "outputs": [
    {
     "name": "stdout",
     "output_type": "stream",
     "text": [
      "hi main\n",
      "In fn\n"
     ]
    },
    {
     "ename": "Exception",
     "evalue": "b should be non-zero",
     "output_type": "error",
     "traceback": [
      "\u001b[31m---------------------------------------------------------------------------\u001b[39m",
      "\u001b[31mException\u001b[39m                                 Traceback (most recent call last)",
      "\u001b[36mCell\u001b[39m\u001b[36m \u001b[39m\u001b[32mIn[7]\u001b[39m\u001b[32m, line 2\u001b[39m\n\u001b[32m      1\u001b[39m \u001b[38;5;28mprint\u001b[39m(\u001b[33m\"\u001b[39m\u001b[33mhi main\u001b[39m\u001b[33m\"\u001b[39m)\n\u001b[32m----> \u001b[39m\u001b[32m2\u001b[39m \u001b[43mfn\u001b[49m\u001b[43m(\u001b[49m\u001b[32;43m10\u001b[39;49m\u001b[43m,\u001b[49m\u001b[32;43m0\u001b[39;49m\u001b[43m)\u001b[49m\n\u001b[32m      3\u001b[39m \u001b[38;5;28mprint\u001b[39m(\u001b[33m\"\u001b[39m\u001b[33mbye main\u001b[39m\u001b[33m\"\u001b[39m)\n",
      "\u001b[36mCell\u001b[39m\u001b[36m \u001b[39m\u001b[32mIn[5]\u001b[39m\u001b[32m, line 6\u001b[39m, in \u001b[36mfn\u001b[39m\u001b[34m(a, b)\u001b[39m\n\u001b[32m      4\u001b[39m     \u001b[38;5;28;01mreturn\u001b[39;00m a/b\n\u001b[32m      5\u001b[39m \u001b[38;5;28;01melse\u001b[39;00m:\n\u001b[32m----> \u001b[39m\u001b[32m6\u001b[39m     \u001b[38;5;28;01mraise\u001b[39;00m \u001b[38;5;167;01mException\u001b[39;00m(\u001b[33m'\u001b[39m\u001b[33mb should be non-zero\u001b[39m\u001b[33m'\u001b[39m)\n\u001b[32m      7\u001b[39m \u001b[38;5;28mprint\u001b[39m(\u001b[33m'\u001b[39m\u001b[33mout fn\u001b[39m\u001b[33m'\u001b[39m)\n",
      "\u001b[31mException\u001b[39m: b should be non-zero"
     ]
    }
   ],
   "source": [
    "print(\"hi main\")\n",
    "fn(10,0)\n",
    "print(\"bye main\")"
   ]
  },
  {
   "cell_type": "code",
   "execution_count": 11,
   "id": "31498474",
   "metadata": {},
   "outputs": [
    {
     "name": "stdout",
     "output_type": "stream",
     "text": [
      "hi main\n",
      "In fn\n",
      "div=  0.5\n",
      "byee main\n"
     ]
    }
   ],
   "source": [
    "print(\"hi main\")\n",
    "try:\n",
    "    a=fn(10,20)\n",
    "    print(\"div= \",a)\n",
    "except:\n",
    "    print(\"error\")\n",
    "print(\"byee main\")"
   ]
  },
  {
   "cell_type": "code",
   "execution_count": 12,
   "id": "c3a013a6",
   "metadata": {},
   "outputs": [
    {
     "name": "stdout",
     "output_type": "stream",
     "text": [
      "hi main\n",
      "In fn\n",
      "error\n",
      "byee main\n"
     ]
    }
   ],
   "source": [
    "print(\"hi main\")\n",
    "try:\n",
    "    a=fn(10,0)\n",
    "    print(\"div= \",a)\n",
    "except:\n",
    "    print(\"error\")\n",
    "print(\"byee main\")"
   ]
  },
  {
   "cell_type": "code",
   "execution_count": 15,
   "id": "df60ded0",
   "metadata": {},
   "outputs": [
    {
     "name": "stdout",
     "output_type": "stream",
     "text": [
      "hi main\n",
      "In fn\n",
      "error: b should be non-zero\n",
      "byee main\n"
     ]
    }
   ],
   "source": [
    "print(\"hi main\")\n",
    "try:\n",
    "    a=fn(10,0)\n",
    "    print(\"div= \",a) \n",
    "except Exception as e:\n",
    "    print(\"error:\",e)\n",
    "print(\"byee main\")"
   ]
  },
  {
   "cell_type": "markdown",
   "id": "5ea41372",
   "metadata": {},
   "source": [
    "NOTE:\n",
    "agar ham exception ko function main hi except kr lete h to vo wahi solve ho jata h or baki code halt nahi hote hai.\n",
    "or agar exception function main nahi except hota h to vo sab code ko halt kr deta hai.\n",
    "to sahi tareeka yhai h ki ham function main hi particular exception ko catch kr le."
   ]
  },
  {
   "cell_type": "code",
   "execution_count": 23,
   "id": "8d3bb2dd",
   "metadata": {},
   "outputs": [],
   "source": [
    "def fn(a,b):\n",
    "    print('In fn')\n",
    "    try:\n",
    "        if b != 0:\n",
    "            return a/b\n",
    "        else:\n",
    "            raise Exception('b should be non-zero')\n",
    "    except:\n",
    "        print(\"b should be non-zero\")\n",
    "\n",
    "    print('out fn')"
   ]
  },
  {
   "cell_type": "code",
   "execution_count": 24,
   "id": "4c90d00f",
   "metadata": {},
   "outputs": [
    {
     "name": "stdout",
     "output_type": "stream",
     "text": [
      "hi main\n",
      "In fn\n",
      "b should be non-zero\n",
      "out fn\n",
      "div =  None\n",
      "byee main\n"
     ]
    }
   ],
   "source": [
    "print(\"hi main\")\n",
    "try:\n",
    "    a=fn(10,0)\n",
    "    print(\"div = \",a) \n",
    "except Exception as e:\n",
    "    print(\"error:\",e)\n",
    "print(\"byee main\")"
   ]
  },
  {
   "cell_type": "code",
   "execution_count": 27,
   "id": "21b78ca9",
   "metadata": {},
   "outputs": [],
   "source": [
    "def fn(a,b):\n",
    "    print('In fn')\n",
    "    # try:\n",
    "    if b != 0:\n",
    "        return a/b\n",
    "    else:\n",
    "        raise Exception('b should be non-zero',10,20)\n",
    "    # except:\n",
    "    print(\"b should be non-zero\")\n",
    "\n",
    "    print('out fn')"
   ]
  },
  {
   "cell_type": "code",
   "execution_count": 29,
   "id": "47ba6bdd",
   "metadata": {},
   "outputs": [
    {
     "name": "stdout",
     "output_type": "stream",
     "text": [
      "Hi Main\n",
      "In fn\n"
     ]
    },
    {
     "ename": "Exception",
     "evalue": "('b should be non-zero', 10, 20)",
     "output_type": "error",
     "traceback": [
      "\u001b[31m---------------------------------------------------------------------------\u001b[39m",
      "\u001b[31mException\u001b[39m                                 Traceback (most recent call last)",
      "\u001b[36mCell\u001b[39m\u001b[36m \u001b[39m\u001b[32mIn[29]\u001b[39m\u001b[32m, line 3\u001b[39m\n\u001b[32m      1\u001b[39m \u001b[38;5;28mprint\u001b[39m(\u001b[33m'\u001b[39m\u001b[33mHi Main\u001b[39m\u001b[33m'\u001b[39m)\n\u001b[32m      2\u001b[39m \u001b[38;5;66;03m# try:\u001b[39;00m\n\u001b[32m----> \u001b[39m\u001b[32m3\u001b[39m a = \u001b[43mfn\u001b[49m\u001b[43m(\u001b[49m\u001b[32;43m10\u001b[39;49m\u001b[43m,\u001b[49m\u001b[32;43m0\u001b[39;49m\u001b[43m)\u001b[49m\n\u001b[32m      4\u001b[39m \u001b[38;5;28mprint\u001b[39m(\u001b[33m'\u001b[39m\u001b[33mdiv =\u001b[39m\u001b[33m'\u001b[39m,a)\n\u001b[32m      5\u001b[39m \u001b[38;5;66;03m# except Exception as e:\u001b[39;00m\n\u001b[32m      6\u001b[39m \u001b[38;5;66;03m#     print('Error: ',e)\u001b[39;00m\n",
      "\u001b[36mCell\u001b[39m\u001b[36m \u001b[39m\u001b[32mIn[27]\u001b[39m\u001b[32m, line 7\u001b[39m, in \u001b[36mfn\u001b[39m\u001b[34m(a, b)\u001b[39m\n\u001b[32m      5\u001b[39m     \u001b[38;5;28;01mreturn\u001b[39;00m a/b\n\u001b[32m      6\u001b[39m \u001b[38;5;28;01melse\u001b[39;00m:\n\u001b[32m----> \u001b[39m\u001b[32m7\u001b[39m     \u001b[38;5;28;01mraise\u001b[39;00m \u001b[38;5;167;01mException\u001b[39;00m(\u001b[33m'\u001b[39m\u001b[33mb should be non-zero\u001b[39m\u001b[33m'\u001b[39m,\u001b[32m10\u001b[39m,\u001b[32m20\u001b[39m)\n\u001b[32m      8\u001b[39m \u001b[38;5;66;03m# except:\u001b[39;00m\n\u001b[32m      9\u001b[39m \u001b[38;5;28mprint\u001b[39m(\u001b[33m\"\u001b[39m\u001b[33mb should be non-zero\u001b[39m\u001b[33m\"\u001b[39m)\n",
      "\u001b[31mException\u001b[39m: ('b should be non-zero', 10, 20)"
     ]
    }
   ],
   "source": [
    "print('Hi Main')\n",
    "# try:\n",
    "a = fn(10,0)\n",
    "print('div =',a)\n",
    "# except Exception as e:\n",
    "#     print('Error: ',e)\n",
    "print('Bye Main')"
   ]
  },
  {
   "cell_type": "code",
   "execution_count": 30,
   "id": "1f562632",
   "metadata": {},
   "outputs": [
    {
     "name": "stdout",
     "output_type": "stream",
     "text": [
      "Hi\n",
      "In fn\n",
      "b should be non-zero\n",
      "Traceback (most recent call last):\n",
      "  File \"C:\\Users\\ASUS\\AppData\\Local\\Temp\\ipykernel_10584\\132026757.py\", line 4, in <module>\n",
      "    fn(-10,0)\n",
      "    ~~^^^^^^^\n",
      "  File \"C:\\Users\\ASUS\\AppData\\Local\\Temp\\ipykernel_10584\\1273430600.py\", line 7, in fn\n",
      "    raise Exception('b should be non-zero',10,20)\n",
      "Exception: ('b should be non-zero', 10, 20)\n",
      "\n"
     ]
    }
   ],
   "source": [
    "import traceback\n",
    "try:\n",
    "    print(\"Hi\")\n",
    "    fn(-10,0)\n",
    "    print(\"Bye\")\n",
    "except Exception as e:\n",
    "    print(e.args[0])\n",
    "    print(traceback.format_exc())"
   ]
  },
  {
   "cell_type": "code",
   "execution_count": 32,
   "id": "d0862ea2",
   "metadata": {},
   "outputs": [],
   "source": [
    "def fn(a,b):\n",
    "    print('In fn')\n",
    "    try:\n",
    "        if b != 0:\n",
    "            return a/b\n",
    "        else:\n",
    "            raise Exception('b should be non-zero',10,20)\n",
    "    except:\n",
    "        print(\"b should be non-zero\")\n",
    "\n",
    "    finally:\n",
    "        print('In finally')\n",
    "        # return 0\n",
    "\n",
    "    print('out fn')"
   ]
  },
  {
   "cell_type": "code",
   "execution_count": 33,
   "id": "199f1248",
   "metadata": {},
   "outputs": [
    {
     "name": "stdout",
     "output_type": "stream",
     "text": [
      "hi main\n",
      "In fn\n",
      "b should be non-zero\n",
      "In finally\n",
      "out fn\n",
      "div =  None\n",
      "byee main\n"
     ]
    }
   ],
   "source": [
    "print(\"hi main\")\n",
    "try:\n",
    "    a=fn(10,0)\n",
    "    print(\"div = \",a) \n",
    "except Exception as e:\n",
    "    print(\"error:\",e)\n",
    "print(\"byee main\")"
   ]
  }
 ],
 "metadata": {
  "kernelspec": {
   "display_name": "Python 3",
   "language": "python",
   "name": "python3"
  },
  "language_info": {
   "codemirror_mode": {
    "name": "ipython",
    "version": 3
   },
   "file_extension": ".py",
   "mimetype": "text/x-python",
   "name": "python",
   "nbconvert_exporter": "python",
   "pygments_lexer": "ipython3",
   "version": "3.13.5"
  }
 },
 "nbformat": 4,
 "nbformat_minor": 5
}
