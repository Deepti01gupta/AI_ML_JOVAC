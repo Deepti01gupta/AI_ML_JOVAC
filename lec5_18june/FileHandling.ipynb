{
 "cells": [
  {
   "cell_type": "markdown",
   "id": "2f1220b4",
   "metadata": {},
   "source": [
    "1. File Access Modes\n",
    "    -> r(read only)\n",
    "    -> r+ (read and write)\n",
    "    -> w (write only)\n",
    "    -> a (append)\n",
    "    -> a+ (append and read)\n",
    "    -> x (new File Create)\n",
    "    -> t (text Mode)\n",
    "    -> b (binary Mode)\n",
    "\n",
    "2. Read Files\n",
    "    -> read\n",
    "    -> readline\n",
    "    -> readlines\n",
    "\n",
    "3. Write Files\n",
    "    -> write\n",
    "    -> append\n",
    "\n",
    "4. With -- Operator\n",
    "\n",
    "5. Moving the cursor\n",
    "    -> seek(n): takes the file handle to the nth byte from the begining\n",
    "\n",
    "6. JSON(javascript object notation) Files\n",
    "    -> dump -- write\n",
    "    -> load -- read\n",
    "    -> dumps -- Convert dict in str\n",
    "    -> loads -- Convert str to dict"
   ]
  },
  {
   "cell_type": "code",
   "execution_count": 48,
   "id": "f85c4220",
   "metadata": {},
   "outputs": [],
   "source": [
    "file = open('test.txt')"
   ]
  },
  {
   "cell_type": "code",
   "execution_count": 15,
   "id": "34b706fa",
   "metadata": {},
   "outputs": [
    {
     "name": "stdout",
     "output_type": "stream",
     "text": [
      "<_io.TextIOWrapper name='test.txt' mode='r' encoding='cp1252'>\n"
     ]
    }
   ],
   "source": [
    "print(file)"
   ]
  },
  {
   "cell_type": "code",
   "execution_count": 16,
   "id": "34faf475",
   "metadata": {},
   "outputs": [
    {
     "name": "stdout",
     "output_type": "stream",
     "text": [
      "<class '_io.TextIOWrapper'>\n"
     ]
    }
   ],
   "source": [
    "print(type(file))"
   ]
  },
  {
   "cell_type": "markdown",
   "id": "f5689f60",
   "metadata": {},
   "source": [
    "Note:\n",
    "jab ham file ko read karwate hai to ek cursor hota h jo move krta hai to ham jitne character read krwate h utne read ho jate h or cursor uske baad aa jata h"
   ]
  },
  {
   "cell_type": "code",
   "execution_count": 21,
   "id": "bb9804a9",
   "metadata": {},
   "outputs": [
    {
     "name": "stdout",
     "output_type": "stream",
     "text": [
      "Hello World\n",
      "This is a dummy file for GLA Python Batch\n"
     ]
    }
   ],
   "source": [
    "print(file.read())"
   ]
  },
  {
   "cell_type": "markdown",
   "id": "0e91cd69",
   "metadata": {},
   "source": [
    "seek(0) is use to move the cursor at the starting of the file."
   ]
  },
  {
   "cell_type": "code",
   "execution_count": 40,
   "id": "a2e85259",
   "metadata": {},
   "outputs": [
    {
     "data": {
      "text/plain": [
       "0"
      ]
     },
     "execution_count": 40,
     "metadata": {},
     "output_type": "execute_result"
    }
   ],
   "source": [
    "file.seek(0)"
   ]
  },
  {
   "cell_type": "code",
   "execution_count": 41,
   "id": "d8880fb2",
   "metadata": {},
   "outputs": [
    {
     "name": "stdout",
     "output_type": "stream",
     "text": [
      "Hello Worl\n"
     ]
    }
   ],
   "source": [
    "print(file.read(10))"
   ]
  },
  {
   "cell_type": "code",
   "execution_count": 42,
   "id": "07cdbb97",
   "metadata": {},
   "outputs": [
    {
     "name": "stdout",
     "output_type": "stream",
     "text": [
      "['Hello World\\n', 'This is a dummy file for GLA Python Batch']\n"
     ]
    }
   ],
   "source": [
    "file.seek(0)\n",
    "print(file.readlines())"
   ]
  },
  {
   "cell_type": "code",
   "execution_count": 43,
   "id": "6e9123b4",
   "metadata": {},
   "outputs": [
    {
     "name": "stdout",
     "output_type": "stream",
     "text": [
      "Hello World\n",
      "This is a dummy file for GLA Python Batch"
     ]
    }
   ],
   "source": [
    "file.seek(0)\n",
    "for line in file.readlines():\n",
    "    print(line,end='')"
   ]
  },
  {
   "cell_type": "code",
   "execution_count": 44,
   "id": "25d926e2",
   "metadata": {},
   "outputs": [
    {
     "name": "stdout",
     "output_type": "stream",
     "text": [
      "Hello World\n",
      "\n"
     ]
    }
   ],
   "source": [
    "file.seek(0)\n",
    "s=file.readline()\n",
    "print(s)"
   ]
  },
  {
   "cell_type": "code",
   "execution_count": 49,
   "id": "1a89ae34",
   "metadata": {},
   "outputs": [
    {
     "name": "stdout",
     "output_type": "stream",
     "text": [
      "Hello World\n",
      "This is a dummy file for GLA Python Batch"
     ]
    }
   ],
   "source": [
    "file.seek(0)\n",
    "s=file.readline()\n",
    "while s!='':\n",
    "    print(s,end='')\n",
    "    s=file.readline()"
   ]
  },
  {
   "cell_type": "code",
   "execution_count": 51,
   "id": "1e614fdc",
   "metadata": {},
   "outputs": [
    {
     "name": "stdout",
     "output_type": "stream",
     "text": [
      "This is a dummy file for GLA Python Batch\n"
     ]
    }
   ],
   "source": [
    "file.seek(0)\n",
    "while line in file:\n",
    "    print(line)"
   ]
  },
  {
   "cell_type": "code",
   "execution_count": 46,
   "id": "c734c1ca",
   "metadata": {},
   "outputs": [],
   "source": [
    "file.close()"
   ]
  },
  {
   "cell_type": "code",
   "execution_count": 32,
   "id": "675a6e6a",
   "metadata": {},
   "outputs": [],
   "source": [
    "# file = open('FileDemo.txt','w')\n",
    "\n",
    "# file = open('FileDemo.txt','a')\n",
    "\n",
    "# file = open('FileDemo.txt','a+')\n",
    "\n",
    "file = open('FileDemo.txt','r+')"
   ]
  },
  {
   "cell_type": "code",
   "execution_count": 33,
   "id": "df088860",
   "metadata": {},
   "outputs": [
    {
     "data": {
      "text/plain": [
       "11"
      ]
     },
     "execution_count": 33,
     "metadata": {},
     "output_type": "execute_result"
    }
   ],
   "source": [
    "# file.write(\"\"\"This is stmt1.\n",
    "# This is stmt2.\n",
    "# This is stmt3.\n",
    "# This is stmt4.\n",
    "# This is stmt5.\"\"\")\n",
    "\n",
    "# file.seek(0)\n",
    "# print(file.read())\n",
    "\n",
    "\n",
    "\n",
    "# end main end krega hello world ko\n",
    "# file.seek(0)\n",
    "# file.write(\"Hello World\")\n",
    "# print(file.read())\n",
    "\n",
    "# print(file.read())\n",
    "file.write(\"Hello World\")"
   ]
  },
  {
   "cell_type": "code",
   "execution_count": 35,
   "id": "cc3f1c77",
   "metadata": {},
   "outputs": [],
   "source": [
    "file.close()"
   ]
  },
  {
   "cell_type": "code",
   "execution_count": 36,
   "id": "5ae68492",
   "metadata": {},
   "outputs": [
    {
     "name": "stdout",
     "output_type": "stream",
     "text": [
      "Hello Worldt1.\n",
      "This is stmt2.\n",
      "This is stmt3.\n",
      "This is stmt4.\n",
      "This is stmt5.This is stmt1.\n",
      "This is stmt2.\n",
      "This is stmt3.\n",
      "This is stmt4.\n",
      "This is stmt5.Hello WorldHello WorldHello World\n"
     ]
    }
   ],
   "source": [
    "with open('FileDemo.txt','r') as file:\n",
    "    print(file.read())"
   ]
  },
  {
   "cell_type": "code",
   "execution_count": 37,
   "id": "b2ffe149",
   "metadata": {},
   "outputs": [
    {
     "name": "stdout",
     "output_type": "stream",
     "text": [
      "Hello Worldt1.\n",
      "This is stmt2.\n",
      "This is stmt3.\n",
      "This is stmt4.\n",
      "This is stmt5.This is stmt1.\n",
      "This is stmt2.\n",
      "This is stmt3.\n",
      "This is stmt4.\n",
      "This is stmt5.Hello WorldHello WorldHello World"
     ]
    }
   ],
   "source": [
    "with open('FileDemo.txt','r') as file:\n",
    "    for line in file:\n",
    "        print(line,end='')"
   ]
  },
  {
   "cell_type": "code",
   "execution_count": 59,
   "id": "5eaea9b0",
   "metadata": {},
   "outputs": [],
   "source": [
    "l=[\"s1\",\"s2\",\"s3\",\"s4\",\"s5\"]\n",
    "with open('Questions.txt','w') as file:\n",
    "    for s in l:\n",
    "        file.write(s+'\\n')"
   ]
  },
  {
   "cell_type": "code",
   "execution_count": 60,
   "id": "9f97c8f8",
   "metadata": {},
   "outputs": [
    {
     "data": {
      "text/plain": [
       "['s10', 's20', 's30', 's40', 's50']"
      ]
     },
     "execution_count": 60,
     "metadata": {},
     "output_type": "execute_result"
    }
   ],
   "source": [
    "ans=[]\n",
    "with open('Questions.txt','r') as file:\n",
    "    for line in file:\n",
    "        ans.append(line.strip()+'0')\n",
    "ans"
   ]
  },
  {
   "cell_type": "code",
   "execution_count": 61,
   "id": "3f03557f",
   "metadata": {},
   "outputs": [],
   "source": [
    "js={\n",
    "    'India':1000,\n",
    "    'USA':100\n",
    "}"
   ]
  },
  {
   "cell_type": "code",
   "execution_count": 62,
   "id": "6530a73a",
   "metadata": {},
   "outputs": [],
   "source": [
    "import json"
   ]
  },
  {
   "cell_type": "code",
   "execution_count": 63,
   "id": "4234cbec",
   "metadata": {},
   "outputs": [],
   "source": [
    "with open('Country.json','w') as file:\n",
    "    json.dump(js,file)"
   ]
  },
  {
   "cell_type": "code",
   "execution_count": 64,
   "id": "1d40d73f",
   "metadata": {},
   "outputs": [
    {
     "name": "stdout",
     "output_type": "stream",
     "text": [
      "{'India': 1000, 'USA': 100} <class 'dict'>\n"
     ]
    }
   ],
   "source": [
    "with open('Country.json','r') as file:\n",
    "    j=json.load(file)\n",
    "    print(j,type(j))"
   ]
  },
  {
   "cell_type": "code",
   "execution_count": 65,
   "id": "6425cce7",
   "metadata": {},
   "outputs": [
    {
     "data": {
      "text/plain": [
       "'{\"India\": 1000, \"USA\": 100}'"
      ]
     },
     "execution_count": 65,
     "metadata": {},
     "output_type": "execute_result"
    }
   ],
   "source": [
    "s=json.dumps(js)\n",
    "s"
   ]
  },
  {
   "cell_type": "code",
   "execution_count": 66,
   "id": "51f299b3",
   "metadata": {},
   "outputs": [
    {
     "data": {
      "text/plain": [
       "{'India': 1000, 'USA': 100}"
      ]
     },
     "execution_count": 66,
     "metadata": {},
     "output_type": "execute_result"
    }
   ],
   "source": [
    "json.loads(s)"
   ]
  },
  {
   "cell_type": "code",
   "execution_count": 68,
   "id": "0212af6e",
   "metadata": {},
   "outputs": [],
   "source": [
    "import os"
   ]
  },
  {
   "cell_type": "code",
   "execution_count": 70,
   "id": "2754ea4c",
   "metadata": {},
   "outputs": [
    {
     "data": {
      "text/plain": [
       "['Country.json',\n",
       " 'ExceptionHandling.ipynb',\n",
       " 'FileDemo.txt',\n",
       " 'FileHandling.ipynb',\n",
       " 'myModule.py',\n",
       " 'myModuleUse.ipynb',\n",
       " 'Questions.txt',\n",
       " 'test.txt',\n",
       " '__pycache__']"
      ]
     },
     "execution_count": 70,
     "metadata": {},
     "output_type": "execute_result"
    }
   ],
   "source": [
    "os.listdir('./')"
   ]
  }
 ],
 "metadata": {
  "kernelspec": {
   "display_name": "Python 3",
   "language": "python",
   "name": "python3"
  },
  "language_info": {
   "codemirror_mode": {
    "name": "ipython",
    "version": 3
   },
   "file_extension": ".py",
   "mimetype": "text/x-python",
   "name": "python",
   "nbconvert_exporter": "python",
   "pygments_lexer": "ipython3",
   "version": "3.13.5"
  }
 },
 "nbformat": 4,
 "nbformat_minor": 5
}
