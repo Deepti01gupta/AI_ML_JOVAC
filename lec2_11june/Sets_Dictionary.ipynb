{
 "cells": [
  {
   "cell_type": "markdown",
   "id": "b3c782cb",
   "metadata": {},
   "source": [
    "SETS:\n",
    "1. unordered collection of unique items\n",
    "2. Using sets:\n",
    "    -> we can test for membership\n",
    "    -> whether a set is a subset of another set\n",
    "    -> find intersection between two sets and so on\n",
    "3. Can't be indexed"
   ]
  },
  {
   "cell_type": "code",
   "execution_count": 8,
   "id": "a50f0c4c",
   "metadata": {},
   "outputs": [
    {
     "name": "stdout",
     "output_type": "stream",
     "text": [
      "{1, 2, 3, 4, 5, 10, 'hello', 'shubham'} <class 'set'>\n"
     ]
    }
   ],
   "source": [
    "s={1,2,3,4,\"hello\",1,5,\"shubham\",10}\n",
    "print(s,type(s))"
   ]
  },
  {
   "cell_type": "code",
   "execution_count": 4,
   "id": "a737cb1b",
   "metadata": {},
   "outputs": [
    {
     "ename": "TypeError",
     "evalue": "'set' object is not subscriptable",
     "output_type": "error",
     "traceback": [
      "\u001b[31m---------------------------------------------------------------------------\u001b[39m",
      "\u001b[31mTypeError\u001b[39m                                 Traceback (most recent call last)",
      "\u001b[36mCell\u001b[39m\u001b[36m \u001b[39m\u001b[32mIn[4]\u001b[39m\u001b[32m, line 1\u001b[39m\n\u001b[32m----> \u001b[39m\u001b[32m1\u001b[39m \u001b[43ms\u001b[49m\u001b[43m[\u001b[49m\u001b[32;43m0\u001b[39;49m\u001b[43m]\u001b[49m\n",
      "\u001b[31mTypeError\u001b[39m: 'set' object is not subscriptable"
     ]
    }
   ],
   "source": [
    "s[0]"
   ]
  },
  {
   "cell_type": "code",
   "execution_count": 5,
   "id": "777afd0c",
   "metadata": {},
   "outputs": [
    {
     "data": {
      "text/plain": [
       "True"
      ]
     },
     "execution_count": 5,
     "metadata": {},
     "output_type": "execute_result"
    }
   ],
   "source": [
    "3 in s"
   ]
  },
  {
   "cell_type": "code",
   "execution_count": 6,
   "id": "bfd51921",
   "metadata": {},
   "outputs": [
    {
     "data": {
      "text/plain": [
       "True"
      ]
     },
     "execution_count": 6,
     "metadata": {},
     "output_type": "execute_result"
    }
   ],
   "source": [
    "\"hello\" in s"
   ]
  },
  {
   "cell_type": "markdown",
   "id": "06195183",
   "metadata": {},
   "source": [
    "-> set(): use to convert other data type into set\n",
    "-> add(): use to add element in the set\n",
    "-> union(): use to find union of 2 sets given\n",
    "-> intersection(): use to find intersection of 2 sets given\n",
    "-> pop(): use to remove element from set\n",
    "-> remove(): use to remove given element from the set if element is not present it will show error\n",
    "-> discard(): use to remove given element from the set if element is not present it will not show any find of error\n",
    "-> difference(): use to find the element different in one set from another\n",
    "-> symmetric_difference(): use to find the different element in both the set from one another and combine them\n",
    "-> issubset(): use to find out weather one is subset(set contains some/all elements from main set only) of other or not\n",
    "-> issuperset(): use to find out weather one is superset(set containing all the elements of main set only) of other or not\n",
    "-> isdisjoint(): use to find out ont is disjoint(have no common element) from of other of not"
   ]
  },
  {
   "cell_type": "code",
   "execution_count": 35,
   "id": "7a14d20f",
   "metadata": {},
   "outputs": [
    {
     "data": {
      "text/plain": [
       "5"
      ]
     },
     "execution_count": 35,
     "metadata": {},
     "output_type": "execute_result"
    }
   ],
   "source": [
    "s={1,2,3,4,5}\n",
    "len(s)"
   ]
  },
  {
   "cell_type": "code",
   "execution_count": 9,
   "id": "b5abc95e",
   "metadata": {},
   "outputs": [
    {
     "name": "stdout",
     "output_type": "stream",
     "text": [
      "{1, 2, 3, 4}\n"
     ]
    }
   ],
   "source": [
    "l=[1,2,3,4,3,2,4,2,1,3,1,3]\n",
    "s=set(l)\n",
    "print(s)"
   ]
  },
  {
   "cell_type": "code",
   "execution_count": 11,
   "id": "0a44e00f",
   "metadata": {},
   "outputs": [
    {
     "name": "stdout",
     "output_type": "stream",
     "text": [
      "{1, 2, 3, 4, 10}\n"
     ]
    }
   ],
   "source": [
    "s1={1,2,3,4}\n",
    "s1.add(10)\n",
    "print(s1)"
   ]
  },
  {
   "cell_type": "code",
   "execution_count": null,
   "id": "a39afd9c",
   "metadata": {},
   "outputs": [
    {
     "name": "stdout",
     "output_type": "stream",
     "text": [
      "{} <class 'dict'>\n"
     ]
    }
   ],
   "source": [
    "s={}  # this create an empty set\n",
    "print(s,type(s))"
   ]
  },
  {
   "cell_type": "code",
   "execution_count": 14,
   "id": "9e5e57f4",
   "metadata": {},
   "outputs": [
    {
     "name": "stdout",
     "output_type": "stream",
     "text": [
      "<class 'set'>\n"
     ]
    }
   ],
   "source": [
    "s=set()\n",
    "print(type(s))"
   ]
  },
  {
   "cell_type": "code",
   "execution_count": 23,
   "id": "60844a12",
   "metadata": {},
   "outputs": [
    {
     "data": {
      "text/plain": [
       "{1, 2, 3, 4, 5}"
      ]
     },
     "execution_count": 23,
     "metadata": {},
     "output_type": "execute_result"
    }
   ],
   "source": [
    "s1={1,2,3}\n",
    "s2={3,4,5}\n",
    "s1.union(s2)"
   ]
  },
  {
   "cell_type": "code",
   "execution_count": 19,
   "id": "6167b458",
   "metadata": {},
   "outputs": [
    {
     "data": {
      "text/plain": [
       "{3}"
      ]
     },
     "execution_count": 19,
     "metadata": {},
     "output_type": "execute_result"
    }
   ],
   "source": [
    "s1.intersection(s2)"
   ]
  },
  {
   "cell_type": "code",
   "execution_count": 20,
   "id": "7c6323bc",
   "metadata": {},
   "outputs": [
    {
     "name": "stdout",
     "output_type": "stream",
     "text": [
      "{1, 2, 3}\n"
     ]
    }
   ],
   "source": [
    "print(s1)"
   ]
  },
  {
   "cell_type": "code",
   "execution_count": null,
   "id": "4874d942",
   "metadata": {},
   "outputs": [
    {
     "name": "stdout",
     "output_type": "stream",
     "text": [
      "{3}\n"
     ]
    }
   ],
   "source": [
    "s1.pop()"
   ]
  },
  {
   "cell_type": "code",
   "execution_count": null,
   "id": "ab656930",
   "metadata": {},
   "outputs": [
    {
     "name": "stdout",
     "output_type": "stream",
     "text": [
      "{2, 3}\n"
     ]
    }
   ],
   "source": [
    "print(s1)"
   ]
  },
  {
   "cell_type": "code",
   "execution_count": 27,
   "id": "753fa275",
   "metadata": {},
   "outputs": [
    {
     "name": "stdout",
     "output_type": "stream",
     "text": [
      "{1, 2, 3, 4}\n"
     ]
    }
   ],
   "source": [
    "s1={1,2,3,10,4}\n",
    "s1.remove(10)\n",
    "print(s1)"
   ]
  },
  {
   "cell_type": "code",
   "execution_count": 28,
   "id": "1eb05d0d",
   "metadata": {},
   "outputs": [],
   "source": [
    "s1={1,2,3,4}\n",
    "s1.discard(10)"
   ]
  },
  {
   "cell_type": "code",
   "execution_count": 29,
   "id": "eaf83fb9",
   "metadata": {},
   "outputs": [],
   "source": [
    "s1={1,2,3,4}\n",
    "s2={3,4,5,6}"
   ]
  },
  {
   "cell_type": "code",
   "execution_count": 30,
   "id": "608a4729",
   "metadata": {},
   "outputs": [
    {
     "data": {
      "text/plain": [
       "{5, 6}"
      ]
     },
     "execution_count": 30,
     "metadata": {},
     "output_type": "execute_result"
    }
   ],
   "source": [
    "s2.difference(s1)"
   ]
  },
  {
   "cell_type": "code",
   "execution_count": 31,
   "id": "54e7e865",
   "metadata": {},
   "outputs": [
    {
     "data": {
      "text/plain": [
       "{1, 2, 5, 6}"
      ]
     },
     "execution_count": 31,
     "metadata": {},
     "output_type": "execute_result"
    }
   ],
   "source": [
    "s2.symmetric_difference(s1)"
   ]
  },
  {
   "cell_type": "code",
   "execution_count": 32,
   "id": "579baac4",
   "metadata": {},
   "outputs": [
    {
     "data": {
      "text/plain": [
       "False"
      ]
     },
     "execution_count": 32,
     "metadata": {},
     "output_type": "execute_result"
    }
   ],
   "source": [
    "s1.issubset(s2)"
   ]
  },
  {
   "cell_type": "code",
   "execution_count": 33,
   "id": "c018c523",
   "metadata": {},
   "outputs": [
    {
     "data": {
      "text/plain": [
       "False"
      ]
     },
     "execution_count": 33,
     "metadata": {},
     "output_type": "execute_result"
    }
   ],
   "source": [
    "s1.issuperset(s2)"
   ]
  },
  {
   "cell_type": "code",
   "execution_count": 34,
   "id": "c6dec126",
   "metadata": {},
   "outputs": [
    {
     "data": {
      "text/plain": [
       "False"
      ]
     },
     "execution_count": 34,
     "metadata": {},
     "output_type": "execute_result"
    }
   ],
   "source": [
    "s1.isdisjoint(s2)"
   ]
  },
  {
   "cell_type": "code",
   "execution_count": 36,
   "id": "22d1ef51",
   "metadata": {},
   "outputs": [
    {
     "name": "stdout",
     "output_type": "stream",
     "text": [
      "1\n",
      "2\n",
      "3\n",
      "4\n",
      "5\n"
     ]
    }
   ],
   "source": [
    "s1={1,2,3,4,5}\n",
    "for ele in s1:\n",
    "    print(ele)"
   ]
  },
  {
   "cell_type": "markdown",
   "id": "efe4344f",
   "metadata": {},
   "source": [
    "DICTIONARY:\n",
    "-> unordered collection of key:value pairs\n",
    "-> mutable data structure\n",
    "-> Heterogeneous\n",
    "-> Immutable Keys\n",
    "-> dict functions\n",
    "-> traversal\n",
    "-> Comprehension"
   ]
  },
  {
   "cell_type": "code",
   "execution_count": 40,
   "id": "cb915214",
   "metadata": {},
   "outputs": [
    {
     "name": "stdout",
     "output_type": "stream",
     "text": [
      "{'India': 1000, 'USSR': 150, 'USA': 100, 1.1: 'one', 2: [1, 2], (1, 2, 3): 'Tuple'} <class 'dict'>\n"
     ]
    }
   ],
   "source": [
    "\n",
    "d = {\n",
    "    \"India\" : 1000,\n",
    "    \"USSR\" : 150,\n",
    "    \"USA\" : 100,\n",
    "    1.1 : \"one\",\n",
    "    2 : [1,2],\n",
    "    (1,2,3) : \"Tuple\",\n",
    "    # [1,2,3] : \"List\" # because list is mutable and key of the pair must be immutable\n",
    "}\n",
    "print(d,type(d))"
   ]
  },
  {
   "cell_type": "code",
   "execution_count": 43,
   "id": "d0baf73c",
   "metadata": {},
   "outputs": [
    {
     "name": "stdout",
     "output_type": "stream",
     "text": [
      "{'India': 1000, 'USSR': 150, 'USA': 100, 1.1: 'one', 2: [1, 2], (1, 2, 3): 'Tuple', 'china': 'noodles'}\n"
     ]
    }
   ],
   "source": [
    "d[\"china\"]=\"noodles\"\n",
    "print(d)"
   ]
  },
  {
   "cell_type": "code",
   "execution_count": 44,
   "id": "8fbb6762",
   "metadata": {},
   "outputs": [
    {
     "data": {
      "text/plain": [
       "'Tuple'"
      ]
     },
     "execution_count": 44,
     "metadata": {},
     "output_type": "execute_result"
    }
   ],
   "source": [
    "d[(1,2,3)]"
   ]
  },
  {
   "cell_type": "code",
   "execution_count": 45,
   "id": "6b254f04",
   "metadata": {},
   "outputs": [
    {
     "ename": "KeyError",
     "evalue": "3",
     "output_type": "error",
     "traceback": [
      "\u001b[31m---------------------------------------------------------------------------\u001b[39m",
      "\u001b[31mKeyError\u001b[39m                                  Traceback (most recent call last)",
      "\u001b[36mCell\u001b[39m\u001b[36m \u001b[39m\u001b[32mIn[45]\u001b[39m\u001b[32m, line 1\u001b[39m\n\u001b[32m----> \u001b[39m\u001b[32m1\u001b[39m \u001b[43md\u001b[49m\u001b[43m[\u001b[49m\u001b[32;43m3\u001b[39;49m\u001b[43m]\u001b[49m\n",
      "\u001b[31mKeyError\u001b[39m: 3"
     ]
    }
   ],
   "source": [
    "d[3]"
   ]
  },
  {
   "cell_type": "markdown",
   "id": "7c73f377",
   "metadata": {},
   "source": [
    "-> get(key): use to get value of key if key is present or default value\n",
    "-> pop(key): use to remove key value pair of the given key\n",
    "-> popitem(): use to remove last key value pair\n",
    "-> del dic[key]: use to remove key value pair of the given key\n",
    "-> keys(): use to get all the keys\n",
    "-> values(): use to get all the values\n",
    "-> items(): use to get all the key_value pairs \n",
    "-> fromkey(list,default_value): use to form dictionary using keys given in list with defalut value given\n",
    "-> update(dict): use to update main dictionary by adding the pairs of given dictionary if key already exits in main dictionary it will get updated"
   ]
  },
  {
   "cell_type": "code",
   "execution_count": 46,
   "id": "ef14719d",
   "metadata": {},
   "outputs": [
    {
     "name": "stdout",
     "output_type": "stream",
     "text": [
      "None\n"
     ]
    }
   ],
   "source": [
    "print(d.get(\"india\"))"
   ]
  },
  {
   "cell_type": "code",
   "execution_count": 47,
   "id": "c4d8fa21",
   "metadata": {},
   "outputs": [
    {
     "name": "stdout",
     "output_type": "stream",
     "text": [
      "good girl\n"
     ]
    }
   ],
   "source": [
    "print(d.get(\"deepti\",\"good girl\"))"
   ]
  },
  {
   "cell_type": "code",
   "execution_count": 48,
   "id": "82183b92",
   "metadata": {},
   "outputs": [
    {
     "data": {
      "text/plain": [
       "{'India': 1000,\n",
       " 'USSR': 150,\n",
       " 'USA': 100,\n",
       " 1.1: 'one',\n",
       " 2: [1, 2],\n",
       " (1, 2, 3): 'Tuple',\n",
       " 'china': 'noodles'}"
      ]
     },
     "execution_count": 48,
     "metadata": {},
     "output_type": "execute_result"
    }
   ],
   "source": [
    "d"
   ]
  },
  {
   "cell_type": "code",
   "execution_count": 49,
   "id": "455ab9bc",
   "metadata": {},
   "outputs": [
    {
     "data": {
      "text/plain": [
       "'noodles'"
      ]
     },
     "execution_count": 49,
     "metadata": {},
     "output_type": "execute_result"
    }
   ],
   "source": [
    "d.pop(\"china\")"
   ]
  },
  {
   "cell_type": "code",
   "execution_count": 50,
   "id": "e53ac41d",
   "metadata": {},
   "outputs": [
    {
     "data": {
      "text/plain": [
       "{'India': 1000,\n",
       " 'USSR': 150,\n",
       " 'USA': 100,\n",
       " 1.1: 'one',\n",
       " 2: [1, 2],\n",
       " (1, 2, 3): 'Tuple'}"
      ]
     },
     "execution_count": 50,
     "metadata": {},
     "output_type": "execute_result"
    }
   ],
   "source": [
    "d"
   ]
  },
  {
   "cell_type": "code",
   "execution_count": 51,
   "id": "c32be7f5",
   "metadata": {},
   "outputs": [
    {
     "data": {
      "text/plain": [
       "((1, 2, 3), 'Tuple')"
      ]
     },
     "execution_count": 51,
     "metadata": {},
     "output_type": "execute_result"
    }
   ],
   "source": [
    "d.popitem()"
   ]
  },
  {
   "cell_type": "code",
   "execution_count": 52,
   "id": "1317bc02",
   "metadata": {},
   "outputs": [
    {
     "data": {
      "text/plain": [
       "{'India': 1000, 'USSR': 150, 'USA': 100, 1.1: 'one', 2: [1, 2]}"
      ]
     },
     "execution_count": 52,
     "metadata": {},
     "output_type": "execute_result"
    }
   ],
   "source": [
    "d"
   ]
  },
  {
   "cell_type": "code",
   "execution_count": 53,
   "id": "34846792",
   "metadata": {},
   "outputs": [],
   "source": [
    "del d[\"USA\"]"
   ]
  },
  {
   "cell_type": "code",
   "execution_count": 54,
   "id": "56b9462a",
   "metadata": {},
   "outputs": [
    {
     "data": {
      "text/plain": [
       "{'India': 1000, 'USSR': 150, 1.1: 'one', 2: [1, 2]}"
      ]
     },
     "execution_count": 54,
     "metadata": {},
     "output_type": "execute_result"
    }
   ],
   "source": [
    "d"
   ]
  },
  {
   "cell_type": "code",
   "execution_count": 55,
   "id": "4f437f20",
   "metadata": {},
   "outputs": [
    {
     "data": {
      "text/plain": [
       "dict_keys(['India', 'USSR', 1.1, 2])"
      ]
     },
     "execution_count": 55,
     "metadata": {},
     "output_type": "execute_result"
    }
   ],
   "source": [
    "d.keys()"
   ]
  },
  {
   "cell_type": "code",
   "execution_count": 56,
   "id": "9d371ce6",
   "metadata": {},
   "outputs": [
    {
     "data": {
      "text/plain": [
       "dict_values([1000, 150, 'one', [1, 2]])"
      ]
     },
     "execution_count": 56,
     "metadata": {},
     "output_type": "execute_result"
    }
   ],
   "source": [
    "d.values()"
   ]
  },
  {
   "cell_type": "code",
   "execution_count": 57,
   "id": "92ffba90",
   "metadata": {},
   "outputs": [
    {
     "data": {
      "text/plain": [
       "dict_items([('India', 1000), ('USSR', 150), (1.1, 'one'), (2, [1, 2])])"
      ]
     },
     "execution_count": 57,
     "metadata": {},
     "output_type": "execute_result"
    }
   ],
   "source": [
    "d.items()"
   ]
  },
  {
   "cell_type": "code",
   "execution_count": 58,
   "id": "68258337",
   "metadata": {},
   "outputs": [
    {
     "data": {
      "text/plain": [
       "{1: 'Number', 2: 'Number', 3: 'Number', 4: 'Number'}"
      ]
     },
     "execution_count": 58,
     "metadata": {},
     "output_type": "execute_result"
    }
   ],
   "source": [
    "d1=d.fromkeys([1,2,3,4],\"Number\")\n",
    "d1"
   ]
  },
  {
   "cell_type": "code",
   "execution_count": 60,
   "id": "71f54a7c",
   "metadata": {},
   "outputs": [
    {
     "data": {
      "text/plain": [
       "{'India': 1000,\n",
       " 'USSR': 150,\n",
       " 1.1: 'one',\n",
       " 2: 'Number',\n",
       " 1: 'Number',\n",
       " 3: 'Number',\n",
       " 4: 'Number'}"
      ]
     },
     "execution_count": 60,
     "metadata": {},
     "output_type": "execute_result"
    }
   ],
   "source": [
    "d.update(d1)\n",
    "d"
   ]
  },
  {
   "cell_type": "code",
   "execution_count": 61,
   "id": "81143d89",
   "metadata": {},
   "outputs": [
    {
     "data": {
      "text/plain": [
       "False"
      ]
     },
     "execution_count": 61,
     "metadata": {},
     "output_type": "execute_result"
    }
   ],
   "source": [
    "150 in d"
   ]
  },
  {
   "cell_type": "code",
   "execution_count": 62,
   "id": "01b842b1",
   "metadata": {},
   "outputs": [
    {
     "data": {
      "text/plain": [
       "True"
      ]
     },
     "execution_count": 62,
     "metadata": {},
     "output_type": "execute_result"
    }
   ],
   "source": [
    "\"India\" in d"
   ]
  },
  {
   "cell_type": "code",
   "execution_count": 64,
   "id": "ef2e9639",
   "metadata": {},
   "outputs": [
    {
     "name": "stdout",
     "output_type": "stream",
     "text": [
      "India 1000\n",
      "USSR 150\n",
      "1.1 one\n",
      "2 Number\n",
      "1 Number\n",
      "3 Number\n",
      "4 Number\n"
     ]
    }
   ],
   "source": [
    "for k in d:\n",
    "    print(k,d[k])"
   ]
  },
  {
   "cell_type": "code",
   "execution_count": 65,
   "id": "5fb03279",
   "metadata": {},
   "outputs": [
    {
     "name": "stdout",
     "output_type": "stream",
     "text": [
      "('India', 1000)\n",
      "('USSR', 150)\n",
      "(1.1, 'one')\n",
      "(2, 'Number')\n",
      "(1, 'Number')\n",
      "(3, 'Number')\n",
      "(4, 'Number')\n"
     ]
    }
   ],
   "source": [
    "for t in d.items():\n",
    "    print(t)"
   ]
  },
  {
   "cell_type": "code",
   "execution_count": 66,
   "id": "40dc78f5",
   "metadata": {},
   "outputs": [
    {
     "name": "stdout",
     "output_type": "stream",
     "text": [
      "{0, 1, 2, 3, 4, 5, 6, 7, 8, 9}\n"
     ]
    }
   ],
   "source": [
    "s=set()\n",
    "for i in range(10):\n",
    "    s.add(i)\n",
    "print(s)"
   ]
  },
  {
   "cell_type": "code",
   "execution_count": 67,
   "id": "57b76b79",
   "metadata": {},
   "outputs": [
    {
     "data": {
      "text/plain": [
       "[0, 1, 2, 3, 4, 5, 6, 7, 8, 9]"
      ]
     },
     "execution_count": 67,
     "metadata": {},
     "output_type": "execute_result"
    }
   ],
   "source": [
    "s=[i for i in range(10)]\n",
    "s"
   ]
  },
  {
   "cell_type": "code",
   "execution_count": 68,
   "id": "919df792",
   "metadata": {},
   "outputs": [
    {
     "name": "stdout",
     "output_type": "stream",
     "text": [
      "India 1000\n",
      "USSR 150\n",
      "1.1 one\n",
      "2 Number\n",
      "1 Number\n",
      "3 Number\n",
      "4 Number\n"
     ]
    }
   ],
   "source": [
    "for k,v in d.items():\n",
    "    print(k,v)"
   ]
  },
  {
   "cell_type": "code",
   "execution_count": 69,
   "id": "0d974304",
   "metadata": {},
   "outputs": [
    {
     "data": {
      "text/plain": [
       "{0: 0, 1: 1, 2: 4, 3: 9, 4: 16, 5: 25, 6: 36, 7: 49, 8: 64, 9: 81}"
      ]
     },
     "execution_count": 69,
     "metadata": {},
     "output_type": "execute_result"
    }
   ],
   "source": [
    "d={i:i**2 for i in range(10)}\n",
    "d"
   ]
  },
  {
   "cell_type": "markdown",
   "id": "929d00fc",
   "metadata": {},
   "source": [
    "-> Counter(list): use to count the occurance of all different keys in the list given"
   ]
  },
  {
   "cell_type": "code",
   "execution_count": 74,
   "id": "6c6ccdab",
   "metadata": {},
   "outputs": [
    {
     "name": "stdout",
     "output_type": "stream",
     "text": [
      "Counter({1: 5, 2: 5, 4: 4, 3: 3, 6: 3, 5: 2, 66: 2, 31: 2, 8: 1, 64: 1, 22: 1})\n"
     ]
    }
   ],
   "source": [
    "l = [1,2,3,1,4,1,2,4,5,2,3,1,2,3,4,6,8,6,5,6,66,64,31,22,4,1,2,31,66]\n",
    "from collections import Counter\n",
    "d = Counter(l)\n",
    "print(d)"
   ]
  },
  {
   "cell_type": "code",
   "execution_count": 75,
   "id": "9d1f3a8d",
   "metadata": {},
   "outputs": [
    {
     "name": "stdout",
     "output_type": "stream",
     "text": [
      "{1: 5, 2: 5, 3: 3, 4: 4, 5: 2, 6: 3, 8: 1, 66: 2, 64: 1, 31: 2, 22: 1}\n"
     ]
    }
   ],
   "source": [
    "d = {}\n",
    "for ele in l:\n",
    "    # if ele in d:\n",
    "    #     d[ele] += 1\n",
    "    # else:\n",
    "    #     d[ele] = 1\n",
    "\n",
    "    d[ele] = d.get(ele,0)+1\n",
    "\n",
    "print(d)"
   ]
  },
  {
   "cell_type": "code",
   "execution_count": null,
   "id": "3151f146",
   "metadata": {},
   "outputs": [],
   "source": []
  },
  {
   "cell_type": "code",
   "execution_count": null,
   "id": "4ea193a1",
   "metadata": {},
   "outputs": [],
   "source": []
  }
 ],
 "metadata": {
  "kernelspec": {
   "display_name": "Python 3",
   "language": "python",
   "name": "python3"
  },
  "language_info": {
   "codemirror_mode": {
    "name": "ipython",
    "version": 3
   },
   "file_extension": ".py",
   "mimetype": "text/x-python",
   "name": "python",
   "nbconvert_exporter": "python",
   "pygments_lexer": "ipython3",
   "version": "3.13.5"
  }
 },
 "nbformat": 4,
 "nbformat_minor": 5
}
