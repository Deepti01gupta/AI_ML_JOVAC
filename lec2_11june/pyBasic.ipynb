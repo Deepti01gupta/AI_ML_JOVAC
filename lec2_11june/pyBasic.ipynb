{
 "cells": [
  {
   "cell_type": "markdown",
   "id": "fddf486b",
   "metadata": {},
   "source": [
    "TERNARY OPERATOR: \n",
    "Syntax:\n",
    "First_val if condn else second_val"
   ]
  },
  {
   "cell_type": "code",
   "execution_count": 1,
   "id": "3c84de39",
   "metadata": {},
   "outputs": [
    {
     "name": "stdout",
     "output_type": "stream",
     "text": [
      "Adult\n"
     ]
    }
   ],
   "source": [
    "age=20\n",
    "c='Child' if age<18 else 'Adult'\n",
    "print(c)"
   ]
  },
  {
   "cell_type": "markdown",
   "id": "3c9aeb43",
   "metadata": {},
   "source": [
    "while loop: \n",
    "To iterate over a block of code as long as the test expression is true.\n",
    "Syntax:\n",
    "while testExp:\n",
    "Body\n",
    "else:\n",
    "After testExp is false"
   ]
  },
  {
   "cell_type": "code",
   "execution_count": 2,
   "id": "04e72fb7",
   "metadata": {},
   "outputs": [
    {
     "name": "stdout",
     "output_type": "stream",
     "text": [
      "Hello\n",
      "Hello\n",
      "Hello\n",
      "Hello\n",
      "Hello\n"
     ]
    }
   ],
   "source": [
    "i = 0\n",
    "while i < 5:\n",
    "    print('Hello')\n",
    "    i += 1"
   ]
  },
  {
   "cell_type": "code",
   "execution_count": 3,
   "id": "f42a40a1",
   "metadata": {},
   "outputs": [
    {
     "name": "stdout",
     "output_type": "stream",
     "text": [
      "Hello\n",
      "Hello\n",
      "Hello\n",
      "Hello\n",
      "Hello\n"
     ]
    }
   ],
   "source": [
    "i = 0\n",
    "while i < 5:\n",
    "    print('Hello')\n",
    "    i += 1"
   ]
  },
  {
   "cell_type": "code",
   "execution_count": 4,
   "id": "a26049dc",
   "metadata": {},
   "outputs": [
    {
     "name": "stdout",
     "output_type": "stream",
     "text": [
      "sum: 15\n"
     ]
    }
   ],
   "source": [
    "i = 1\n",
    "N = 0\n",
    "while i <= 5:\n",
    "    N += i\n",
    "    i += 1\n",
    "print('sum:',N)"
   ]
  },
  {
   "cell_type": "code",
   "execution_count": 5,
   "id": "1dfd87c5",
   "metadata": {},
   "outputs": [
    {
     "name": "stdout",
     "output_type": "stream",
     "text": [
      "3\n",
      "5\n",
      "7\n",
      "9\n",
      "11\n",
      "Sum: 35\n"
     ]
    }
   ],
   "source": [
    "n = 0\n",
    "sumS = 0\n",
    "while n < 5:\n",
    "    ele = 2*n+3\n",
    "    sumS += ele\n",
    "    print(ele)\n",
    "    n+=1\n",
    "\n",
    "print(\"Sum:\",sumS)"
   ]
  },
  {
   "cell_type": "code",
   "execution_count": 6,
   "id": "734559e5",
   "metadata": {},
   "outputs": [
    {
     "name": "stdout",
     "output_type": "stream",
     "text": [
      "1\n",
      "2\n",
      "3\n",
      "5\n",
      "6\n",
      "10\n",
      "15\n",
      "30\n"
     ]
    }
   ],
   "source": [
    "n = 30\n",
    "i = 1\n",
    "while i <= n:\n",
    "    if n%i == 0:\n",
    "        print(i)\n",
    "    i += 1"
   ]
  },
  {
   "cell_type": "code",
   "execution_count": 7,
   "id": "7444253a",
   "metadata": {},
   "outputs": [
    {
     "name": "stdout",
     "output_type": "stream",
     "text": [
      "1\n",
      "2\n",
      "3\n",
      "5\n",
      "6\n",
      "10\n",
      "15\n",
      "30\n",
      "No of Factors: 8\n"
     ]
    }
   ],
   "source": [
    "n = 30\n",
    "i = 1\n",
    "c = 0\n",
    "while i <= n:\n",
    "    if n%i == 0:\n",
    "        print(i)\n",
    "        c += 1\n",
    "    i += 1\n",
    "print(\"No of Factors:\",c)"
   ]
  },
  {
   "cell_type": "code",
   "execution_count": 8,
   "id": "420f0ecc",
   "metadata": {},
   "outputs": [
    {
     "name": "stdout",
     "output_type": "stream",
     "text": [
      "2 --> Prime\n",
      "3 --> Prime\n",
      "4 --> Not Prime\n",
      "5 --> Prime\n",
      "6 --> Not Prime\n",
      "7 --> Prime\n",
      "8 --> Not Prime\n",
      "9 --> Not Prime\n",
      "10 --> Not Prime\n",
      "11 --> Prime\n",
      "12 --> Not Prime\n",
      "13 --> Prime\n",
      "14 --> Not Prime\n",
      "15 --> Not Prime\n",
      "16 --> Not Prime\n",
      "17 --> Prime\n",
      "18 --> Not Prime\n",
      "19 --> Prime\n",
      "20 --> Not Prime\n",
      "21 --> Not Prime\n",
      "22 --> Not Prime\n",
      "23 --> Prime\n",
      "24 --> Not Prime\n",
      "25 --> Not Prime\n",
      "26 --> Not Prime\n",
      "27 --> Not Prime\n",
      "28 --> Not Prime\n",
      "29 --> Prime\n",
      "30 --> Not Prime\n",
      "31 --> Prime\n",
      "32 --> Not Prime\n",
      "33 --> Not Prime\n",
      "34 --> Not Prime\n",
      "35 --> Not Prime\n",
      "36 --> Not Prime\n",
      "37 --> Prime\n",
      "38 --> Not Prime\n",
      "39 --> Not Prime\n",
      "40 --> Not Prime\n",
      "41 --> Prime\n",
      "42 --> Not Prime\n",
      "43 --> Prime\n",
      "44 --> Not Prime\n",
      "45 --> Not Prime\n",
      "46 --> Not Prime\n",
      "47 --> Prime\n",
      "48 --> Not Prime\n",
      "49 --> Not Prime\n",
      "50 --> Not Prime\n",
      "51 --> Not Prime\n",
      "52 --> Not Prime\n",
      "53 --> Prime\n",
      "54 --> Not Prime\n",
      "55 --> Not Prime\n",
      "56 --> Not Prime\n",
      "57 --> Not Prime\n",
      "58 --> Not Prime\n",
      "59 --> Prime\n",
      "60 --> Not Prime\n",
      "61 --> Prime\n",
      "62 --> Not Prime\n",
      "63 --> Not Prime\n",
      "64 --> Not Prime\n",
      "65 --> Not Prime\n",
      "66 --> Not Prime\n",
      "67 --> Prime\n",
      "68 --> Not Prime\n",
      "69 --> Not Prime\n",
      "70 --> Not Prime\n",
      "71 --> Prime\n",
      "72 --> Not Prime\n",
      "73 --> Prime\n",
      "74 --> Not Prime\n",
      "75 --> Not Prime\n",
      "76 --> Not Prime\n",
      "77 --> Not Prime\n",
      "78 --> Not Prime\n",
      "79 --> Prime\n",
      "80 --> Not Prime\n",
      "81 --> Not Prime\n",
      "82 --> Not Prime\n",
      "83 --> Prime\n",
      "84 --> Not Prime\n",
      "85 --> Not Prime\n",
      "86 --> Not Prime\n",
      "87 --> Not Prime\n",
      "88 --> Not Prime\n",
      "89 --> Prime\n",
      "90 --> Not Prime\n",
      "91 --> Not Prime\n",
      "92 --> Not Prime\n",
      "93 --> Not Prime\n",
      "94 --> Not Prime\n",
      "95 --> Not Prime\n",
      "96 --> Not Prime\n",
      "97 --> Prime\n",
      "98 --> Not Prime\n",
      "99 --> Not Prime\n",
      "100 --> Not Prime\n"
     ]
    }
   ],
   "source": [
    "num = 100\n",
    "n = 2\n",
    "while n <= num:\n",
    "    i = 2\n",
    "    while i*i <= n:\n",
    "        if n%i == 0:\n",
    "            print(n,'-->','Not Prime')\n",
    "            break\n",
    "        i += 1\n",
    "    else:\n",
    "        print(n,'-->','Prime')\n",
    "\n",
    "    n += 1"
   ]
  }
 ],
 "metadata": {
  "kernelspec": {
   "display_name": "Python 3",
   "language": "python",
   "name": "python3"
  },
  "language_info": {
   "codemirror_mode": {
    "name": "ipython",
    "version": 3
   },
   "file_extension": ".py",
   "mimetype": "text/x-python",
   "name": "python",
   "nbconvert_exporter": "python",
   "pygments_lexer": "ipython3",
   "version": "3.13.5"
  }
 },
 "nbformat": 4,
 "nbformat_minor": 5
}
