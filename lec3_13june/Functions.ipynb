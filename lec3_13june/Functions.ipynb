{
 "cells": [
  {
   "cell_type": "markdown",
   "id": "e9e05d69",
   "metadata": {},
   "source": [
    "FUNCTION: \n",
    "-> defination\n",
    "-> Memory management\n",
    "-> parameters (Pass by Value)\n",
    "-> return / Multiple Return\n",
    "-> default arguments\n",
    "-> keyword arguments\n",
    "-> DocString (doc)\n",
    "-> function as arguments\n",
    "-> Anonymous Function\n",
    "-> Recursion\n",
    "-> Type Hints\n",
    "-> Arbitrary arguments (*args and **kwargs) (After Built-in)\n",
    "-> Function within function\n",
    "-> Function Decorators\n",
    "-> iterators"
   ]
  },
  {
   "cell_type": "markdown",
   "id": "0bef8c7f",
   "metadata": {},
   "source": [
    "In Python, a function is a reusable block of code that performs a specific task when called.\n",
    "\n",
    "Function Properties : \n",
    "1. Modularity: Breaks code into manageable pieces\n",
    "2. Reusability: Call multiple times with different inputs\n",
    "3. Encapsulation: Keeps logic self-contained\n",
    "4. Docstrings: Describe what the function does"
   ]
  },
  {
   "cell_type": "markdown",
   "id": "cb032bba",
   "metadata": {},
   "source": [
    "Various Functions:\n",
    "1. abs\n",
    "2. all\n",
    "3. dir\n",
    "4. divmod\n",
    "5. enumerate\n",
    "6. filter\n",
    "7. isinstance\n",
    "8. map\n",
    "9. reduce\n",
    "10. sorted"
   ]
  },
  {
   "cell_type": "code",
   "execution_count": 2,
   "id": "4be34852",
   "metadata": {},
   "outputs": [
    {
     "name": "stdout",
     "output_type": "stream",
     "text": [
      "30\n"
     ]
    }
   ],
   "source": [
    "def add():\n",
    "    a=10\n",
    "    b=20\n",
    "    c=a+b\n",
    "    print(c)\n",
    "add()"
   ]
  },
  {
   "cell_type": "code",
   "execution_count": 4,
   "id": "cb7e3cd2",
   "metadata": {},
   "outputs": [
    {
     "name": "stdout",
     "output_type": "stream",
     "text": [
      "<function add at 0x000002863024EAC0> <class 'function'>\n"
     ]
    }
   ],
   "source": [
    "print(add,type(add))"
   ]
  },
  {
   "cell_type": "code",
   "execution_count": null,
   "id": "3a45c948",
   "metadata": {},
   "outputs": [],
   "source": [
    "add=10"
   ]
  },
  {
   "cell_type": "markdown",
   "id": "fb34bcea",
   "metadata": {},
   "source": [
    "NOTE: do not use variable name and function name as same"
   ]
  },
  {
   "cell_type": "code",
   "execution_count": 6,
   "id": "67eaeb58",
   "metadata": {},
   "outputs": [
    {
     "ename": "TypeError",
     "evalue": "'int' object is not callable",
     "output_type": "error",
     "traceback": [
      "\u001b[31m---------------------------------------------------------------------------\u001b[39m",
      "\u001b[31mTypeError\u001b[39m                                 Traceback (most recent call last)",
      "\u001b[36mCell\u001b[39m\u001b[36m \u001b[39m\u001b[32mIn[6]\u001b[39m\u001b[32m, line 1\u001b[39m\n\u001b[32m----> \u001b[39m\u001b[32m1\u001b[39m \u001b[43madd\u001b[49m\u001b[43m(\u001b[49m\u001b[43m)\u001b[49m\n",
      "\u001b[31mTypeError\u001b[39m: 'int' object is not callable"
     ]
    }
   ],
   "source": [
    "add()"
   ]
  },
  {
   "cell_type": "markdown",
   "id": "b36cf373",
   "metadata": {},
   "source": [
    "PARAMETERS: these are the input variable we give while calling a function."
   ]
  },
  {
   "cell_type": "code",
   "execution_count": 7,
   "id": "4110a1ba",
   "metadata": {},
   "outputs": [
    {
     "name": "stdout",
     "output_type": "stream",
     "text": [
      "5\n"
     ]
    }
   ],
   "source": [
    "def add(a,b):\n",
    "    c=a+b\n",
    "    print(c)\n",
    "add(2,3)"
   ]
  },
  {
   "cell_type": "code",
   "execution_count": 8,
   "id": "833f3a17",
   "metadata": {},
   "outputs": [
    {
     "data": {
      "text/plain": [
       "5"
      ]
     },
     "execution_count": 8,
     "metadata": {},
     "output_type": "execute_result"
    }
   ],
   "source": [
    "def add(a,b):\n",
    "    c=a+b\n",
    "    return c\n",
    "add(2,3)"
   ]
  },
  {
   "cell_type": "code",
   "execution_count": 9,
   "id": "98b90678",
   "metadata": {},
   "outputs": [
    {
     "name": "stdout",
     "output_type": "stream",
     "text": [
      "500\n"
     ]
    }
   ],
   "source": [
    "ans=add(100,400)\n",
    "print(ans)"
   ]
  },
  {
   "cell_type": "code",
   "execution_count": null,
   "id": "cf14d436",
   "metadata": {},
   "outputs": [
    {
     "name": "stdout",
     "output_type": "stream",
     "text": [
      "10 20\n",
      "10 20\n"
     ]
    }
   ],
   "source": [
    "# Pass by value\n",
    "def swap(a,b):\n",
    "    a,b=b,a\n",
    "a=10\n",
    "b=20\n",
    "print(a,b)\n",
    "swap(a,b)\n",
    "print(a,b)"
   ]
  },
  {
   "cell_type": "code",
   "execution_count": 12,
   "id": "4c1b64b1",
   "metadata": {},
   "outputs": [
    {
     "name": "stdout",
     "output_type": "stream",
     "text": [
      "[10, 20] [30, 40]\n",
      "[30, 20] [10, 40]\n"
     ]
    }
   ],
   "source": [
    "# Pass by value but changes are made in data in the heap \n",
    "def swap(a,b):\n",
    "    a[0],b[0]=b[0],a[0]\n",
    "a=[10,20]\n",
    "b=[30,40]\n",
    "print(a,b)\n",
    "swap(a,b)\n",
    "print(a,b)"
   ]
  },
  {
   "cell_type": "code",
   "execution_count": 13,
   "id": "958218f6",
   "metadata": {},
   "outputs": [
    {
     "name": "stdout",
     "output_type": "stream",
     "text": [
      "10\n"
     ]
    }
   ],
   "source": [
    "def add(a,b):\n",
    "    c=a+b\n",
    "    return c\n",
    "\n",
    "def sub(a,b):\n",
    "    c=add(a,b)-b\n",
    "    return c\n",
    "\n",
    "print(sub(10,20))"
   ]
  },
  {
   "cell_type": "code",
   "execution_count": 14,
   "id": "6303e5d1",
   "metadata": {},
   "outputs": [
    {
     "ename": "RecursionError",
     "evalue": "maximum recursion depth exceeded",
     "output_type": "error",
     "traceback": [
      "\u001b[31m---------------------------------------------------------------------------\u001b[39m",
      "\u001b[31mRecursionError\u001b[39m                            Traceback (most recent call last)",
      "\u001b[36mCell\u001b[39m\u001b[36m \u001b[39m\u001b[32mIn[14]\u001b[39m\u001b[32m, line 9\u001b[39m\n\u001b[32m      6\u001b[39m     c=add(a,b)-b\n\u001b[32m      7\u001b[39m     \u001b[38;5;28;01mreturn\u001b[39;00m c\n\u001b[32m----> \u001b[39m\u001b[32m9\u001b[39m \u001b[38;5;28mprint\u001b[39m(\u001b[43msub\u001b[49m\u001b[43m(\u001b[49m\u001b[32;43m10\u001b[39;49m\u001b[43m,\u001b[49m\u001b[32;43m20\u001b[39;49m\u001b[43m)\u001b[49m)\n",
      "\u001b[36mCell\u001b[39m\u001b[36m \u001b[39m\u001b[32mIn[14]\u001b[39m\u001b[32m, line 6\u001b[39m, in \u001b[36msub\u001b[39m\u001b[34m(a, b)\u001b[39m\n\u001b[32m      5\u001b[39m \u001b[38;5;28;01mdef\u001b[39;00m\u001b[38;5;250m \u001b[39m\u001b[34msub\u001b[39m(a,b):\n\u001b[32m----> \u001b[39m\u001b[32m6\u001b[39m     c=\u001b[43madd\u001b[49m\u001b[43m(\u001b[49m\u001b[43ma\u001b[49m\u001b[43m,\u001b[49m\u001b[43mb\u001b[49m\u001b[43m)\u001b[49m-b\n\u001b[32m      7\u001b[39m     \u001b[38;5;28;01mreturn\u001b[39;00m c\n",
      "\u001b[36mCell\u001b[39m\u001b[36m \u001b[39m\u001b[32mIn[14]\u001b[39m\u001b[32m, line 2\u001b[39m, in \u001b[36madd\u001b[39m\u001b[34m(a, b)\u001b[39m\n\u001b[32m      1\u001b[39m \u001b[38;5;28;01mdef\u001b[39;00m\u001b[38;5;250m \u001b[39m\u001b[34madd\u001b[39m(a,b):\n\u001b[32m----> \u001b[39m\u001b[32m2\u001b[39m     c=a+\u001b[43msub\u001b[49m\u001b[43m(\u001b[49m\u001b[43ma\u001b[49m\u001b[43m,\u001b[49m\u001b[43mb\u001b[49m\u001b[43m)\u001b[49m\n\u001b[32m      3\u001b[39m     \u001b[38;5;28;01mreturn\u001b[39;00m c\n",
      "\u001b[36mCell\u001b[39m\u001b[36m \u001b[39m\u001b[32mIn[14]\u001b[39m\u001b[32m, line 6\u001b[39m, in \u001b[36msub\u001b[39m\u001b[34m(a, b)\u001b[39m\n\u001b[32m      5\u001b[39m \u001b[38;5;28;01mdef\u001b[39;00m\u001b[38;5;250m \u001b[39m\u001b[34msub\u001b[39m(a,b):\n\u001b[32m----> \u001b[39m\u001b[32m6\u001b[39m     c=\u001b[43madd\u001b[49m\u001b[43m(\u001b[49m\u001b[43ma\u001b[49m\u001b[43m,\u001b[49m\u001b[43mb\u001b[49m\u001b[43m)\u001b[49m-b\n\u001b[32m      7\u001b[39m     \u001b[38;5;28;01mreturn\u001b[39;00m c\n",
      "\u001b[36mCell\u001b[39m\u001b[36m \u001b[39m\u001b[32mIn[14]\u001b[39m\u001b[32m, line 2\u001b[39m, in \u001b[36madd\u001b[39m\u001b[34m(a, b)\u001b[39m\n\u001b[32m      1\u001b[39m \u001b[38;5;28;01mdef\u001b[39;00m\u001b[38;5;250m \u001b[39m\u001b[34madd\u001b[39m(a,b):\n\u001b[32m----> \u001b[39m\u001b[32m2\u001b[39m     c=a+\u001b[43msub\u001b[49m\u001b[43m(\u001b[49m\u001b[43ma\u001b[49m\u001b[43m,\u001b[49m\u001b[43mb\u001b[49m\u001b[43m)\u001b[49m\n\u001b[32m      3\u001b[39m     \u001b[38;5;28;01mreturn\u001b[39;00m c\n",
      "    \u001b[31m[... skipping similar frames: sub at line 6 (1486 times), add at line 2 (1485 times)]\u001b[39m\n",
      "\u001b[36mCell\u001b[39m\u001b[36m \u001b[39m\u001b[32mIn[14]\u001b[39m\u001b[32m, line 2\u001b[39m, in \u001b[36madd\u001b[39m\u001b[34m(a, b)\u001b[39m\n\u001b[32m      1\u001b[39m \u001b[38;5;28;01mdef\u001b[39;00m\u001b[38;5;250m \u001b[39m\u001b[34madd\u001b[39m(a,b):\n\u001b[32m----> \u001b[39m\u001b[32m2\u001b[39m     c=a+\u001b[43msub\u001b[49m\u001b[43m(\u001b[49m\u001b[43ma\u001b[49m\u001b[43m,\u001b[49m\u001b[43mb\u001b[49m\u001b[43m)\u001b[49m\n\u001b[32m      3\u001b[39m     \u001b[38;5;28;01mreturn\u001b[39;00m c\n",
      "\u001b[36mCell\u001b[39m\u001b[36m \u001b[39m\u001b[32mIn[14]\u001b[39m\u001b[32m, line 6\u001b[39m, in \u001b[36msub\u001b[39m\u001b[34m(a, b)\u001b[39m\n\u001b[32m      5\u001b[39m \u001b[38;5;28;01mdef\u001b[39;00m\u001b[38;5;250m \u001b[39m\u001b[34msub\u001b[39m(a,b):\n\u001b[32m----> \u001b[39m\u001b[32m6\u001b[39m     c=\u001b[43madd\u001b[49m\u001b[43m(\u001b[49m\u001b[43ma\u001b[49m\u001b[43m,\u001b[49m\u001b[43mb\u001b[49m\u001b[43m)\u001b[49m-b\n\u001b[32m      7\u001b[39m     \u001b[38;5;28;01mreturn\u001b[39;00m c\n",
      "\u001b[31mRecursionError\u001b[39m: maximum recursion depth exceeded"
     ]
    }
   ],
   "source": [
    "def add(a,b):\n",
    "    c=a+sub(a,b)\n",
    "    return c\n",
    "\n",
    "def sub(a,b):\n",
    "    c=add(a,b)-b\n",
    "    return c\n",
    "\n",
    "print(sub(10,20))"
   ]
  },
  {
   "cell_type": "code",
   "execution_count": 16,
   "id": "9dfebde2",
   "metadata": {},
   "outputs": [
    {
     "name": "stdout",
     "output_type": "stream",
     "text": [
      "(30, 10) <class 'tuple'>\n"
     ]
    }
   ],
   "source": [
    "def add(a,b):\n",
    "    c=a+b\n",
    "    return c\n",
    "\n",
    "def sub(a,b):\n",
    "    c=add(a,b)-b\n",
    "    return c\n",
    "\n",
    "def add_sub(a,b,p,q):\n",
    "    c=a+b\n",
    "    d=p-q\n",
    "    return c,d\n",
    "\n",
    "t=add_sub(10,20,40,30)\n",
    "print(t,type(t))"
   ]
  },
  {
   "cell_type": "code",
   "execution_count": null,
   "metadata": {},
   "outputs": [],
   "source": [
    "def add(a,b):\n",
    "    c=a+b\n",
    "    return c\n",
    "\n",
    "def sub(a,b):\n",
    "    c=add(a,b)-b\n",
    "    return c\n",
    "\n",
    "def add_sub(a,b,p,q):\n",
    "    c=a+b\n",
    "    d=p-q\n",
    "    return c,d\n",
    "\n",
    "t=add_sub(10,20,40,30)\n",
    "print(t,type(t))"
   ]
  },
  {
   "cell_type": "markdown",
   "id": "8ac965bc",
   "metadata": {},
   "source": [
    "NOTE: Deafult arguments should came after non default argument"
   ]
  },
  {
   "cell_type": "code",
   "execution_count": null,
   "id": "9206ac8c",
   "metadata": {},
   "outputs": [
    {
     "name": "stdout",
     "output_type": "stream",
     "text": [
      "(30, 20) <class 'tuple'>\n"
     ]
    }
   ],
   "source": [
    "def add(a,b):\n",
    "    c=a+b\n",
    "    return c\n",
    "\n",
    "def sub(a,b):\n",
    "    c=add(a,b)-b\n",
    "    return c\n",
    "\n",
    "def add_sub(a,b,p,q=30):\n",
    "    c=a+b\n",
    "    d=p-q\n",
    "    return c,d\n",
    "\n",
    "# t=add_sub(10,20,40,20)\n",
    "t=add_sub(10,20,40)\n",
    "print(t,type(t))"
   ]
  },
  {
   "cell_type": "markdown",
   "id": "1b0573ad",
   "metadata": {},
   "source": [
    "ARGUMENTS:\n",
    "1. Positional arguments: apni position se decide krte h unki value kya hogi\n",
    "2. Keyword arguments: name se value decide hoti h"
   ]
  },
  {
   "cell_type": "code",
   "execution_count": 19,
   "id": "dac3b30e",
   "metadata": {},
   "outputs": [
    {
     "name": "stdout",
     "output_type": "stream",
     "text": [
      "(30, 260) <class 'tuple'>\n"
     ]
    }
   ],
   "source": [
    "def add(a,b):\n",
    "    c=a+b\n",
    "    return c\n",
    "\n",
    "def sub(a,b):\n",
    "    c=add(a,b)-b\n",
    "    return c\n",
    "\n",
    "def add_sub(a,b,p,q=30):\n",
    "    c=a+b\n",
    "    d=p-q\n",
    "    return c,d\n",
    "\n",
    "t=add_sub(10,20,q=40,p=300)  # a and b positional arguments and p and q are keyword argument\n",
    "print(t,type(t))"
   ]
  },
  {
   "cell_type": "code",
   "execution_count": 20,
   "id": "96dd57ab",
   "metadata": {},
   "outputs": [
    {
     "ename": "TypeError",
     "evalue": "add_sub() got some positional-only arguments passed as keyword arguments: 'b'",
     "output_type": "error",
     "traceback": [
      "\u001b[31m---------------------------------------------------------------------------\u001b[39m",
      "\u001b[31mTypeError\u001b[39m                                 Traceback (most recent call last)",
      "\u001b[36mCell\u001b[39m\u001b[36m \u001b[39m\u001b[32mIn[20]\u001b[39m\u001b[32m, line 14\u001b[39m\n\u001b[32m     11\u001b[39m     d=p-q\n\u001b[32m     12\u001b[39m     \u001b[38;5;28;01mreturn\u001b[39;00m c,d\n\u001b[32m---> \u001b[39m\u001b[32m14\u001b[39m t=\u001b[43madd_sub\u001b[49m\u001b[43m(\u001b[49m\u001b[32;43m10\u001b[39;49m\u001b[43m,\u001b[49m\u001b[43mq\u001b[49m\u001b[43m=\u001b[49m\u001b[32;43m40\u001b[39;49m\u001b[43m,\u001b[49m\u001b[43mb\u001b[49m\u001b[43m=\u001b[49m\u001b[32;43m20\u001b[39;49m\u001b[43m,\u001b[49m\u001b[43mp\u001b[49m\u001b[43m=\u001b[49m\u001b[32;43m300\u001b[39;49m\u001b[43m)\u001b[49m \n\u001b[32m     15\u001b[39m \u001b[38;5;28mprint\u001b[39m(t,\u001b[38;5;28mtype\u001b[39m(t))\n",
      "\u001b[31mTypeError\u001b[39m: add_sub() got some positional-only arguments passed as keyword arguments: 'b'"
     ]
    }
   ],
   "source": [
    "def add(a,b):\n",
    "    c=a+b\n",
    "    return c\n",
    "\n",
    "def sub(a,b):\n",
    "    c=add(a,b)-b\n",
    "    return c\n",
    "\n",
    "def add_sub(a,b,/,p,q=30):   # this '/' defines that a,b must be positional arguments and p and q must be keyword arguments\n",
    "    c=a+b\n",
    "    d=p-q\n",
    "    return c,d\n",
    "\n",
    "t=add_sub(10,q=40,b=20,p=300) \n",
    "print(t,type(t))"
   ]
  },
  {
   "cell_type": "code",
   "execution_count": null,
   "id": "2b02efd5",
   "metadata": {},
   "outputs": [],
   "source": [
    "def add(a,b):\n",
    "    c=a+b\n",
    "    return c\n",
    "\n",
    "def sub(a,b):\n",
    "    c=add(a,b)-b\n",
    "    return c\n",
    "\n",
    "def add_sub(a,b,/,p,q=30):   # this '/' defines that a,b must be positional arguments and p and q must be keyword arguments\n",
    "    c=a+b\n",
    "    d=p-q\n",
    "    return c,d\n",
    "\n",
    "t=add_sub(10,20,q=40,p=300) \n",
    "print(t,type(t))"
   ]
  },
  {
   "cell_type": "code",
   "execution_count": 26,
   "id": "51c42129",
   "metadata": {},
   "outputs": [
    {
     "ename": "TypeError",
     "evalue": "add_sub() takes 2 positional arguments but 3 positional arguments (and 1 keyword-only argument) were given",
     "output_type": "error",
     "traceback": [
      "\u001b[31m---------------------------------------------------------------------------\u001b[39m",
      "\u001b[31mTypeError\u001b[39m                                 Traceback (most recent call last)",
      "\u001b[36mCell\u001b[39m\u001b[36m \u001b[39m\u001b[32mIn[26]\u001b[39m\u001b[32m, line 14\u001b[39m\n\u001b[32m     11\u001b[39m     d=p-q\n\u001b[32m     12\u001b[39m     \u001b[38;5;28;01mreturn\u001b[39;00m c,d\n\u001b[32m---> \u001b[39m\u001b[32m14\u001b[39m t=\u001b[43madd_sub\u001b[49m\u001b[43m(\u001b[49m\u001b[32;43m10\u001b[39;49m\u001b[43m,\u001b[49m\u001b[32;43m40\u001b[39;49m\u001b[43m,\u001b[49m\u001b[32;43m20\u001b[39;49m\u001b[43m,\u001b[49m\u001b[43mp\u001b[49m\u001b[43m=\u001b[49m\u001b[32;43m300\u001b[39;49m\u001b[43m)\u001b[49m \n\u001b[32m     15\u001b[39m \u001b[38;5;28mprint\u001b[39m(t,\u001b[38;5;28mtype\u001b[39m(t))\n",
      "\u001b[31mTypeError\u001b[39m: add_sub() takes 2 positional arguments but 3 positional arguments (and 1 keyword-only argument) were given"
     ]
    }
   ],
   "source": [
    "def add(a,b):\n",
    "    c=a+b\n",
    "    return c\n",
    "\n",
    "def sub(a,b):\n",
    "    c=add(a,b)-b\n",
    "    return c\n",
    "\n",
    "def add_sub(a,b,*,p,q=30):   # this '*' defines that a,b must be positional arguments and p and q must be keyword arguments\n",
    "    c=a+b\n",
    "    d=p-q\n",
    "    return c,d\n",
    "\n",
    "t=add_sub(10,40,20,p=300) \n",
    "print(t,type(t))"
   ]
  },
  {
   "cell_type": "code",
   "execution_count": 27,
   "id": "7fd72ce0",
   "metadata": {},
   "outputs": [
    {
     "name": "stdout",
     "output_type": "stream",
     "text": [
      "(30, 260) <class 'tuple'>\n"
     ]
    }
   ],
   "source": [
    "def add(a,b):\n",
    "    c=a+b\n",
    "    return c\n",
    "\n",
    "def sub(a,b):\n",
    "    c=add(a,b)-b\n",
    "    return c\n",
    "\n",
    "def add_sub(a,b,*,p,q=30):   # this '*' defines that a,b must be positional arguments and p and q must be keyword arguments\n",
    "    c=a+b\n",
    "    d=p-q\n",
    "    return c,d\n",
    "\n",
    "t=add_sub(10,20,q=40,p=300) \n",
    "print(t,type(t))"
   ]
  },
  {
   "cell_type": "markdown",
   "id": "003d7020",
   "metadata": {},
   "source": [
    "NOTE: \n",
    "-> '/' se phele sare positonal hone chahiye\n",
    "-> '*' k baad sare keyword hone chahiye"
   ]
  },
  {
   "cell_type": "code",
   "execution_count": null,
   "id": "afa15576",
   "metadata": {},
   "outputs": [],
   "source": [
    "def add(a,b):\n",
    "    c=a+b\n",
    "    return c\n",
    "\n",
    "def sub(a,b):\n",
    "    c=add(a,b)-b\n",
    "    return c\n",
    "\n",
    "def add_sub(a,b,/,*,p,q=30):\n",
    "    c=a+b\n",
    "    d=p-q\n",
    "    return c,d\n",
    "\n",
    "t=add_sub(10,20,q=40,p=300) \n",
    "print(t,type(t))"
   ]
  },
  {
   "cell_type": "code",
   "execution_count": null,
   "metadata": {},
   "outputs": [
    {
     "data": {
      "text/plain": [
       "70"
      ]
     },
     "execution_count": 28,
     "metadata": {},
     "output_type": "execute_result"
    }
   ],
   "source": [
    "# type hints\n",
    "def add(a:int ,b:int )->int:\n",
    "    c=a+b\n",
    "    return c\n",
    "\n",
    "add(20,50)"
   ]
  },
  {
   "cell_type": "code",
   "execution_count": 30,
   "id": "eed23b37",
   "metadata": {},
   "outputs": [
    {
     "data": {
      "text/plain": [
       "21.34"
      ]
     },
     "execution_count": 30,
     "metadata": {},
     "output_type": "execute_result"
    }
   ],
   "source": [
    "add(20,1.34)"
   ]
  },
  {
   "cell_type": "code",
   "execution_count": 31,
   "id": "fe9aed8c",
   "metadata": {},
   "outputs": [],
   "source": [
    "import math"
   ]
  },
  {
   "cell_type": "code",
   "execution_count": 35,
   "id": "d2f9e2ee",
   "metadata": {},
   "outputs": [
    {
     "name": "stdout",
     "output_type": "stream",
     "text": [
      "\u001b[31mSignature:\u001b[39m math.floor(x, /)\n",
      "\u001b[31mDocstring:\u001b[39m\n",
      "Return the floor of x as an Integral.\n",
      "\n",
      "This is the largest integer <= x.\n",
      "\u001b[31mType:\u001b[39m      builtin_function_or_method"
     ]
    }
   ],
   "source": [
    "math.floor?"
   ]
  },
  {
   "cell_type": "code",
   "execution_count": 34,
   "id": "50da717d",
   "metadata": {},
   "outputs": [
    {
     "data": {
      "text/plain": [
       "10"
      ]
     },
     "execution_count": 34,
     "metadata": {},
     "output_type": "execute_result"
    }
   ],
   "source": [
    "math.floor(10.2)"
   ]
  },
  {
   "cell_type": "code",
   "execution_count": 33,
   "metadata": {},
   "outputs": [
    {
     "data": {
      "text/plain": [
       "10"
      ]
     },
     "execution_count": 33,
     "metadata": {},
     "output_type": "execute_result"
    }
   ],
   "source": [
    "math.floor(10.9)"
   ]
  },
  {
   "cell_type": "code",
   "execution_count": 40,
   "metadata": {},
   "outputs": [
    {
     "data": {
      "text/plain": [
       "'This is a demo function for DocString'"
      ]
     },
     "execution_count": 40,
     "metadata": {},
     "output_type": "execute_result"
    }
   ],
   "source": [
    "def fn():\n",
    "    \"This is a demo function for DocString\"\n",
    "fn.__doc__"
   ]
  },
  {
   "cell_type": "code",
   "execution_count": 41,
   "id": "3a052f7b",
   "metadata": {},
   "outputs": [
    {
     "name": "stdout",
     "output_type": "stream",
     "text": [
      "\u001b[31mSignature:\u001b[39m fn()\n",
      "\u001b[31mDocstring:\u001b[39m This is a demo function for DocString\n",
      "\u001b[31mFile:\u001b[39m      c:\\users\\asus\\appdata\\local\\temp\\ipykernel_18560\\1509022012.py\n",
      "\u001b[31mType:\u001b[39m      function"
     ]
    }
   ],
   "source": [
    "fn?"
   ]
  },
  {
   "cell_type": "code",
   "execution_count": 43,
   "id": "e9c85153",
   "metadata": {},
   "outputs": [],
   "source": [
    "def fun():\n",
    "    a=10\n",
    "    \"This is DocString\"\n",
    "fun.__doc__"
   ]
  },
  {
   "cell_type": "code",
   "execution_count": null,
   "id": "e49a8b4b",
   "metadata": {},
   "outputs": [
    {
     "name": "stdout",
     "output_type": "stream",
     "text": [
      "\u001b[31mSignature:\u001b[39m fun()\n",
      "\u001b[31mDocstring:\u001b[39m <no docstring>\n",
      "\u001b[31mFile:\u001b[39m      c:\\users\\asus\\appdata\\local\\temp\\ipykernel_18560\\1423186980.py\n",
      "\u001b[31mType:\u001b[39m      function"
     ]
    }
   ],
   "source": [
    "fun?  # this contain no docstring as first line of function is a=10"
   ]
  },
  {
   "cell_type": "code",
   "execution_count": 42,
   "metadata": {},
   "outputs": [
    {
     "name": "stdout",
     "output_type": "stream",
     "text": [
      "\u001b[31mSignature:\u001b[39m add(a: int, b: int) -> int\n",
      "\u001b[31mDocstring:\u001b[39m <no docstring>\n",
      "\u001b[31mFile:\u001b[39m      c:\\users\\asus\\appdata\\local\\temp\\ipykernel_18560\\2251141732.py\n",
      "\u001b[31mType:\u001b[39m      function"
     ]
    }
   ],
   "source": [
    "add?"
   ]
  },
  {
   "cell_type": "code",
   "execution_count": 45,
   "metadata": {},
   "outputs": [
    {
     "data": {
      "text/plain": [
       "300"
      ]
     },
     "execution_count": 45,
     "metadata": {},
     "output_type": "execute_result"
    }
   ],
   "source": [
    "def add(a,b):\n",
    "    return a+b\n",
    "\n",
    "def sub(a,b):\n",
    "    return a-b\n",
    "\n",
    "def cal(fn,a=10,b=20):\n",
    "    val=fn(a,b)\n",
    "    return val\n",
    "\n",
    "cal(add,100,200)"
   ]
  },
  {
   "cell_type": "code",
   "execution_count": 46,
   "id": "003d41e0",
   "metadata": {},
   "outputs": [
    {
     "data": {
      "text/plain": [
       "100"
      ]
     },
     "execution_count": 46,
     "metadata": {},
     "output_type": "execute_result"
    }
   ],
   "source": [
    "cal(sub,200,100)"
   ]
  },
  {
   "cell_type": "markdown",
   "id": "bee70cf0",
   "metadata": {},
   "source": [
    "Lambda function are single line , very useful function.\n",
    "Syntax:\n",
    "lambda arguments: expression"
   ]
  },
  {
   "cell_type": "code",
   "execution_count": 47,
   "id": "20d04817",
   "metadata": {},
   "outputs": [
    {
     "data": {
      "text/plain": [
       "20000"
      ]
     },
     "execution_count": 47,
     "metadata": {},
     "output_type": "execute_result"
    }
   ],
   "source": [
    "cal(lambda a,b:a*b,100,200)"
   ]
  },
  {
   "cell_type": "code",
   "execution_count": 48,
   "metadata": {},
   "outputs": [
    {
     "data": {
      "text/plain": [
       "20"
      ]
     },
     "execution_count": 48,
     "metadata": {},
     "output_type": "execute_result"
    }
   ],
   "source": [
    "sub=lambda a,b,c: a-b+c\n",
    "sub(10,20,30)"
   ]
  },
  {
   "cell_type": "code",
   "execution_count": 50,
   "id": "02a54a91",
   "metadata": {},
   "outputs": [
    {
     "ename": "TypeError",
     "evalue": "unsupported operand type(s) for +: 'int' and 'str'",
     "output_type": "error",
     "traceback": [
      "\u001b[31m---------------------------------------------------------------------------\u001b[39m",
      "\u001b[31mTypeError\u001b[39m                                 Traceback (most recent call last)",
      "\u001b[36mCell\u001b[39m\u001b[36m \u001b[39m\u001b[32mIn[50]\u001b[39m\u001b[32m, line 3\u001b[39m\n\u001b[32m      1\u001b[39m a=\u001b[32m10\u001b[39m\n\u001b[32m      2\u001b[39m b=\u001b[33m\"\u001b[39m\u001b[33mhello\u001b[39m\u001b[33m\"\u001b[39m\n\u001b[32m----> \u001b[39m\u001b[32m3\u001b[39m \u001b[43ma\u001b[49m\u001b[43m+\u001b[49m\u001b[43mb\u001b[49m\n",
      "\u001b[31mTypeError\u001b[39m: unsupported operand type(s) for +: 'int' and 'str'"
     ]
    }
   ],
   "source": [
    "a=10\n",
    "b=\"hello\"\n",
    "a+b"
   ]
  },
  {
   "cell_type": "code",
   "execution_count": 53,
   "id": "d797e704",
   "metadata": {},
   "outputs": [],
   "source": [
    "def fn():\n",
    "    a=10\n",
    "    b=\"hello\"\n",
    "    return a+b"
   ]
  },
  {
   "cell_type": "code",
   "execution_count": 54,
   "id": "156625bc",
   "metadata": {},
   "outputs": [
    {
     "ename": "TypeError",
     "evalue": "unsupported operand type(s) for +: 'int' and 'str'",
     "output_type": "error",
     "traceback": [
      "\u001b[31m---------------------------------------------------------------------------\u001b[39m",
      "\u001b[31mTypeError\u001b[39m                                 Traceback (most recent call last)",
      "\u001b[36mCell\u001b[39m\u001b[36m \u001b[39m\u001b[32mIn[54]\u001b[39m\u001b[32m, line 1\u001b[39m\n\u001b[32m----> \u001b[39m\u001b[32m1\u001b[39m \u001b[43mfn\u001b[49m\u001b[43m(\u001b[49m\u001b[43m)\u001b[49m\n",
      "\u001b[36mCell\u001b[39m\u001b[36m \u001b[39m\u001b[32mIn[53]\u001b[39m\u001b[32m, line 4\u001b[39m, in \u001b[36mfn\u001b[39m\u001b[34m()\u001b[39m\n\u001b[32m      2\u001b[39m a=\u001b[32m10\u001b[39m\n\u001b[32m      3\u001b[39m b=\u001b[33m\"\u001b[39m\u001b[33mhello\u001b[39m\u001b[33m\"\u001b[39m\n\u001b[32m----> \u001b[39m\u001b[32m4\u001b[39m \u001b[38;5;28;01mreturn\u001b[39;00m \u001b[43ma\u001b[49m\u001b[43m+\u001b[49m\u001b[43mb\u001b[49m\n",
      "\u001b[31mTypeError\u001b[39m: unsupported operand type(s) for +: 'int' and 'str'"
     ]
    }
   ],
   "source": [
    "fn()"
   ]
  },
  {
   "cell_type": "code",
   "execution_count": 61,
   "id": "dfa00cd0",
   "metadata": {},
   "outputs": [
    {
     "name": "stdout",
     "output_type": "stream",
     "text": [
      "100\n",
      "1000\n"
     ]
    }
   ],
   "source": [
    "n=1000\n",
    "def fn():\n",
    "    n=100\n",
    "    print(n)\n",
    "fn()\n",
    "print(n)"
   ]
  },
  {
   "cell_type": "code",
   "execution_count": 58,
   "id": "cd58b452",
   "metadata": {},
   "outputs": [
    {
     "ename": "UnboundLocalError",
     "evalue": "cannot access local variable 'n' where it is not associated with a value",
     "output_type": "error",
     "traceback": [
      "\u001b[31m---------------------------------------------------------------------------\u001b[39m",
      "\u001b[31mUnboundLocalError\u001b[39m                         Traceback (most recent call last)",
      "\u001b[36mCell\u001b[39m\u001b[36m \u001b[39m\u001b[32mIn[58]\u001b[39m\u001b[32m, line 6\u001b[39m\n\u001b[32m      4\u001b[39m     n=\u001b[32m100\u001b[39m\n\u001b[32m      5\u001b[39m     \u001b[38;5;28mprint\u001b[39m(n)\n\u001b[32m----> \u001b[39m\u001b[32m6\u001b[39m \u001b[43mfn\u001b[49m\u001b[43m(\u001b[49m\u001b[43m)\u001b[49m\n\u001b[32m      7\u001b[39m \u001b[38;5;28mprint\u001b[39m(n)\n",
      "\u001b[36mCell\u001b[39m\u001b[36m \u001b[39m\u001b[32mIn[58]\u001b[39m\u001b[32m, line 3\u001b[39m, in \u001b[36mfn\u001b[39m\u001b[34m()\u001b[39m\n\u001b[32m      2\u001b[39m \u001b[38;5;28;01mdef\u001b[39;00m\u001b[38;5;250m \u001b[39m\u001b[34mfn\u001b[39m():\n\u001b[32m----> \u001b[39m\u001b[32m3\u001b[39m     \u001b[38;5;28mprint\u001b[39m(\u001b[43mn\u001b[49m)\n\u001b[32m      4\u001b[39m     n=\u001b[32m100\u001b[39m\n\u001b[32m      5\u001b[39m     \u001b[38;5;28mprint\u001b[39m(n)\n",
      "\u001b[31mUnboundLocalError\u001b[39m: cannot access local variable 'n' where it is not associated with a value"
     ]
    }
   ],
   "source": [
    "n=1000\n",
    "def fn():\n",
    "    print(n)\n",
    "    n=100\n",
    "    print(n)\n",
    "fn()\n",
    "print(n)"
   ]
  },
  {
   "cell_type": "code",
   "execution_count": 62,
   "id": "041578ac",
   "metadata": {},
   "outputs": [
    {
     "name": "stdout",
     "output_type": "stream",
     "text": [
      "100\n",
      "100\n"
     ]
    }
   ],
   "source": [
    "def fn():\n",
    "    global n\n",
    "    n=100\n",
    "    print(n)\n",
    "fn()\n",
    "print(n)"
   ]
  },
  {
   "cell_type": "code",
   "execution_count": 65,
   "id": "f6ddf940",
   "metadata": {},
   "outputs": [
    {
     "name": "stdout",
     "output_type": "stream",
     "text": [
      "1\n",
      "10\n"
     ]
    }
   ],
   "source": [
    "x=100\n",
    "def fn1():\n",
    "    x=10\n",
    "    \n",
    "    def fn2():\n",
    "        x=1\n",
    "        print(x)\n",
    "    fn2()\n",
    "    print(x)\n",
    "\n",
    "fn1()"
   ]
  },
  {
   "cell_type": "code",
   "execution_count": null,
   "id": "c620b63b",
   "metadata": {},
   "outputs": [],
   "source": [
    "x=100\n",
    "def fn1():\n",
    "    x=10\n",
    "    y=100\n",
    "    \n",
    "    def fn2():\n",
    "        x=1\n",
    "        print(x,y)\n",
    "    fn2()\n",
    "    print(x,y)\n",
    "\n",
    "fn1()"
   ]
  },
  {
   "cell_type": "code",
   "execution_count": 66,
   "id": "7590d0c6",
   "metadata": {},
   "outputs": [
    {
     "name": "stdout",
     "output_type": "stream",
     "text": [
      "1 100 200\n",
      "10 100\n"
     ]
    }
   ],
   "source": [
    "x=100\n",
    "y=1000\n",
    "z=200\n",
    "def fn1():\n",
    "    x=10\n",
    "    y=100\n",
    "    \n",
    "    def fn2():\n",
    "        x=1\n",
    "        print(x,y,z)\n",
    "    fn2()\n",
    "    print(x,y)\n",
    "\n",
    "fn1()"
   ]
  },
  {
   "cell_type": "code",
   "execution_count": 67,
   "id": "de85f844",
   "metadata": {},
   "outputs": [
    {
     "name": "stdout",
     "output_type": "stream",
     "text": [
      "1 10 200\n",
      "10 10\n",
      "100 1000 200\n",
      "300\n"
     ]
    }
   ],
   "source": [
    "x = 100\n",
    "y = 1000\n",
    "z = 200\n",
    "def fn1():\n",
    "    x = 10\n",
    "    y = 100\n",
    "\n",
    "    def fn2():\n",
    "        nonlocal y\n",
    "        global ax\n",
    "        x = 1\n",
    "        y = 10\n",
    "        ax = 300\n",
    "        print(x,y,z)\n",
    "\n",
    "    fn2()\n",
    "    print(x,y)\n",
    "\n",
    "fn1()\n",
    "print(x,y,z)\n",
    "print(ax)"
   ]
  },
  {
   "cell_type": "code",
   "execution_count": 68,
   "id": "99ee937a",
   "metadata": {},
   "outputs": [
    {
     "name": "stdout",
     "output_type": "stream",
     "text": [
      "10 100\n",
      "1 10 200 100\n",
      "100 1000 200\n"
     ]
    }
   ],
   "source": [
    "x=100\n",
    "y=1000\n",
    "z=200\n",
    "def fn1():\n",
    "    x=10\n",
    "    y=100\n",
    "    def fn2():\n",
    "        # global y\n",
    "        nonlocal y #except global at first, all y values are changed\n",
    "        global ax\n",
    "        x=1\n",
    "        y=10\n",
    "        ax = 100\n",
    "        print(x,y,z, ax) \n",
    "    print(x,y)\n",
    "    fn2()\n",
    "fn1()\n",
    "print(x,y,z)"
   ]
  },
  {
   "cell_type": "code",
   "execution_count": null,
   "id": "e397e780",
   "metadata": {},
   "outputs": [
    {
     "name": "stdout",
     "output_type": "stream",
     "text": [
      "hello\n",
      "in fn2\n",
      "bye\n",
      "in fn2\n"
     ]
    }
   ],
   "source": [
    "def fn1():\n",
    "    print(\"hello\")\n",
    "    def fn2():\n",
    "        print(\"in fn2\")\n",
    "    fn2()\n",
    "    print(\"bye\")\n",
    "    return fn2()\n",
    "fn1()"
   ]
  },
  {
   "cell_type": "code",
   "execution_count": null,
   "id": "14889631",
   "metadata": {},
   "outputs": [
    {
     "name": "stdout",
     "output_type": "stream",
     "text": [
      "(10, 20, 30, 40, 50)\n"
     ]
    }
   ],
   "source": [
    "# *args is use to take various input\n",
    "def fn(*args):\n",
    "    print(args)\n",
    "fn(10,20,30,40,50)"
   ]
  },
  {
   "cell_type": "code",
   "execution_count": 74,
   "id": "eac0c094",
   "metadata": {},
   "outputs": [
    {
     "name": "stdout",
     "output_type": "stream",
     "text": [
      "('hello', 30, 40, 50) <class 'tuple'>\n"
     ]
    }
   ],
   "source": [
    "def fn(a,b,*args):\n",
    "    print(args,type(args))\n",
    "fn(10,20,\"hello\",30,40,50)"
   ]
  },
  {
   "cell_type": "code",
   "execution_count": 76,
   "id": "7367a41f",
   "metadata": {},
   "outputs": [
    {
     "ename": "TypeError",
     "evalue": "fn() missing 1 required keyword-only argument: 'c'",
     "output_type": "error",
     "traceback": [
      "\u001b[31m---------------------------------------------------------------------------\u001b[39m",
      "\u001b[31mTypeError\u001b[39m                                 Traceback (most recent call last)",
      "\u001b[36mCell\u001b[39m\u001b[36m \u001b[39m\u001b[32mIn[76]\u001b[39m\u001b[32m, line 3\u001b[39m\n\u001b[32m      1\u001b[39m \u001b[38;5;28;01mdef\u001b[39;00m\u001b[38;5;250m \u001b[39m\u001b[34mfn\u001b[39m(a,b,*args,c):\n\u001b[32m      2\u001b[39m     \u001b[38;5;28mprint\u001b[39m(args,\u001b[38;5;28mtype\u001b[39m(args))\n\u001b[32m----> \u001b[39m\u001b[32m3\u001b[39m \u001b[43mfn\u001b[49m\u001b[43m(\u001b[49m\u001b[32;43m10\u001b[39;49m\u001b[43m,\u001b[49m\u001b[32;43m20\u001b[39;49m\u001b[43m,\u001b[49m\u001b[33;43m\"\u001b[39;49m\u001b[33;43mhello\u001b[39;49m\u001b[33;43m\"\u001b[39;49m\u001b[43m,\u001b[49m\u001b[32;43m30\u001b[39;49m\u001b[43m,\u001b[49m\u001b[32;43m40\u001b[39;49m\u001b[43m,\u001b[49m\u001b[32;43m50\u001b[39;49m\u001b[43m)\u001b[49m\n",
      "\u001b[31mTypeError\u001b[39m: fn() missing 1 required keyword-only argument: 'c'"
     ]
    }
   ],
   "source": [
    "def fn(a,b,*args,c):\n",
    "    print(args,type(args))\n",
    "fn(10,20,\"hello\",30,40,50)"
   ]
  },
  {
   "cell_type": "code",
   "execution_count": 77,
   "id": "02964f35",
   "metadata": {},
   "outputs": [
    {
     "name": "stdout",
     "output_type": "stream",
     "text": [
      "{'a': 10, 'b': 30, 'd': 50, 'x': 100} <class 'dict'>\n"
     ]
    }
   ],
   "source": [
    "def fn(**kwargs):\n",
    "    print(kwargs,type(kwargs))\n",
    "fn(a=10,b=30,d=50,x=100)"
   ]
  },
  {
   "cell_type": "code",
   "execution_count": 78,
   "id": "5e43b8c2",
   "metadata": {},
   "outputs": [
    {
     "name": "stdout",
     "output_type": "stream",
     "text": [
      "10\n",
      "(20,)\n",
      "10 100\n",
      "{'b': 30, 'd': 50} <class 'dict'>\n"
     ]
    }
   ],
   "source": [
    "def fn(ax,*args,a,c,**kwargs):\n",
    "    print(ax)\n",
    "    print(args)\n",
    "    print(a,c)\n",
    "    print(kwargs,type(kwargs))\n",
    "\n",
    "fn(10,20,a = 10,b = 30,d = 50,c = 100)"
   ]
  },
  {
   "cell_type": "code",
   "execution_count": 80,
   "id": "5c935c87",
   "metadata": {},
   "outputs": [
    {
     "data": {
      "text/plain": [
       "0"
      ]
     },
     "execution_count": 80,
     "metadata": {},
     "output_type": "execute_result"
    }
   ],
   "source": [
    "\n",
    "rtr = iter(range(10))\n",
    "\n",
    "next(rtr)"
   ]
  },
  {
   "cell_type": "code",
   "execution_count": 84,
   "id": "5931ccee",
   "metadata": {},
   "outputs": [
    {
     "name": "stdout",
     "output_type": "stream",
     "text": [
      "<generator object myRange at 0x0000028630D0F100>\n"
     ]
    }
   ],
   "source": [
    "\n",
    "def myRange(start,stop,step):\n",
    "    i = start\n",
    "    while i < stop:\n",
    "        yield i\n",
    "        i += step\n",
    "mtr = myRange(1,11,2)\n",
    "print(mtr)"
   ]
  },
  {
   "cell_type": "code",
   "execution_count": 85,
   "id": "599f1878",
   "metadata": {},
   "outputs": [
    {
     "name": "stdout",
     "output_type": "stream",
     "text": [
      "<generator object myRange at 0x0000028630882330>\n"
     ]
    }
   ],
   "source": [
    "mrtr = myRange(1,11,2)\n",
    "print(mrtr)"
   ]
  },
  {
   "cell_type": "code",
   "execution_count": 86,
   "id": "25ede41d",
   "metadata": {},
   "outputs": [
    {
     "name": "stdout",
     "output_type": "stream",
     "text": [
      "1\n"
     ]
    }
   ],
   "source": [
    "val = next(mrtr)\n",
    "print(val)"
   ]
  },
  {
   "cell_type": "code",
   "execution_count": 87,
   "id": "1e0fb625",
   "metadata": {},
   "outputs": [],
   "source": [
    "def count_digits(num : int) -> int:\n",
    "    return int(math.log10(num))+1"
   ]
  },
  {
   "cell_type": "code",
   "execution_count": 89,
   "id": "9fa6eb24",
   "metadata": {},
   "outputs": [
    {
     "data": {
      "text/plain": [
       "False"
      ]
     },
     "execution_count": 89,
     "metadata": {},
     "output_type": "execute_result"
    }
   ],
   "source": [
    "def isArmStrong(num: int) -> bool:\n",
    "    t = num\n",
    "    s = 0\n",
    "    nod = count_digits(num)\n",
    "    while t != 0:\n",
    "        rem = t%10\n",
    "        s += rem**nod\n",
    "\n",
    "        t = t//10\n",
    "    return s == num\n",
    "\n",
    "isArmStrong(16)"
   ]
  },
  {
   "cell_type": "code",
   "execution_count": 90,
   "id": "a3d765db",
   "metadata": {},
   "outputs": [
    {
     "name": "stdout",
     "output_type": "stream",
     "text": [
      "1\n",
      "2\n",
      "3\n",
      "4\n",
      "5\n",
      "6\n",
      "7\n",
      "8\n",
      "9\n",
      "153\n",
      "370\n",
      "371\n",
      "407\n"
     ]
    }
   ],
   "source": [
    "def printAllArmStrong(l:int = 1,r:int = 1000) -> None:\n",
    "    i = l\n",
    "    while i <= r:\n",
    "        if isArmStrong(i):\n",
    "            print(i)\n",
    "        i += 1\n",
    "printAllArmStrong(1,1000)"
   ]
  }
 ],
 "metadata": {
  "kernelspec": {
   "display_name": "Python 3",
   "language": "python",
   "name": "python3"
  },
  "language_info": {
   "codemirror_mode": {
    "name": "ipython",
    "version": 3
   },
   "file_extension": ".py",
   "mimetype": "text/x-python",
   "name": "python",
   "nbconvert_exporter": "python",
   "pygments_lexer": "ipython3",
   "version": "3.13.5"
  }
 },
 "nbformat": 4,
 "nbformat_minor": 5
}
