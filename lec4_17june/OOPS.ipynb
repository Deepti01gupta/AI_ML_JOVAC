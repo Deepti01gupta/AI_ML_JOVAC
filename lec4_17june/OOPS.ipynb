{
 "cells": [
  {
   "cell_type": "markdown",
   "id": "957b3aff",
   "metadata": {},
   "source": [
    "OOPS:\n",
    "\n",
    "Object-Oriented Programming (OOP) in Python is a powerful paradigm that helps you structure code by bundling data and behavior into reusable units called objects. Here's a breakdown of the key concepts:\n",
    "\n",
    "Core OOP Concepts in Python :\n",
    "-> Class: A blueprint for creating objects. It defines attributes and methods.\n",
    "-> Object: An instance of a class. It holds actual data and can perform actions.\n",
    "-> Encapsulation: Bundling data and methods together, restricting direct access to some components.\n",
    "-> Inheritance: Allows one class to inherit attributes and methods from another, promoting code reuse.\n",
    "-> Polymorphism: Enables methods to behave differently based on the object calling them.\n",
    "-> Abstraction: Hides complex implementation details and shows only essential features."
   ]
  },
  {
   "cell_type": "markdown",
   "id": "518a52a8",
   "metadata": {},
   "source": [
    "CLASS:\n",
    "\n",
    "-> Class is a template/blueprint of the entity. It lays out all the attributes(characteristics) and behaviours(methods) the objects/instances of my class are going to have\n",
    "-> Data Members and Functions\n",
    "-> The init Method\n",
    "    - class constructor\n",
    "    - it is called implicitly whenever a class is called or a new object is created\n",
    "-> No overloading\n",
    "-> Everything in Python is an object\n",
    "    - Every data-type in python is an instance of object class.\n",
    "    - int, float, boolean, list, string, dictionary, functions\n",
    "    - isIntance()\n",
    "-> Class Variables\n",
    "    - instance variables are for data unique for each instance\n",
    "    - class variables are for attributes and methods shared by all instances of the class\n",
    "    - Memory Management\n",
    "-> Inheritance\n",
    "    - How\n",
    "    - super() in init()\n",
    "    - Method Overriding\n",
    "    - Memory Management\n",
    "-> Dunders/Magic Methods\n",
    "    - Python provides us with special functions which are called implicitly while performing certain operations on an object. These are dunders\n",
    "    - They start and end with double underscore\n",
    "    - Commonly used for operator overloading\n",
    "    - A Few examples:\n",
    "        1. __init__ is called when an object is created\n",
    "        2. __len__ is called when calling len(obj)\n",
    "        3. __str__ is called when we try to print an object\n",
    "        4. __add__ is called when two objects are added together\n",
    "-> Multiple Inheritance"
   ]
  },
  {
   "cell_type": "code",
   "execution_count": 153,
   "id": "97f52e63",
   "metadata": {},
   "outputs": [],
   "source": [
    "class Person:\n",
    "    pass"
   ]
  },
  {
   "cell_type": "code",
   "execution_count": 154,
   "id": "659430a2",
   "metadata": {},
   "outputs": [
    {
     "name": "stdout",
     "output_type": "stream",
     "text": [
      "<__main__.Person object at 0x000001FBF0366510>\n"
     ]
    }
   ],
   "source": [
    "p1=Person()\n",
    "print(p1)"
   ]
  },
  {
   "cell_type": "code",
   "execution_count": 155,
   "id": "006751a3",
   "metadata": {},
   "outputs": [],
   "source": [
    "p1.name='Shubham'\n",
    "p1.age=28"
   ]
  },
  {
   "cell_type": "code",
   "execution_count": 156,
   "id": "32afb91c",
   "metadata": {},
   "outputs": [
    {
     "name": "stdout",
     "output_type": "stream",
     "text": [
      "Shubham\n",
      "28\n"
     ]
    }
   ],
   "source": [
    "print(p1.name)\n",
    "print(p1.age)"
   ]
  },
  {
   "cell_type": "code",
   "execution_count": 157,
   "id": "b7e4ff9c",
   "metadata": {},
   "outputs": [],
   "source": [
    "class Person:\n",
    "    def introduce():\n",
    "        print(\"hi! i am a person\")"
   ]
  },
  {
   "cell_type": "code",
   "execution_count": 158,
   "id": "b8f829a7",
   "metadata": {},
   "outputs": [
    {
     "ename": "TypeError",
     "evalue": "Person.introduce() takes 0 positional arguments but 1 was given",
     "output_type": "error",
     "traceback": [
      "\u001b[31m---------------------------------------------------------------------------\u001b[39m",
      "\u001b[31mTypeError\u001b[39m                                 Traceback (most recent call last)",
      "\u001b[36mCell\u001b[39m\u001b[36m \u001b[39m\u001b[32mIn[158]\u001b[39m\u001b[32m, line 2\u001b[39m\n\u001b[32m      1\u001b[39m p1=Person()\n\u001b[32m----> \u001b[39m\u001b[32m2\u001b[39m \u001b[43mp1\u001b[49m\u001b[43m.\u001b[49m\u001b[43mintroduce\u001b[49m\u001b[43m(\u001b[49m\u001b[43m)\u001b[49m\n",
      "\u001b[31mTypeError\u001b[39m: Person.introduce() takes 0 positional arguments but 1 was given"
     ]
    }
   ],
   "source": [
    "p1=Person()\n",
    "p1.introduce()"
   ]
  },
  {
   "cell_type": "markdown",
   "id": "f05b2b35",
   "metadata": {},
   "source": [
    "NoTE: self work simmiliar to this keyword"
   ]
  },
  {
   "cell_type": "code",
   "execution_count": null,
   "id": "4fb9d7b6",
   "metadata": {},
   "outputs": [],
   "source": [
    "class Person:\n",
    "    def introduce(self):\n",
    "        print(\"hi! i am a person\")"
   ]
  },
  {
   "cell_type": "code",
   "execution_count": null,
   "id": "8043473c",
   "metadata": {},
   "outputs": [
    {
     "name": "stdout",
     "output_type": "stream",
     "text": [
      "hi! i am a person\n"
     ]
    }
   ],
   "source": [
    "p1=Person()\n",
    "p1.introduce()"
   ]
  },
  {
   "cell_type": "code",
   "execution_count": null,
   "id": "8d5a0f56",
   "metadata": {},
   "outputs": [],
   "source": [
    "class Person:\n",
    "    def introduce(self):\n",
    "        print(self)\n",
    "        print(f\"hi! i am {self.name}. My age is {self.age}\")"
   ]
  },
  {
   "cell_type": "code",
   "execution_count": null,
   "id": "41674de6",
   "metadata": {},
   "outputs": [],
   "source": [
    "p1=Person()\n",
    "p1.name=\"Shubham\"\n",
    "p1.age=28"
   ]
  },
  {
   "cell_type": "code",
   "execution_count": null,
   "id": "dcc374e7",
   "metadata": {},
   "outputs": [
    {
     "name": "stdout",
     "output_type": "stream",
     "text": [
      "<__main__.Person object at 0x000001FBF03A4B90>\n",
      "hi! i am Shubham. My age is 28\n"
     ]
    }
   ],
   "source": [
    "p1.introduce()"
   ]
  },
  {
   "cell_type": "code",
   "execution_count": null,
   "id": "20477410",
   "metadata": {},
   "outputs": [
    {
     "name": "stdout",
     "output_type": "stream",
     "text": [
      "<__main__.Person object at 0x000001FBF03336F0>\n"
     ]
    },
    {
     "ename": "AttributeError",
     "evalue": "'Person' object has no attribute 'age'",
     "output_type": "error",
     "traceback": [
      "\u001b[31m---------------------------------------------------------------------------\u001b[39m",
      "\u001b[31mAttributeError\u001b[39m                            Traceback (most recent call last)",
      "\u001b[36mCell\u001b[39m\u001b[36m \u001b[39m\u001b[32mIn[17]\u001b[39m\u001b[32m, line 3\u001b[39m\n\u001b[32m      1\u001b[39m p2=Person()\n\u001b[32m      2\u001b[39m p2.name=\u001b[33m'\u001b[39m\u001b[33mruchi\u001b[39m\u001b[33m'\u001b[39m\n\u001b[32m----> \u001b[39m\u001b[32m3\u001b[39m \u001b[43mp2\u001b[49m\u001b[43m.\u001b[49m\u001b[43mintroduce\u001b[49m\u001b[43m(\u001b[49m\u001b[43m)\u001b[49m \n",
      "\u001b[36mCell\u001b[39m\u001b[36m \u001b[39m\u001b[32mIn[11]\u001b[39m\u001b[32m, line 4\u001b[39m, in \u001b[36mPerson.introduce\u001b[39m\u001b[34m(self)\u001b[39m\n\u001b[32m      2\u001b[39m \u001b[38;5;28;01mdef\u001b[39;00m\u001b[38;5;250m \u001b[39m\u001b[34mintroduce\u001b[39m(\u001b[38;5;28mself\u001b[39m):\n\u001b[32m      3\u001b[39m     \u001b[38;5;28mprint\u001b[39m(\u001b[38;5;28mself\u001b[39m)\n\u001b[32m----> \u001b[39m\u001b[32m4\u001b[39m     \u001b[38;5;28mprint\u001b[39m(\u001b[33mf\u001b[39m\u001b[33m\"\u001b[39m\u001b[33mhi! i am \u001b[39m\u001b[38;5;132;01m{\u001b[39;00m\u001b[38;5;28mself\u001b[39m.name\u001b[38;5;132;01m}\u001b[39;00m\u001b[33m. My age is \u001b[39m\u001b[38;5;132;01m{\u001b[39;00m\u001b[38;5;28;43mself\u001b[39;49m\u001b[43m.\u001b[49m\u001b[43mage\u001b[49m\u001b[38;5;132;01m}\u001b[39;00m\u001b[33m\"\u001b[39m)\n",
      "\u001b[31mAttributeError\u001b[39m: 'Person' object has no attribute 'age'"
     ]
    }
   ],
   "source": [
    "p2=Person()\n",
    "p2.name='ruchi'\n",
    "p2.introduce() "
   ]
  },
  {
   "cell_type": "code",
   "execution_count": null,
   "id": "f1067f72",
   "metadata": {},
   "outputs": [],
   "source": [
    "class Person:\n",
    "    def __init__(self):\n",
    "        self.name='xyz'\n",
    "        self.age=-1\n",
    "    def introduce(self):\n",
    "        print(self)\n",
    "        print(f\"hi! i am {self.name}. My age is {self.age}\")"
   ]
  },
  {
   "cell_type": "code",
   "execution_count": null,
   "id": "9b1ed316",
   "metadata": {},
   "outputs": [
    {
     "name": "stdout",
     "output_type": "stream",
     "text": [
      "<__main__.Person object at 0x000001FBF0365160>\n",
      "hi! i am ruchi. My age is -1\n"
     ]
    }
   ],
   "source": [
    "p2=Person()\n",
    "p2.name='ruchi'\n",
    "p2.introduce() "
   ]
  },
  {
   "cell_type": "code",
   "execution_count": null,
   "id": "77bdde82",
   "metadata": {},
   "outputs": [],
   "source": [
    "class Person:\n",
    "    def __init__(self,name='xyz',age=-1):\n",
    "        self.name=name\n",
    "        self.age=age\n",
    "    def introduce(self):\n",
    "        print(self)\n",
    "        print(f\"hi! i am {self.name}. My age is {self.age}\")"
   ]
  },
  {
   "cell_type": "code",
   "execution_count": null,
   "id": "2a4ff468",
   "metadata": {},
   "outputs": [
    {
     "name": "stdout",
     "output_type": "stream",
     "text": [
      "<__main__.Person object at 0x000001FBF0365D30>\n",
      "hi! i am ruchi. My age is -1\n"
     ]
    }
   ],
   "source": [
    "p2=Person('ruchi')\n",
    "p2.introduce() "
   ]
  },
  {
   "cell_type": "code",
   "execution_count": null,
   "id": "221ce421",
   "metadata": {},
   "outputs": [],
   "source": [
    "class Person:\n",
    "    def __init__(self,name = 'xyz',age=-1):\n",
    "        self.name = name\n",
    "        self.age = age\n",
    "    \n",
    "    def introduce(s):\n",
    "        s.y = 'y'\n",
    "        print(f\"Hi!! I am {s.name}. My age is {s.age}\")"
   ]
  },
  {
   "cell_type": "code",
   "execution_count": null,
   "id": "41fbc556",
   "metadata": {},
   "outputs": [
    {
     "name": "stdout",
     "output_type": "stream",
     "text": [
      "Hi!! I am ruchi. My age is 28\n"
     ]
    },
    {
     "data": {
      "text/plain": [
       "'y'"
      ]
     },
     "execution_count": 32,
     "metadata": {},
     "output_type": "execute_result"
    }
   ],
   "source": [
    "p=Person('ruchi',28)\n",
    "p.introduce()\n",
    "p.y"
   ]
  },
  {
   "cell_type": "code",
   "execution_count": null,
   "id": "14c6ad61",
   "metadata": {},
   "outputs": [
    {
     "name": "stdout",
     "output_type": "stream",
     "text": [
      "Hi!! I am ruchi. My age is 28\n"
     ]
    }
   ],
   "source": [
    "Person.introduce(p)"
   ]
  },
  {
   "cell_type": "code",
   "execution_count": null,
   "id": "02357797",
   "metadata": {},
   "outputs": [
    {
     "data": {
      "text/plain": [
       "True"
      ]
     },
     "execution_count": 34,
     "metadata": {},
     "output_type": "execute_result"
    }
   ],
   "source": [
    "a=10\n",
    "isinstance(a,int)"
   ]
  },
  {
   "cell_type": "code",
   "execution_count": null,
   "id": "a47ef1a6",
   "metadata": {},
   "outputs": [],
   "source": [
    "class Dog:\n",
    "    tail=1\n",
    "    tricks=[]\n",
    "    def __init__(self,name=\"xyz\",breed=\"none\"):\n",
    "        self.name=name\n",
    "        self.breed=breed\n",
    "    def bark(self):\n",
    "        print(f\"bhoo bhoo!!, My name is {self.name} ans i am {self.breed}\")"
   ]
  },
  {
   "cell_type": "code",
   "execution_count": null,
   "id": "2b927951",
   "metadata": {},
   "outputs": [
    {
     "name": "stdout",
     "output_type": "stream",
     "text": [
      "bhoo bhoo!!, My name is tillu ans i am german sphepard\n"
     ]
    }
   ],
   "source": [
    "d1=Dog(\"tillu\",\"german sphepard\")\n",
    "d1.bark()"
   ]
  },
  {
   "cell_type": "code",
   "execution_count": null,
   "id": "89c1a4ef",
   "metadata": {},
   "outputs": [
    {
     "name": "stdout",
     "output_type": "stream",
     "text": [
      "bhoo bhoo!!, My name is mico ans i am labra\n"
     ]
    }
   ],
   "source": [
    "d2=Dog(\"mico\",\"labra\")\n",
    "d2.bark()"
   ]
  },
  {
   "cell_type": "code",
   "execution_count": null,
   "id": "43d69f62",
   "metadata": {},
   "outputs": [
    {
     "data": {
      "text/plain": [
       "1"
      ]
     },
     "execution_count": 64,
     "metadata": {},
     "output_type": "execute_result"
    }
   ],
   "source": [
    "d1.tail"
   ]
  },
  {
   "cell_type": "code",
   "execution_count": null,
   "id": "b1d37783",
   "metadata": {},
   "outputs": [
    {
     "data": {
      "text/plain": [
       "1"
      ]
     },
     "execution_count": 65,
     "metadata": {},
     "output_type": "execute_result"
    }
   ],
   "source": [
    "d2.tail"
   ]
  },
  {
   "cell_type": "code",
   "execution_count": null,
   "id": "79e619fa",
   "metadata": {},
   "outputs": [],
   "source": [
    "d1.tail=3"
   ]
  },
  {
   "cell_type": "markdown",
   "id": "8f2df0ec",
   "metadata": {},
   "source": [
    "NOTE; d1 n tail m changes kre to vo object d1 m object banake value change ho jayegi jabki d2 m koi effect nahi padega kyuki d2 main koi tail  name ki object nahi hai or jab d2 tail ko excess krega to vo Dog class se hi lega.\n",
    "but agar ham d1 ko phirse call krenge to main chnage value jo d1 m store hai object ki vo show krega."
   ]
  },
  {
   "cell_type": "code",
   "execution_count": null,
   "id": "e2f8c5e2",
   "metadata": {},
   "outputs": [
    {
     "data": {
      "text/plain": [
       "1"
      ]
     },
     "execution_count": 67,
     "metadata": {},
     "output_type": "execute_result"
    }
   ],
   "source": [
    "d2.tail"
   ]
  },
  {
   "cell_type": "code",
   "execution_count": null,
   "id": "980bc370",
   "metadata": {},
   "outputs": [
    {
     "name": "stdout",
     "output_type": "stream",
     "text": [
      "3\n"
     ]
    }
   ],
   "source": [
    "print(d1.tail)"
   ]
  },
  {
   "cell_type": "code",
   "execution_count": null,
   "id": "b62eb0ef",
   "metadata": {},
   "outputs": [
    {
     "data": {
      "text/plain": [
       "[]"
      ]
     },
     "execution_count": 69,
     "metadata": {},
     "output_type": "execute_result"
    }
   ],
   "source": [
    "d1.tricks"
   ]
  },
  {
   "cell_type": "code",
   "execution_count": null,
   "id": "cf5ac33c",
   "metadata": {},
   "outputs": [],
   "source": [
    "d1.tricks.append('Sit')\n",
    "d2.tricks.append('Stand')\n",
    "Dog.tricks.append('HandShake')"
   ]
  },
  {
   "cell_type": "code",
   "execution_count": null,
   "id": "33abce1b",
   "metadata": {},
   "outputs": [
    {
     "name": "stdout",
     "output_type": "stream",
     "text": [
      "['Sit', 'Stand', 'HandShake']\n",
      "['Sit', 'Stand', 'HandShake']\n"
     ]
    }
   ],
   "source": [
    "print(d1.tricks)\n",
    "print(d2.tricks)"
   ]
  },
  {
   "cell_type": "code",
   "execution_count": null,
   "id": "e1747239",
   "metadata": {},
   "outputs": [],
   "source": [
    "d1.tricks = []\n",
    "d1.tricks.append('Sit')\n",
    "d2.tricks.append('Stand')\n",
    "Dog.tricks.append('HandShake')"
   ]
  },
  {
   "cell_type": "code",
   "execution_count": null,
   "id": "685d75ba",
   "metadata": {},
   "outputs": [
    {
     "name": "stdout",
     "output_type": "stream",
     "text": [
      "['Sit']\n",
      "['Stand', 'HandShake']\n"
     ]
    }
   ],
   "source": [
    "print(d1.tricks)\n",
    "print(d2.tricks)"
   ]
  },
  {
   "cell_type": "markdown",
   "id": "3638aaf5",
   "metadata": {},
   "source": [
    "INHERITANCE : jisme child class apni properties k sath sath parent class ki property ko bhi excess kr skti h uske feature inherit krne k liye.\n",
    "But parent class child class ki property inherit nahi kr skte hai.\n",
    "\n",
    "-> Reuse of code\n",
    "-> polymorphism : same name but different properties"
   ]
  },
  {
   "cell_type": "code",
   "execution_count": null,
   "id": "95564371",
   "metadata": {},
   "outputs": [],
   "source": [
    "class Person:\n",
    "    def __init__(self,name = 'xyz',age=-1):\n",
    "        self.name = name\n",
    "        self.age = age\n",
    "    \n",
    "    def introduce(s):\n",
    "        print(f\"Hi!! I am {s.name}. My age is {s.age}\")"
   ]
  },
  {
   "cell_type": "code",
   "execution_count": null,
   "id": "776a8ed7",
   "metadata": {},
   "outputs": [],
   "source": [
    "class Student(Person):\n",
    "    def __init__(self, name, age, rollno):\n",
    "\n",
    "        # way 1 :\n",
    "        # self.name=name\n",
    "        # self.age=age\n",
    "\n",
    "        # way 2\n",
    "        # super().__init__(name,age)\n",
    "\n",
    "        #way 3\n",
    "        Person.__init__(self,name,age)\n",
    "\n",
    "        self.rollno=rollno\n",
    "\n",
    "    def introduce(self):\n",
    "\n",
    "        # this is use to print the indroduce function of parent class\n",
    "        super().introduce()\n",
    "        print(f\"hii, my name is {self.name}. My rollno is {self.rollno}. My age is {self.age}\")"
   ]
  },
  {
   "cell_type": "markdown",
   "id": "0edc2fec",
   "metadata": {},
   "source": [
    "NOTE: magar ham introduce() function Student class m denge to vo usse parent class Person main jake nahi dhundega or child class se hi print krwayega. \n",
    "This concept is called overriding."
   ]
  },
  {
   "cell_type": "code",
   "execution_count": null,
   "id": "11ea632e",
   "metadata": {},
   "outputs": [
    {
     "name": "stdout",
     "output_type": "stream",
     "text": [
      "Hi!! I am arnav. My age is 20\n",
      "hii, my name is arnav. My rollno is 100. My age is 20\n"
     ]
    }
   ],
   "source": [
    "s1=Student('arnav',20,100)\n",
    "s1.introduce()"
   ]
  },
  {
   "cell_type": "code",
   "execution_count": null,
   "id": "b2efe2e5",
   "metadata": {},
   "outputs": [
    {
     "data": {
      "text/plain": [
       "100"
      ]
     },
     "execution_count": 105,
     "metadata": {},
     "output_type": "execute_result"
    }
   ],
   "source": [
    "s1.rollno"
   ]
  },
  {
   "cell_type": "code",
   "execution_count": null,
   "id": "f0f2ea4c",
   "metadata": {},
   "outputs": [],
   "source": [
    "def fn(p):\n",
    "    p.introduce()"
   ]
  },
  {
   "cell_type": "code",
   "execution_count": null,
   "id": "ae8d1dbd",
   "metadata": {},
   "outputs": [],
   "source": [
    "p1=Person(\"shubham\",20)\n",
    "s1=Student(\"arnav\",20,100)"
   ]
  },
  {
   "cell_type": "code",
   "execution_count": null,
   "id": "f1183fb4",
   "metadata": {},
   "outputs": [
    {
     "name": "stdout",
     "output_type": "stream",
     "text": [
      "Hi!! I am shubham. My age is 20\n"
     ]
    }
   ],
   "source": [
    "fn(p1)"
   ]
  },
  {
   "cell_type": "code",
   "execution_count": null,
   "id": "425daae8",
   "metadata": {},
   "outputs": [
    {
     "name": "stdout",
     "output_type": "stream",
     "text": [
      "Hi!! I am arnav. My age is 20\n",
      "hii, my name is arnav. My rollno is 100. My age is 20\n"
     ]
    }
   ],
   "source": [
    "fn(s1)"
   ]
  },
  {
   "cell_type": "markdown",
   "id": "8985406b",
   "metadata": {},
   "source": [
    "__len__ and __add__ are dunder in the class\n",
    "\n",
    "for all dunders : dir(<data_type>)"
   ]
  },
  {
   "cell_type": "code",
   "execution_count": 160,
   "id": "ab0b46a9",
   "metadata": {},
   "outputs": [],
   "source": [
    "class Car:\n",
    "    def __init__(self,model,speed,milage):\n",
    "        self.model=model\n",
    "        self.speed=speed\n",
    "        self.milage=milage\n",
    "    \n",
    "    def __len__(self):\n",
    "        print(\"in length dunder\")\n",
    "        return self.milage\n",
    "    \n",
    "    def __add__(self,oth):\n",
    "        return Car(self.model,oth.speed,self.milage + oth.milage)\n",
    "        # return 100\n",
    "\n",
    "    def __str__(self):\n",
    "        return f\"model : {self.model}, speed : {self.speed}, milage : {self.milage}\"\n",
    "    \n",
    "    def __gt__(self,oth):\n",
    "        return self.speed>oth.speed"
   ]
  },
  {
   "cell_type": "code",
   "execution_count": 161,
   "id": "594e9142",
   "metadata": {},
   "outputs": [],
   "source": [
    "c1=Car(\"Roles Royce\",200,30)\n",
    "c2=Car(\"Defender\",180,40)\n",
    "c3=Car(\"Porce\",250,20)"
   ]
  },
  {
   "cell_type": "code",
   "execution_count": null,
   "id": "affd96d0",
   "metadata": {},
   "outputs": [
    {
     "data": {
      "text/plain": [
       "5"
      ]
     },
     "execution_count": 137,
     "metadata": {},
     "output_type": "execute_result"
    }
   ],
   "source": [
    "l=[1,2,3,4,5]\n",
    "len(l)"
   ]
  },
  {
   "cell_type": "code",
   "execution_count": null,
   "id": "18319236",
   "metadata": {},
   "outputs": [
    {
     "name": "stdout",
     "output_type": "stream",
     "text": [
      "in length dunder\n"
     ]
    },
    {
     "data": {
      "text/plain": [
       "30"
      ]
     },
     "execution_count": 138,
     "metadata": {},
     "output_type": "execute_result"
    }
   ],
   "source": [
    "len(c1)"
   ]
  },
  {
   "cell_type": "code",
   "execution_count": null,
   "id": "9ca5cda0",
   "metadata": {},
   "outputs": [
    {
     "data": {
      "text/plain": [
       "[1, 2, 3, 4, 5, 6, 7, 8]"
      ]
     },
     "execution_count": 139,
     "metadata": {},
     "output_type": "execute_result"
    }
   ],
   "source": [
    "l1=[1,2,3,4]\n",
    "l2=[5,6,7,8]\n",
    "l3=l1+l2\n",
    "l3"
   ]
  },
  {
   "cell_type": "markdown",
   "id": "ffcded94",
   "metadata": {},
   "source": [
    "Triggers __add__\n",
    "\n",
    "New Car object is created:\n",
    "model = c1.model = \"Roles Royce\"\n",
    "speed = c2.speed = 180\n",
    "milage = c1.milage + c2.milage = 30 + 40 = 70"
   ]
  },
  {
   "cell_type": "code",
   "execution_count": 162,
   "id": "f2252b14",
   "metadata": {},
   "outputs": [],
   "source": [
    "c3=c1+c2\n",
    "# print(c3.model, c3.speed, c3.milage)"
   ]
  },
  {
   "cell_type": "code",
   "execution_count": 163,
   "id": "6626fdf0",
   "metadata": {},
   "outputs": [
    {
     "data": {
      "text/plain": [
       "<__main__.Car at 0x1fbf0d843e0>"
      ]
     },
     "execution_count": 163,
     "metadata": {},
     "output_type": "execute_result"
    }
   ],
   "source": [
    "c3"
   ]
  },
  {
   "cell_type": "code",
   "execution_count": 164,
   "id": "a4202016",
   "metadata": {},
   "outputs": [
    {
     "name": "stdout",
     "output_type": "stream",
     "text": [
      "model : Roles Royce, speed : 180, milage : 70\n"
     ]
    }
   ],
   "source": [
    "print(c3)"
   ]
  },
  {
   "cell_type": "code",
   "execution_count": 165,
   "id": "84a44d6c",
   "metadata": {},
   "outputs": [
    {
     "data": {
      "text/plain": [
       "True"
      ]
     },
     "execution_count": 165,
     "metadata": {},
     "output_type": "execute_result"
    }
   ],
   "source": [
    "c1>c2"
   ]
  },
  {
   "cell_type": "code",
   "execution_count": 166,
   "id": "69e5e6e4",
   "metadata": {},
   "outputs": [
    {
     "data": {
      "text/plain": [
       "False"
      ]
     },
     "execution_count": 166,
     "metadata": {},
     "output_type": "execute_result"
    }
   ],
   "source": [
    "c1<c2"
   ]
  },
  {
   "cell_type": "code",
   "execution_count": 167,
   "id": "dbdb00e2",
   "metadata": {},
   "outputs": [],
   "source": [
    "# Single level inheritance\n",
    "class A:\n",
    "    pass\n",
    "class B(A):\n",
    "    pass"
   ]
  },
  {
   "cell_type": "code",
   "execution_count": 169,
   "id": "91c1f92f",
   "metadata": {},
   "outputs": [],
   "source": [
    "# multi level inheritance\n",
    "class A:\n",
    "    pass\n",
    "class B(A):\n",
    "    pass\n",
    "class c(B):\n",
    "    pass\n",
    "class D(c):\n",
    "    pass"
   ]
  },
  {
   "cell_type": "code",
   "execution_count": null,
   "id": "51375a81",
   "metadata": {},
   "outputs": [],
   "source": [
    "# multiple inheritance\n",
    "class A:\n",
    "    pass\n",
    "class B(A):\n",
    "    pass\n",
    "class C(A):\n",
    "    pass\n",
    "class D:\n",
    "    pass"
   ]
  },
  {
   "cell_type": "code",
   "execution_count": 170,
   "id": "f4d55141",
   "metadata": {},
   "outputs": [],
   "source": [
    "class A:\n",
    "    pass\n",
    "class B:\n",
    "    pass\n",
    "class C(A,B):\n",
    "    pass\n",
    "class D(C):\n",
    "    pass"
   ]
  },
  {
   "cell_type": "markdown",
   "id": "f272f9fe",
   "metadata": {},
   "source": [
    "mro: method resolution order"
   ]
  },
  {
   "cell_type": "code",
   "execution_count": 171,
   "id": "9ee9ddd3",
   "metadata": {},
   "outputs": [
    {
     "data": {
      "text/plain": [
       "[__main__.C, __main__.A, __main__.B, object]"
      ]
     },
     "execution_count": 171,
     "metadata": {},
     "output_type": "execute_result"
    }
   ],
   "source": [
    "C.mro()"
   ]
  },
  {
   "cell_type": "code",
   "execution_count": 172,
   "id": "c28c29ef",
   "metadata": {},
   "outputs": [
    {
     "data": {
      "text/plain": [
       "[__main__.D, __main__.C, __main__.A, __main__.B, object]"
      ]
     },
     "execution_count": 172,
     "metadata": {},
     "output_type": "execute_result"
    }
   ],
   "source": [
    "D.mro()"
   ]
  },
  {
   "cell_type": "code",
   "execution_count": 174,
   "id": "f9f6c3c8",
   "metadata": {},
   "outputs": [],
   "source": [
    "class A:\n",
    "    pass\n",
    "class B:\n",
    "    pass\n",
    "class C(A):\n",
    "    pass\n",
    "class D(B):\n",
    "    pass\n",
    "class E(C,D):\n",
    "    pass"
   ]
  },
  {
   "cell_type": "code",
   "execution_count": 175,
   "id": "2b48c81f",
   "metadata": {},
   "outputs": [
    {
     "data": {
      "text/plain": [
       "[__main__.E, __main__.C, __main__.A, __main__.D, __main__.B, object]"
      ]
     },
     "execution_count": 175,
     "metadata": {},
     "output_type": "execute_result"
    }
   ],
   "source": [
    "E.mro()"
   ]
  },
  {
   "cell_type": "code",
   "execution_count": 176,
   "id": "8219c173",
   "metadata": {},
   "outputs": [],
   "source": [
    "class A:\n",
    "    pass\n",
    "class B:\n",
    "    pass\n",
    "class C(A,B):\n",
    "    pass\n",
    "class D(B):\n",
    "    pass\n",
    "class E(C,D):\n",
    "    pass"
   ]
  },
  {
   "cell_type": "code",
   "execution_count": 177,
   "id": "cd8d4095",
   "metadata": {},
   "outputs": [
    {
     "data": {
      "text/plain": [
       "[__main__.E, __main__.C, __main__.A, __main__.D, __main__.B, object]"
      ]
     },
     "execution_count": 177,
     "metadata": {},
     "output_type": "execute_result"
    }
   ],
   "source": [
    "E.mro()"
   ]
  }
 ],
 "metadata": {
  "kernelspec": {
   "display_name": "Python 3",
   "language": "python",
   "name": "python3"
  },
  "language_info": {
   "codemirror_mode": {
    "name": "ipython",
    "version": 3
   },
   "file_extension": ".py",
   "mimetype": "text/x-python",
   "name": "python",
   "nbconvert_exporter": "python",
   "pygments_lexer": "ipython3",
   "version": "3.13.5"
  }
 },
 "nbformat": 4,
 "nbformat_minor": 5
}
